{
 "cells": [
  {
   "cell_type": "code",
   "execution_count": 1,
   "id": "cc489cc0-22fb-4e45-89b2-4be4b360b6d0",
   "metadata": {},
   "outputs": [],
   "source": [
    "import tensorflow as tf"
   ]
  },
  {
   "cell_type": "code",
   "execution_count": 2,
   "id": "6d7b23cc-cceb-45c2-8fd2-b888f23e41c3",
   "metadata": {},
   "outputs": [],
   "source": [
    "from env_tools import MLEnv"
   ]
  },
  {
   "cell_type": "code",
   "execution_count": 3,
   "id": "621acb6b-438f-4b51-89db-a4e5b42ea75b",
   "metadata": {},
   "outputs": [],
   "source": [
    "ml=MLEnv()"
   ]
  },
  {
   "cell_type": "code",
   "execution_count": 4,
   "id": "607fe819-d510-4a34-b8e3-9fe29248c9f7",
   "metadata": {},
   "outputs": [
    {
     "data": {
      "text/plain": [
       "'Darwin, Python 3.9.9 (conda), Jupyter-instance, Tensorflow 2.7.0 GPU (METAL)'"
      ]
     },
     "execution_count": 4,
     "metadata": {},
     "output_type": "execute_result"
    }
   ],
   "source": [
    "ml.describe()"
   ]
  },
  {
   "cell_type": "code",
   "execution_count": null,
   "id": "665e525d-0d32-410a-981f-494bd7d6736f",
   "metadata": {},
   "outputs": [],
   "source": [
    "dl = tf.config.experimental.get_device_details(tf.config.list_physical_devices('GPU')[0])['device_name']\n",
    "dl"
   ]
  },
  {
   "cell_type": "code",
   "execution_count": null,
   "id": "ab597c6e-768d-48eb-b33a-d17567b88297",
   "metadata": {},
   "outputs": [],
   "source": [
    "for d in dl:\n",
    "    print(d)\n",
    "    print(f\"device_type={d.device_type}, name={d.name}, details={tf.config.experimental.get_device_details(d)}\")"
   ]
  },
  {
   "cell_type": "code",
   "execution_count": null,
   "id": "5504ed98-00bf-48d7-a75a-6aa212d3c761",
   "metadata": {},
   "outputs": [],
   "source": [
    "tf.config.experimental.get_memory_info('GPU:0')"
   ]
  },
  {
   "cell_type": "code",
   "execution_count": null,
   "id": "1728152a-3838-405c-b62e-8583ac8b9c62",
   "metadata": {},
   "outputs": [],
   "source": [
    "# details={'compute_capability': (3, 7), 'device_name': 'Tesla K80'}"
   ]
  }
 ],
 "metadata": {
  "kernelspec": {
   "display_name": "Python 3 (ipykernel)",
   "language": "python",
   "name": "python3"
  },
  "language_info": {
   "codemirror_mode": {
    "name": "ipython",
    "version": 3
   },
   "file_extension": ".py",
   "mimetype": "text/x-python",
   "name": "python",
   "nbconvert_exporter": "python",
   "pygments_lexer": "ipython3",
   "version": "3.9.9"
  }
 },
 "nbformat": 4,
 "nbformat_minor": 5
}

{
 "cells": [
  {
   "cell_type": "code",
   "execution_count": null,
   "id": "4ee64338-a79b-4bf2-9cb3-4777545a3890",
   "metadata": {},
   "outputs": [],
   "source": [
    "from env_tools import MLEnv"
   ]
  },
  {
   "cell_type": "code",
   "execution_count": null,
   "id": "aee4ecf2-6c4c-4338-97dd-7512f85f7a56",
   "metadata": {},
   "outputs": [],
   "source": [
    "ml=MLEnv(platform='jax', accelerator='gpu')"
   ]
  },
  {
   "cell_type": "code",
   "execution_count": null,
   "id": "00a3323b-e3bc-44e2-a84e-287f0d63e6ca",
   "metadata": {},
   "outputs": [],
   "source": [
    "import logging\n",
    "logging.basicConfig(encoding='utf-8', level=logging.DEBUG)\n",
    "from Gutenberg_Dataset import Gutenberg_Dataset"
   ]
  },
  {
   "cell_type": "code",
   "execution_count": null,
   "id": "eab38dc3-a202-4a20-aa56-1ddb68999d36",
   "metadata": {},
   "outputs": [],
   "source": [
    "gd=Gutenberg_Dataset()\n",
    "gd.load_index()"
   ]
  },
  {
   "cell_type": "code",
   "execution_count": null,
   "id": "99a16c3a-0ced-47b7-b61a-7e346ac0a1e3",
   "metadata": {},
   "outputs": [],
   "source": [
    "gd.search?"
   ]
  },
  {
   "cell_type": "code",
   "execution_count": null,
   "id": "17c63d12-3cbf-47a6-ac73-3d72524f8f62",
   "metadata": {},
   "outputs": [],
   "source": [
    "gd.search({'author': 'kant', 'language': 'german'})"
   ]
  },
  {
   "cell_type": "code",
   "execution_count": null,
   "id": "4ab974b4-70a9-4f71-a032-128ad98a8ce6",
   "metadata": {},
   "outputs": [],
   "source": [
    "krv2=gd.load_book('38755')"
   ]
  },
  {
   "cell_type": "code",
   "execution_count": null,
   "id": "a06d2dd5-e8af-4683-a6e9-162f57d7b83d",
   "metadata": {},
   "outputs": [],
   "source": [
    "krv2.find('\\r\\n')"
   ]
  },
  {
   "cell_type": "code",
   "execution_count": null,
   "id": "9f7770f1-b75d-4fbc-b949-026d37f3ad05",
   "metadata": {},
   "outputs": [],
   "source": [
    "krv2f=gd.filter_text(krv2)"
   ]
  },
  {
   "cell_type": "code",
   "execution_count": null,
   "id": "7a53f34f-6cc4-4f01-a412-7ee985b16d61",
   "metadata": {},
   "outputs": [],
   "source": [
    "print(krv2f[:2000])\n",
    "print(krv2f[-15000:])"
   ]
  },
  {
   "cell_type": "code",
   "execution_count": null,
   "id": "9445361a-995b-4aa4-b991-7714aac1b0e2",
   "metadata": {},
   "outputs": [],
   "source": []
  }
 ],
 "metadata": {
  "kernelspec": {
   "display_name": "Python 3 (ipykernel)",
   "language": "python",
   "name": "python3"
  },
  "language_info": {
   "codemirror_mode": {
    "name": "ipython",
    "version": 3
   },
   "file_extension": ".py",
   "mimetype": "text/x-python",
   "name": "python",
   "nbconvert_exporter": "python",
   "pygments_lexer": "ipython3",
   "version": "3.9.9"
  }
 },
 "nbformat": 4,
 "nbformat_minor": 5
}

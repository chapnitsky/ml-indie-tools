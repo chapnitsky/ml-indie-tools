{
 "cells": [
  {
   "cell_type": "code",
   "execution_count": 1,
   "id": "d8570f4a-ae94-4c7d-8cfd-30397459d090",
   "metadata": {},
   "outputs": [],
   "source": [
    "%load_ext autoreload\n",
    "%autoreload 2"
   ]
  },
  {
   "cell_type": "code",
   "execution_count": 2,
   "id": "14a8e822-346d-4e6e-8885-d488055dc8c2",
   "metadata": {},
   "outputs": [],
   "source": [
    "import sys\n",
    "sys.path.append('../src/ml_indie_tools')  # Point to local module source"
   ]
  },
  {
   "cell_type": "code",
   "execution_count": 3,
   "id": "4ee64338-a79b-4bf2-9cb3-4777545a3890",
   "metadata": {},
   "outputs": [],
   "source": [
    "from env_tools import MLEnv"
   ]
  },
  {
   "cell_type": "code",
   "execution_count": 4,
   "id": "aee4ecf2-6c4c-4338-97dd-7512f85f7a56",
   "metadata": {},
   "outputs": [
    {
     "data": {
      "text/plain": [
       "'OS: Darwin, Python: 3.9.9 (Conda), Jupyter Notebook (no-ml-platform) '"
      ]
     },
     "execution_count": 4,
     "metadata": {},
     "output_type": "execute_result"
    }
   ],
   "source": [
    "ml=MLEnv(platform='jax', accelerator='gpu')\n",
    "ml.describe()"
   ]
  },
  {
   "cell_type": "code",
   "execution_count": 5,
   "id": "00a3323b-e3bc-44e2-a84e-287f0d63e6ca",
   "metadata": {},
   "outputs": [],
   "source": [
    "import logging\n",
    "logging.basicConfig(encoding='utf-8', level=logging.INFO)\n",
    "from Gutenberg_Dataset import Gutenberg_Dataset"
   ]
  },
  {
   "cell_type": "code",
   "execution_count": 6,
   "id": "eab38dc3-a202-4a20-aa56-1ddb68999d36",
   "metadata": {},
   "outputs": [
    {
     "name": "stderr",
     "output_type": "stream",
     "text": [
      "INFO:GutenbergLib:Gutenberg index read from local cache: gutenberg/gutenberg_index\n"
     ]
    }
   ],
   "source": [
    "gd=Gutenberg_Dataset()\n",
    "gd.load_index()"
   ]
  },
  {
   "cell_type": "code",
   "execution_count": 7,
   "id": "41c279fe-1fdd-4b1a-85c8-09c4e6b8fe78",
   "metadata": {},
   "outputs": [
    {
     "data": {
      "text/plain": [
       "\u001b[0;31mSignature:\u001b[0m \u001b[0mgd\u001b[0m\u001b[0;34m.\u001b[0m\u001b[0msearch\u001b[0m\u001b[0;34m(\u001b[0m\u001b[0msearch_dict\u001b[0m\u001b[0;34m)\u001b[0m\u001b[0;34m\u001b[0m\u001b[0;34m\u001b[0m\u001b[0m\n",
       "\u001b[0;31mDocstring:\u001b[0m\n",
       "Search for book record with key specific key values\n",
       "For a list of valid keys, use `get_record_keys()`\n",
       "Standard keys are: `ebook_id`, `author`, `language`, `title`\n",
       "\n",
       "*Note:* :func:`~Gutenberg_Dataset.Gutenberg_Dataset.load_index` needs to be called once before this function can be used.\n",
       "\n",
       "Example: `search({\"title\": [\"philosoph\",\"phenomen\",\"physic\",\"hermeneu\",\"logic\"], \"language\":\"english\"})`\n",
       "Find all books whose titles contain at least one of the keywords, language english. Search keys can either be\n",
       "search for a single keyword (e.g. english), or an array of keywords. \n",
       "\n",
       ":returns: list of records \n",
       "\u001b[0;31mFile:\u001b[0m      ~/gith/domschl/ml-indie-tools/src/ml_indie_tools/Gutenberg_Dataset.py\n",
       "\u001b[0;31mType:\u001b[0m      method\n"
      ]
     },
     "metadata": {},
     "output_type": "display_data"
    }
   ],
   "source": [
    "gd.search?"
   ]
  },
  {
   "cell_type": "code",
   "execution_count": 8,
   "id": "1e17f0c8-3e05-42f3-94c5-9fb3f485f220",
   "metadata": {},
   "outputs": [],
   "source": [
    "sl=gd.search({'title': 'physic', 'language': 'english'})"
   ]
  },
  {
   "cell_type": "code",
   "execution_count": 9,
   "id": "406c1e93-fc9c-4ea9-be6c-850ea7a53261",
   "metadata": {},
   "outputs": [
    {
     "name": "stderr",
     "output_type": "stream",
     "text": [
      "INFO:GutenbergLib:Book read from cache at gutenberg/66406.txt\n",
      "INFO:GutenbergLib:Book read from cache at gutenberg/65359.txt\n",
      "INFO:GutenbergLib:Book read from cache at gutenberg/65260.txt\n",
      "INFO:GutenbergLib:Book read from cache at gutenberg/64097.txt\n",
      "INFO:GutenbergLib:Book read from cache at gutenberg/62886.txt\n",
      "INFO:GutenbergLib:Book read from cache at gutenberg/62557.txt\n",
      "INFO:GutenbergLib:Book read from cache at gutenberg/61652.txt\n",
      "INFO:GutenbergLib:Book read from cache at gutenberg/60212.txt\n",
      "INFO:GutenbergLib:Book read from cache at gutenberg/56803.txt\n",
      "INFO:GutenbergLib:Book read from cache at gutenberg/52869.txt\n",
      "INFO:GutenbergLib:Book read from cache at gutenberg/51897.txt\n",
      "INFO:GutenbergLib:Book read from cache at gutenberg/51126.txt\n",
      "INFO:GutenbergLib:Book read from cache at gutenberg/49331.txt\n",
      "INFO:GutenbergLib:Book read from cache at gutenberg/49222.txt\n",
      "INFO:GutenbergLib:Book read from cache at gutenberg/48028.txt\n",
      "INFO:GutenbergLib:Book read from cache at gutenberg/46711.txt\n",
      "INFO:GutenbergLib:Book read from cache at gutenberg/42613.txt\n",
      "INFO:GutenbergLib:Book read from cache at gutenberg/41707.txt\n",
      "INFO:GutenbergLib:Book read from cache at gutenberg/41595.txt\n",
      "INFO:GutenbergLib:Book read from cache at gutenberg/40175.txt\n",
      "INFO:GutenbergLib:Book downloaded from http://www.mirrorservice.org/sites/ftp.ibiblio.org/pub/docs/books/gutenberg/3/9/0/1/39017/39017-pdf.pdf\n",
      "ERROR:GutenbergLib:Ebook 39017.pdf is only available in PDF format, this is not supported.\n",
      "ERROR:GutenbergLib:Download of book 39017, Eight Lectures on Theoretical Physics failed!\n",
      "INFO:GutenbergLib:Book read from cache at gutenberg/38583.txt\n",
      "INFO:GutenbergLib:Book read from cache at gutenberg/29917.txt\n",
      "INFO:GutenbergLib:Book downloaded from http://www.mirrorservice.org/sites/ftp.ibiblio.org/pub/docs/books/gutenberg/2/6/2/6/26262/26262-pdf.pdf\n",
      "ERROR:GutenbergLib:Ebook 26262.pdf is only available in PDF format, this is not supported.\n",
      "ERROR:GutenbergLib:Download of book 26262, Utility of Quaternions in Physics failed!\n",
      "INFO:GutenbergLib:Book read from cache at gutenberg/24883.txt\n",
      "INFO:GutenbergLib:Book read from cache at gutenberg/24001.txt\n",
      "INFO:GutenbergLib:Book read from cache at gutenberg/15207.txt\n",
      "INFO:GutenbergLib:Book read from cache at gutenberg/6481.txt\n",
      "INFO:GutenbergLib:Book read from cache at gutenberg/5684.txt\n",
      "INFO:GutenbergLib:Book read from cache at gutenberg/5682.txt\n",
      "INFO:GutenbergLib:Book read from cache at gutenberg/4350.txt\n"
     ]
    }
   ],
   "source": [
    "sl2=gd.insert_book_texts(sl)"
   ]
  },
  {
   "cell_type": "code",
   "execution_count": null,
   "id": "39af153d-6ea2-4ce1-9e0d-91923f04565e",
   "metadata": {},
   "outputs": [],
   "source": [
    "from Text_Dataset import *"
   ]
  },
  {
   "cell_type": "code",
   "execution_count": null,
   "id": "27252f30-fbad-426c-a110-18b9cdd32456",
   "metadata": {},
   "outputs": [],
   "source": [
    "tl = Text_Dataset(sl2)"
   ]
  },
  {
   "cell_type": "code",
   "execution_count": null,
   "id": "5a1e3c51-00ca-4a3c-a504-fbed2ada0ff8",
   "metadata": {},
   "outputs": [],
   "source": [
    "len(tl.text_list)"
   ]
  },
  {
   "cell_type": "code",
   "execution_count": null,
   "id": "69805c0b-3584-45e1-bd2c-0032822eb2cd",
   "metadata": {},
   "outputs": [],
   "source": [
    "for i in range(3):\n",
    "    idx, txt = tl.get_random_sample(80, weighted=False)\n",
    "    print(tl.text_list[idx]['title'])\n",
    "    print(txt)\n",
    "    print()"
   ]
  },
  {
   "cell_type": "code",
   "execution_count": null,
   "id": "3fbfee4b-4458-42a8-bc36-420dfbf14352",
   "metadata": {},
   "outputs": [],
   "source": [
    "print(tl.text_list[idx]['title'])\n",
    "print(txt)\n",
    "    "
   ]
  },
  {
   "cell_type": "code",
   "execution_count": null,
   "id": "48862f3c-1acd-4b6b-a999-342033d3ab3f",
   "metadata": {},
   "outputs": [],
   "source": [
    "tl.tcum[:10]"
   ]
  },
  {
   "cell_type": "code",
   "execution_count": null,
   "id": "ef34dae3-87f8-4538-9ad4-37959016b784",
   "metadata": {},
   "outputs": [],
   "source": [
    "tl.source_highlight(\"Wenn wir irgendwas schreiben, daß Teil aus der Source enthält, so wie: Das ist ihr Wahlspruch, dann erfolgt ein Highlight\")"
   ]
  },
  {
   "cell_type": "code",
   "execution_count": null,
   "id": "04839d8d-1499-46f8-96e7-d7a205df71cd",
   "metadata": {},
   "outputs": [],
   "source": [
    "tl.source_highlight(\"If we write anything that contains parts of the sources, like: that is their motto, then a highlight will be applied.\")"
   ]
  },
  {
   "cell_type": "code",
   "execution_count": null,
   "id": "f3cb766b-1860-427d-bc72-1e9fcf784920",
   "metadata": {},
   "outputs": [],
   "source": [
    "test_text=\"Das ist ja mal ein Argument!\"\n",
    "tokenizer='word'\n",
    "st = tl.tokenize(test_text, tokenizer=tokenizer)\n",
    "st"
   ]
  },
  {
   "cell_type": "code",
   "execution_count": null,
   "id": "489412be-911f-48d8-84df-70e3949a69c1",
   "metadata": {},
   "outputs": [],
   "source": [
    "el=tl.encode(test_text, tokenizer=tokenizer)\n",
    "el"
   ]
  },
  {
   "cell_type": "code",
   "execution_count": null,
   "id": "45249215-fba0-4643-a6e1-a9ab782ce899",
   "metadata": {},
   "outputs": [],
   "source": [
    "tl.decode(el, tokenizer=tokenizer)"
   ]
  },
  {
   "cell_type": "markdown",
   "id": "875bd979-7002-4118-9f37-9bcbf0f4b609",
   "metadata": {},
   "source": [
    "## Pandas and Huggingface datasets\n",
    "\n",
    "`!pip install transformer` or `conda install transformers`\n",
    "`!pip install datasets` or `conda install datasets`"
   ]
  },
  {
   "cell_type": "code",
   "execution_count": null,
   "id": "6349ce59-dc19-41ff-a25f-0ca50a9e777a",
   "metadata": {},
   "outputs": [],
   "source": [
    "sl2[1].keys()"
   ]
  },
  {
   "cell_type": "code",
   "execution_count": null,
   "id": "4d89c3c7-e9dc-4bd7-90ed-afd08d3de692",
   "metadata": {},
   "outputs": [],
   "source": [
    "import pandas as pd"
   ]
  },
  {
   "cell_type": "code",
   "execution_count": null,
   "id": "0ad67b7c-a814-4203-af16-50c871e44e4a",
   "metadata": {},
   "outputs": [],
   "source": [
    "df = pd.DataFrame(sl2)"
   ]
  },
  {
   "cell_type": "code",
   "execution_count": null,
   "id": "11deaf3d-ebee-43ff-bc58-238d3d657234",
   "metadata": {},
   "outputs": [],
   "source": [
    "df"
   ]
  },
  {
   "cell_type": "code",
   "execution_count": null,
   "id": "1c0a64c4-e566-45cb-8896-4e6605b5e41d",
   "metadata": {},
   "outputs": [],
   "source": []
  }
 ],
 "metadata": {
  "kernelspec": {
   "display_name": "Python 3 (ipykernel)",
   "language": "python",
   "name": "python3"
  },
  "language_info": {
   "codemirror_mode": {
    "name": "ipython",
    "version": 3
   },
   "file_extension": ".py",
   "mimetype": "text/x-python",
   "name": "python",
   "nbconvert_exporter": "python",
   "pygments_lexer": "ipython3",
   "version": "3.9.9"
  }
 },
 "nbformat": 4,
 "nbformat_minor": 5
}

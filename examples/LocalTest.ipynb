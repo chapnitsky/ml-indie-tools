{
 "cells": [
  {
   "cell_type": "code",
   "execution_count": 1,
   "id": "14a8e822-346d-4e6e-8885-d488055dc8c2",
   "metadata": {},
   "outputs": [],
   "source": [
    "import sys\n",
    "sys.path.append('../src/ml_indie_tools')  # Point to local module source"
   ]
  },
  {
   "cell_type": "code",
   "execution_count": 2,
   "id": "4ee64338-a79b-4bf2-9cb3-4777545a3890",
   "metadata": {},
   "outputs": [],
   "source": [
    "from env_tools import MLEnv"
   ]
  },
  {
   "cell_type": "code",
   "execution_count": 3,
   "id": "aee4ecf2-6c4c-4338-97dd-7512f85f7a56",
   "metadata": {},
   "outputs": [
    {
     "data": {
      "text/plain": [
       "'OS: Darwin, Python: 3.9.9 (Conda), Jupyter Notebook (no-ml-platform) '"
      ]
     },
     "execution_count": 3,
     "metadata": {},
     "output_type": "execute_result"
    }
   ],
   "source": [
    "ml=MLEnv(platform='jax', accelerator='gpu')\n",
    "ml.describe()"
   ]
  },
  {
   "cell_type": "code",
   "execution_count": 4,
   "id": "00a3323b-e3bc-44e2-a84e-287f0d63e6ca",
   "metadata": {},
   "outputs": [],
   "source": [
    "import logging\n",
    "logging.basicConfig(encoding='utf-8', level=logging.DEBUG)\n",
    "from Gutenberg_Dataset import Gutenberg_Dataset"
   ]
  },
  {
   "cell_type": "code",
   "execution_count": 5,
   "id": "eab38dc3-a202-4a20-aa56-1ddb68999d36",
   "metadata": {},
   "outputs": [
    {
     "name": "stderr",
     "output_type": "stream",
     "text": [
      "DEBUG:GutenbergLib:Cache timestamp read.\n",
      "INFO:GutenbergLib:Gutenberg index read from local cache: gutenberg/gutenberg_index\n"
     ]
    }
   ],
   "source": [
    "gd=Gutenberg_Dataset()\n",
    "gd.load_index()"
   ]
  },
  {
   "cell_type": "code",
   "execution_count": 6,
   "id": "41c279fe-1fdd-4b1a-85c8-09c4e6b8fe78",
   "metadata": {},
   "outputs": [
    {
     "data": {
      "text/plain": [
       "\u001b[0;31mSignature:\u001b[0m \u001b[0mgd\u001b[0m\u001b[0;34m.\u001b[0m\u001b[0msearch\u001b[0m\u001b[0;34m(\u001b[0m\u001b[0msearch_dict\u001b[0m\u001b[0;34m)\u001b[0m\u001b[0;34m\u001b[0m\u001b[0;34m\u001b[0m\u001b[0m\n",
       "\u001b[0;31mDocstring:\u001b[0m\n",
       "Search for book record with key specific key values\n",
       "For a list of valid keys, use `get_record_keys()`\n",
       "Standard keys are: `ebook_id`, `author`, `language`, `title`\n",
       "\n",
       "*Note:* :func:`~Gutenberg_Dataset.Gutenberg_Dataset.load_index` needs to be called once before this function can be used.\n",
       "\n",
       "Example: `search({\"title\": [\"philosoph\",\"phenomen\",\"physic\",\"hermeneu\",\"logic\"], \"language\":\"english\"})`\n",
       "Find all books whose titles contain at least one of the keywords, language english. Search keys can either be\n",
       "search for a single keyword (e.g. english), or an array of keywords. \n",
       "\n",
       ":returns: list of records \n",
       "\u001b[0;31mFile:\u001b[0m      ~/gith/domschl/ml-indie-tools/src/ml_indie_tools/Gutenberg_Dataset.py\n",
       "\u001b[0;31mType:\u001b[0m      method\n"
      ]
     },
     "metadata": {},
     "output_type": "display_data"
    }
   ],
   "source": [
    "gd.search?"
   ]
  },
  {
   "cell_type": "code",
   "execution_count": 7,
   "id": "1e17f0c8-3e05-42f3-94c5-9fb3f485f220",
   "metadata": {},
   "outputs": [],
   "source": [
    "sl=gd.search({'title': 'kritik', 'author': 'kant', 'language': 'german'})"
   ]
  },
  {
   "cell_type": "code",
   "execution_count": 8,
   "id": "406c1e93-fc9c-4ea9-be6c-850ea7a53261",
   "metadata": {},
   "outputs": [
    {
     "name": "stderr",
     "output_type": "stream",
     "text": [
      "INFO:GutenbergLib:Book read from cache at gutenberg/6343.txt\n",
      "DEBUG:GutenbergLib:Start-token [START OF THE PROJECT GUTENBERG] found at position 1260\n",
      "DEBUG:GutenbergLib:Near-Start-token [, prepared by] found at position 119\n",
      "DEBUG:GutenbergLib:Trying extra skipping (2) for 28...\n",
      "DEBUG:GutenbergLib:Additionally shortened start by 152 chars\n",
      "DEBUG:GutenbergLib:End-token [*** END OF THE PROJECT GUTENBERG] found at pos 1284699\n",
      "INFO:GutenbergLib:Book read from cache at gutenberg/6342.txt\n",
      "DEBUG:GutenbergLib:Start-token [START OF THE PROJECT GUTENBERG] found at position 1260\n",
      "DEBUG:GutenbergLib:Near-Start-token [, prepared by] found at position 119\n",
      "DEBUG:GutenbergLib:Trying extra skipping (2) for 28...\n",
      "DEBUG:GutenbergLib:Additionally shortened start by 152 chars\n",
      "DEBUG:GutenbergLib:End-token [*** END OF THE PROJECT GUTENBERG] found at pos 1220647\n"
     ]
    }
   ],
   "source": [
    "sl2=gd.insert_book_texts(sl)"
   ]
  },
  {
   "cell_type": "code",
   "execution_count": 10,
   "id": "39af153d-6ea2-4ce1-9e0d-91923f04565e",
   "metadata": {},
   "outputs": [],
   "source": [
    "from Text_Dataset import *"
   ]
  },
  {
   "cell_type": "code",
   "execution_count": 11,
   "id": "27252f30-fbad-426c-a110-18b9cdd32456",
   "metadata": {},
   "outputs": [
    {
     "name": "stderr",
     "output_type": "stream",
     "text": [
      "INFO:Datasets:Loaded 2 texts\n"
     ]
    }
   ],
   "source": [
    "tl = Text_Dataset(sl2)"
   ]
  },
  {
   "cell_type": "code",
   "execution_count": 13,
   "id": "ef34dae3-87f8-4538-9ad4-37959016b784",
   "metadata": {},
   "outputs": [
    {
     "data": {
      "text/html": [
       "Wenn wir irgendwas schreiben, daß Teil aus der Source enthält, so wie: Das<span style=\"background-color:#d8daef;\"> ist ihr Wahlspruch, </span><sup>[1]</sup>dann erfolgt ein Highlight"
      ],
      "text/plain": [
       "<IPython.core.display.HTML object>"
      ]
     },
     "metadata": {},
     "output_type": "display_data"
    },
    {
     "data": {
      "text/html": [
       "<small><p style=\"text-align:right;\">Sources: <span style=\"background-color:#d8daef;\">Immanuel Kant: Kritik der reinen Vernunft (2nd Edition)</span><sup>[1]</sup></p></small>"
      ],
      "text/plain": [
       "<IPython.core.display.HTML object>"
      ]
     },
     "metadata": {},
     "output_type": "display_data"
    }
   ],
   "source": [
    "tl.source_highlight(\"Wenn wir irgendwas schreiben, daß Teil aus der Source enthält, so wie: Das ist ihr Wahlspruch, dann erfolgt ein Highlight\")"
   ]
  },
  {
   "cell_type": "code",
   "execution_count": null,
   "id": "f3cb766b-1860-427d-bc72-1e9fcf784920",
   "metadata": {},
   "outputs": [],
   "source": []
  }
 ],
 "metadata": {
  "kernelspec": {
   "display_name": "Python 3 (ipykernel)",
   "language": "python",
   "name": "python3"
  },
  "language_info": {
   "codemirror_mode": {
    "name": "ipython",
    "version": 3
   },
   "file_extension": ".py",
   "mimetype": "text/x-python",
   "name": "python",
   "nbconvert_exporter": "python",
   "pygments_lexer": "ipython3",
   "version": "3.9.9"
  }
 },
 "nbformat": 4,
 "nbformat_minor": 5
}

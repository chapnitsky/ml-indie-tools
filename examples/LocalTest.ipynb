{
 "cells": [
  {
   "cell_type": "code",
   "execution_count": 10,
   "id": "d8570f4a-ae94-4c7d-8cfd-30397459d090",
   "metadata": {},
   "outputs": [
    {
     "name": "stdout",
     "output_type": "stream",
     "text": [
      "The autoreload extension is already loaded. To reload it, use:\n",
      "  %reload_ext autoreload\n"
     ]
    }
   ],
   "source": [
    "%load_ext autoreload\n",
    "%autoreload 2"
   ]
  },
  {
   "cell_type": "code",
   "execution_count": 11,
   "id": "14a8e822-346d-4e6e-8885-d488055dc8c2",
   "metadata": {},
   "outputs": [],
   "source": [
    "import sys\n",
    "sys.path.append('../src/ml_indie_tools')  # Point to local module source"
   ]
  },
  {
   "cell_type": "code",
   "execution_count": 12,
   "id": "4ee64338-a79b-4bf2-9cb3-4777545a3890",
   "metadata": {},
   "outputs": [],
   "source": [
    "from env_tools import MLEnv"
   ]
  },
  {
   "cell_type": "code",
   "execution_count": 13,
   "id": "aee4ecf2-6c4c-4338-97dd-7512f85f7a56",
   "metadata": {},
   "outputs": [
    {
     "name": "stderr",
     "output_type": "stream",
     "text": [
      "INFO:MLEnv:OS: Darwin, Python: 3.9.9 (Conda), Jupyter Notebook (no-ml-platform) \n"
     ]
    },
    {
     "data": {
      "text/plain": [
       "'OS: Darwin, Python: 3.9.9 (Conda), Jupyter Notebook (no-ml-platform) '"
      ]
     },
     "execution_count": 13,
     "metadata": {},
     "output_type": "execute_result"
    }
   ],
   "source": [
    "ml=MLEnv(platform='jax', accelerator='gpu')\n",
    "ml.describe()"
   ]
  },
  {
   "cell_type": "code",
   "execution_count": 14,
   "id": "00a3323b-e3bc-44e2-a84e-287f0d63e6ca",
   "metadata": {},
   "outputs": [],
   "source": [
    "import logging\n",
    "logging.basicConfig(encoding='utf-8', level=logging.INFO)\n",
    "from Gutenberg_Dataset import Gutenberg_Dataset"
   ]
  },
  {
   "cell_type": "code",
   "execution_count": 15,
   "id": "eab38dc3-a202-4a20-aa56-1ddb68999d36",
   "metadata": {},
   "outputs": [
    {
     "name": "stderr",
     "output_type": "stream",
     "text": [
      "INFO:GutenbergLib:Gutenberg index read from local cache: gutenberg/gutenberg_index\n"
     ]
    }
   ],
   "source": [
    "gd=Gutenberg_Dataset()\n",
    "gd.load_index()"
   ]
  },
  {
   "cell_type": "code",
   "execution_count": 16,
   "id": "41c279fe-1fdd-4b1a-85c8-09c4e6b8fe78",
   "metadata": {},
   "outputs": [
    {
     "data": {
      "text/plain": [
       "\u001b[0;31mSignature:\u001b[0m \u001b[0mgd\u001b[0m\u001b[0;34m.\u001b[0m\u001b[0msearch\u001b[0m\u001b[0;34m(\u001b[0m\u001b[0msearch_dict\u001b[0m\u001b[0;34m)\u001b[0m\u001b[0;34m\u001b[0m\u001b[0;34m\u001b[0m\u001b[0m\n",
       "\u001b[0;31mDocstring:\u001b[0m\n",
       "Search for book record with key specific key values\n",
       "For a list of valid keys, use `get_record_keys()`\n",
       "Standard keys are: `ebook_id`, `author`, `language`, `title`\n",
       "\n",
       "*Note:* :func:`~Gutenberg_Dataset.Gutenberg_Dataset.load_index` needs to be called once before this function can be used.\n",
       "\n",
       "Example: `search({\"title\": [\"philosoph\",\"phenomen\",\"physic\",\"hermeneu\",\"logic\"], \"language\":\"english\"})`\n",
       "Find all books whose titles contain at least one of the keywords, language english. Search keys can either be\n",
       "search for a single keyword (e.g. english), or an array of keywords. \n",
       "\n",
       ":returns: list of records \n",
       "\u001b[0;31mFile:\u001b[0m      ~/gith/domschl/ml-indie-tools/src/ml_indie_tools/Gutenberg_Dataset.py\n",
       "\u001b[0;31mType:\u001b[0m      method\n"
      ]
     },
     "metadata": {},
     "output_type": "display_data"
    }
   ],
   "source": [
    "gd.search?"
   ]
  },
  {
   "cell_type": "code",
   "execution_count": 17,
   "id": "1e17f0c8-3e05-42f3-94c5-9fb3f485f220",
   "metadata": {},
   "outputs": [],
   "source": [
    "sl=gd.search({'title': 'physic', 'language': 'english'})"
   ]
  },
  {
   "cell_type": "code",
   "execution_count": 19,
   "id": "406c1e93-fc9c-4ea9-be6c-850ea7a53261",
   "metadata": {},
   "outputs": [
    {
     "name": "stderr",
     "output_type": "stream",
     "text": [
      "INFO:GutenbergLib:Book read from cache at gutenberg/66406.txt\n",
      "INFO:GutenbergLib:Book read from cache at gutenberg/65359.txt\n",
      "INFO:GutenbergLib:Book read from cache at gutenberg/65260.txt\n",
      "INFO:GutenbergLib:Book read from cache at gutenberg/64097.txt\n",
      "INFO:GutenbergLib:Book read from cache at gutenberg/62886.txt\n",
      "INFO:GutenbergLib:Book read from cache at gutenberg/62557.txt\n",
      "INFO:GutenbergLib:Book read from cache at gutenberg/61652.txt\n",
      "INFO:GutenbergLib:Book read from cache at gutenberg/60212.txt\n",
      "INFO:GutenbergLib:Book read from cache at gutenberg/56803.txt\n",
      "INFO:GutenbergLib:Book read from cache at gutenberg/52869.txt\n",
      "INFO:GutenbergLib:Book read from cache at gutenberg/51897.txt\n",
      "INFO:GutenbergLib:Book read from cache at gutenberg/51126.txt\n",
      "INFO:GutenbergLib:Book read from cache at gutenberg/49331.txt\n",
      "INFO:GutenbergLib:Book read from cache at gutenberg/49222.txt\n",
      "INFO:GutenbergLib:Book read from cache at gutenberg/48028.txt\n",
      "INFO:GutenbergLib:Book read from cache at gutenberg/46711.txt\n",
      "INFO:GutenbergLib:Book read from cache at gutenberg/42613.txt\n",
      "INFO:GutenbergLib:Book read from cache at gutenberg/41707.txt\n",
      "INFO:GutenbergLib:Book read from cache at gutenberg/41595.txt\n",
      "INFO:GutenbergLib:Book read from cache at gutenberg/40175.txt\n",
      "INFO:GutenbergLib:Book read from cache at gutenberg/39017.pdf\n",
      "ERROR:GutenbergLib:Ebook 39017.pdf is only available in PDF format, this is not supported.\n",
      "WARNING:GutenbergLib:Download of book 39017, Eight Lectures on Theoretical Physics: invalid format!\n",
      "INFO:GutenbergLib:Book read from cache at gutenberg/38583.txt\n",
      "INFO:GutenbergLib:Book read from cache at gutenberg/29917.txt\n",
      "INFO:GutenbergLib:Book read from cache at gutenberg/26262.pdf\n",
      "ERROR:GutenbergLib:Ebook 26262.pdf is only available in PDF format, this is not supported.\n",
      "WARNING:GutenbergLib:Download of book 26262, Utility of Quaternions in Physics: invalid format!\n",
      "INFO:GutenbergLib:Book read from cache at gutenberg/24883.txt\n",
      "INFO:GutenbergLib:Book read from cache at gutenberg/24001.txt\n",
      "INFO:GutenbergLib:Book read from cache at gutenberg/15207.txt\n",
      "INFO:GutenbergLib:Book read from cache at gutenberg/6481.txt\n",
      "INFO:GutenbergLib:Book read from cache at gutenberg/5684.txt\n",
      "INFO:GutenbergLib:Book read from cache at gutenberg/5682.txt\n",
      "INFO:GutenbergLib:Book read from cache at gutenberg/4350.txt\n"
     ]
    }
   ],
   "source": [
    "sl2=gd.insert_book_texts(sl)"
   ]
  },
  {
   "cell_type": "code",
   "execution_count": 20,
   "id": "39af153d-6ea2-4ce1-9e0d-91923f04565e",
   "metadata": {},
   "outputs": [],
   "source": [
    "from Text_Dataset import *"
   ]
  },
  {
   "cell_type": "code",
   "execution_count": 21,
   "id": "27252f30-fbad-426c-a110-18b9cdd32456",
   "metadata": {},
   "outputs": [
    {
     "name": "stderr",
     "output_type": "stream",
     "text": [
      "ERROR:Datasets:Missing attribute(s) ['author'] in text[0], skipping\n",
      "ERROR:Datasets:Missing attribute(s) ['text'] in text[20], skipping\n",
      "ERROR:Datasets:Missing attribute(s) ['text'] in text[23], skipping\n",
      "INFO:Datasets:Loaded 28 texts\n"
     ]
    }
   ],
   "source": [
    "tl = Text_Dataset(sl2)"
   ]
  },
  {
   "cell_type": "code",
   "execution_count": 22,
   "id": "5a1e3c51-00ca-4a3c-a504-fbed2ada0ff8",
   "metadata": {},
   "outputs": [
    {
     "data": {
      "text/plain": [
       "28"
      ]
     },
     "execution_count": 22,
     "metadata": {},
     "output_type": "execute_result"
    }
   ],
   "source": [
    "len(tl.text_list)"
   ]
  },
  {
   "cell_type": "code",
   "execution_count": 23,
   "id": "69805c0b-3584-45e1-bd2c-0032822eb2cd",
   "metadata": {},
   "outputs": [
    {
     "name": "stdout",
     "output_type": "stream",
     "text": [
      "Fundamental Principles of the Metaphysic of Morals\n",
      "common reason, or at most only to call in philosophy for the purpose of renderin\n",
      "\n",
      "John Silence, Physician Extraordinary\n",
      "that’s better. I feel easier. I am sure you must have among your acquaintances m\n",
      "\n",
      "Secrets of Wise Men, Chemists and Great Physicians\n",
      " _Luse._ =Frost-bite.= ℞ Iodi \n",
      "\n"
     ]
    }
   ],
   "source": [
    "for i in range(3):\n",
    "    idx, txt = tl.get_random_sample(80, weighted=False)\n",
    "    print(tl.text_list[idx]['title'])\n",
    "    print(txt)\n",
    "    print()"
   ]
  },
  {
   "cell_type": "code",
   "execution_count": 24,
   "id": "3fbfee4b-4458-42a8-bc36-420dfbf14352",
   "metadata": {},
   "outputs": [
    {
     "name": "stdout",
     "output_type": "stream",
     "text": [
      "Secrets of Wise Men, Chemists and Great Physicians\n",
      " _Luse._ =Frost-bite.= ℞ Iodi \n"
     ]
    }
   ],
   "source": [
    "print(tl.text_list[idx]['title'])\n",
    "print(txt)\n",
    "    "
   ]
  },
  {
   "cell_type": "code",
   "execution_count": 25,
   "id": "48862f3c-1acd-4b6b-a999-342033d3ab3f",
   "metadata": {},
   "outputs": [
    {
     "data": {
      "text/plain": [
       "[0.025973367466422467,\n",
       " 0.07193718014988978,\n",
       " 0.12774535044785093,\n",
       " 0.13964319456485938,\n",
       " 0.14351852173421395,\n",
       " 0.24946485297122772,\n",
       " 0.32189192759758334,\n",
       " 0.32590374174357983,\n",
       " 0.41719915109962663,\n",
       " 0.47938803546133085]"
      ]
     },
     "execution_count": 25,
     "metadata": {},
     "output_type": "execute_result"
    }
   ],
   "source": [
    "tl.tcum[:10]"
   ]
  },
  {
   "cell_type": "code",
   "execution_count": 26,
   "id": "ef34dae3-87f8-4538-9ad4-37959016b784",
   "metadata": {},
   "outputs": [
    {
     "data": {
      "text/html": [
       "Wenn wir irgendwas schreiben, daß Teil aus der Source enthält, so wie: Das ist ihr Wahlspruch, dann erfolgt ein Highlight"
      ],
      "text/plain": [
       "<IPython.core.display.HTML object>"
      ]
     },
     "metadata": {},
     "output_type": "display_data"
    }
   ],
   "source": [
    "tl.source_highlight(\"Wenn wir irgendwas schreiben, daß Teil aus der Source enthält, so wie: Das ist ihr Wahlspruch, dann erfolgt ein Highlight\")"
   ]
  },
  {
   "cell_type": "code",
   "execution_count": 27,
   "id": "04839d8d-1499-46f8-96e7-d7a205df71cd",
   "metadata": {},
   "outputs": [
    {
     "data": {
      "text/html": [
       "<span style=\"background-color:#d6eaf8;\">If we write </span><sup>[9]</sup><span style=\"background-color:#d6eaf8;\">anything that co</span><sup>[9]</sup>ntain<span style=\"background-color:#d8daef;\">s parts of the </span><sup>[1]</sup><span style=\"background-color:#d6eaf8;\">sources, l</span><sup>[9]</sup>ike<span style=\"background-color:#f6ddcc;\">: that is t</span><sup>[12]</sup>heir motto, t<span style=\"background-color:#ecf3cf;\">hen a high</span><sup>[6]</sup><span style=\"background-color:#e2d7d5;\">light will be app</span><sup>[20]</sup>lied."
      ],
      "text/plain": [
       "<IPython.core.display.HTML object>"
      ]
     },
     "metadata": {},
     "output_type": "display_data"
    },
    {
     "data": {
      "text/html": [
       "<small><p style=\"text-align:right;\">Sources: <span style=\"background-color:#d6eaf8;\">Mary Somerville: On the Connexion of the Physical Sciences</span><sup>[9]</sup>, <span style=\"background-color:#d8daef;\">Richard Glazebrook: James Clerk Maxwell and Modern Physics</span><sup>[1]</sup>, <span style=\"background-color:#f6ddcc;\">Francis Brett Young: The Young Physician</span><sup>[12]</sup>, <span style=\"background-color:#ecf3cf;\">Mary Somerville: Physical Geography</span><sup>[6]</sup>, <span style=\"background-color:#e2d7d5;\">William Garnett: Heroes of Science: Physicists</span><sup>[20]</sup></p></small>"
      ],
      "text/plain": [
       "<IPython.core.display.HTML object>"
      ]
     },
     "metadata": {},
     "output_type": "display_data"
    }
   ],
   "source": [
    "tl.source_highlight(\"If we write anything that contains parts of the sources, like: that is their motto, then a highlight will be applied.\")"
   ]
  },
  {
   "cell_type": "code",
   "execution_count": 28,
   "id": "f3cb766b-1860-427d-bc72-1e9fcf784920",
   "metadata": {},
   "outputs": [
    {
     "data": {
      "text/plain": [
       "['Das', 'ist', 'ja', 'mal', 'ein', 'Argument', '!']"
      ]
     },
     "execution_count": 28,
     "metadata": {},
     "output_type": "execute_result"
    }
   ],
   "source": [
    "test_text=\"Das ist ja mal ein Argument!\"\n",
    "tokenizer='word'\n",
    "st = tl.tokenize(test_text, tokenizer=tokenizer)\n",
    "st"
   ]
  },
  {
   "cell_type": "code",
   "execution_count": 29,
   "id": "489412be-911f-48d8-84df-70e3949a69c1",
   "metadata": {},
   "outputs": [
    {
     "data": {
      "text/plain": [
       "[29114, 38034, 0, 19676, 40736, 14551, 854]"
      ]
     },
     "execution_count": 29,
     "metadata": {},
     "output_type": "execute_result"
    }
   ],
   "source": [
    "el=tl.encode(test_text, tokenizer=tokenizer)\n",
    "el"
   ]
  },
  {
   "cell_type": "code",
   "execution_count": 30,
   "id": "45249215-fba0-4643-a6e1-a9ab782ce899",
   "metadata": {},
   "outputs": [
    {
     "data": {
      "text/plain": [
       "'Das ist <unk> mal ein Argument !'"
      ]
     },
     "execution_count": 30,
     "metadata": {},
     "output_type": "execute_result"
    }
   ],
   "source": [
    "tl.decode(el, tokenizer=tokenizer)"
   ]
  },
  {
   "cell_type": "markdown",
   "id": "875bd979-7002-4118-9f37-9bcbf0f4b609",
   "metadata": {},
   "source": [
    "## Pandas and Huggingface datasets\n",
    "\n",
    "`!pip install transformer` or `conda install transformers`\n",
    "`!pip install datasets` or `conda install datasets`"
   ]
  },
  {
   "cell_type": "code",
   "execution_count": 31,
   "id": "6349ce59-dc19-41ff-a25f-0ca50a9e777a",
   "metadata": {},
   "outputs": [
    {
     "data": {
      "text/plain": [
       "dict_keys(['title', 'ebook_id', 'author', 'language', 'text', 'index', 'probability_weight'])"
      ]
     },
     "execution_count": 31,
     "metadata": {},
     "output_type": "execute_result"
    }
   ],
   "source": [
    "sl2[1].keys()"
   ]
  },
  {
   "cell_type": "code",
   "execution_count": 32,
   "id": "4d89c3c7-e9dc-4bd7-90ed-afd08d3de692",
   "metadata": {},
   "outputs": [],
   "source": [
    "import pandas as pd"
   ]
  },
  {
   "cell_type": "code",
   "execution_count": 33,
   "id": "0ad67b7c-a814-4203-af16-50c871e44e4a",
   "metadata": {},
   "outputs": [],
   "source": [
    "df = pd.DataFrame(sl2)"
   ]
  },
  {
   "cell_type": "code",
   "execution_count": 34,
   "id": "11deaf3d-ebee-43ff-bc58-238d3d657234",
   "metadata": {},
   "outputs": [
    {
     "data": {
      "text/html": [
       "<div>\n",
       "<style scoped>\n",
       "    .dataframe tbody tr th:only-of-type {\n",
       "        vertical-align: middle;\n",
       "    }\n",
       "\n",
       "    .dataframe tbody tr th {\n",
       "        vertical-align: top;\n",
       "    }\n",
       "\n",
       "    .dataframe thead th {\n",
       "        text-align: right;\n",
       "    }\n",
       "</style>\n",
       "<table border=\"1\" class=\"dataframe\">\n",
       "  <thead>\n",
       "    <tr style=\"text-align: right;\">\n",
       "      <th></th>\n",
       "      <th>title</th>\n",
       "      <th>ebook_id</th>\n",
       "      <th>language</th>\n",
       "      <th>text</th>\n",
       "      <th>author</th>\n",
       "      <th>index</th>\n",
       "      <th>probability_weight</th>\n",
       "      <th>subtitle</th>\n",
       "      <th>translator</th>\n",
       "    </tr>\n",
       "  </thead>\n",
       "  <tbody>\n",
       "    <tr>\n",
       "      <th>0</th>\n",
       "      <td>Astronomy and General Physics Considered with ...</td>\n",
       "      <td>66406</td>\n",
       "      <td>English</td>\n",
       "      <td>BRIDGEWATER TREATISES....</td>\n",
       "      <td>NaN</td>\n",
       "      <td>NaN</td>\n",
       "      <td>NaN</td>\n",
       "      <td>NaN</td>\n",
       "      <td>NaN</td>\n",
       "    </tr>\n",
       "    <tr>\n",
       "      <th>1</th>\n",
       "      <td>James Clerk Maxwell and Modern Physics</td>\n",
       "      <td>65359</td>\n",
       "      <td>English</td>\n",
       "      <td>Note: Project Gutenberg also has an HTML versi...</td>\n",
       "      <td>Richard Glazebrook</td>\n",
       "      <td>1.0</td>\n",
       "      <td>0.025973</td>\n",
       "      <td>NaN</td>\n",
       "      <td>NaN</td>\n",
       "    </tr>\n",
       "    <tr>\n",
       "      <th>2</th>\n",
       "      <td>The Physical Training of Children</td>\n",
       "      <td>65260</td>\n",
       "      <td>English</td>\n",
       "      <td>[Illustration: AT HOME.]\\n\\n\\n\\n\\n            ...</td>\n",
       "      <td>Pye Henry Chavasse</td>\n",
       "      <td>2.0</td>\n",
       "      <td>0.045964</td>\n",
       "      <td>NaN</td>\n",
       "      <td>NaN</td>\n",
       "    </tr>\n",
       "    <tr>\n",
       "      <th>3</th>\n",
       "      <td>The Female Physician</td>\n",
       "      <td>64097</td>\n",
       "      <td>English</td>\n",
       "      <td>THE\\n       ...</td>\n",
       "      <td>John Maubray</td>\n",
       "      <td>3.0</td>\n",
       "      <td>0.055808</td>\n",
       "      <td>Containing all the diseases incident to that s...</td>\n",
       "      <td>NaN</td>\n",
       "    </tr>\n",
       "    <tr>\n",
       "      <th>4</th>\n",
       "      <td>Satellite Communications Physics</td>\n",
       "      <td>62886</td>\n",
       "      <td>English</td>\n",
       "      <td>[Illustration: Satellite Communications Ph...</td>\n",
       "      <td>Various</td>\n",
       "      <td>4.0</td>\n",
       "      <td>0.011898</td>\n",
       "      <td>NaN</td>\n",
       "      <td>NaN</td>\n",
       "    </tr>\n",
       "    <tr>\n",
       "      <th>5</th>\n",
       "      <td>The Dominion Astrophysical Observatory</td>\n",
       "      <td>62557</td>\n",
       "      <td>English</td>\n",
       "      <td>[Illustration: _Frontispiece_--BUILDING AND DO...</td>\n",
       "      <td>John Stanley Plaskett</td>\n",
       "      <td>5.0</td>\n",
       "      <td>0.003875</td>\n",
       "      <td>Victoria, B.C.</td>\n",
       "      <td>NaN</td>\n",
       "    </tr>\n",
       "    <tr>\n",
       "      <th>6</th>\n",
       "      <td>Physical Geography</td>\n",
       "      <td>61652</td>\n",
       "      <td>English</td>\n",
       "      <td>Transcriber’s Note\\...</td>\n",
       "      <td>Mary Somerville</td>\n",
       "      <td>6.0</td>\n",
       "      <td>0.105946</td>\n",
       "      <td>NaN</td>\n",
       "      <td>NaN</td>\n",
       "    </tr>\n",
       "    <tr>\n",
       "      <th>7</th>\n",
       "      <td>Problems of Life and Mind, Second series, The ...</td>\n",
       "      <td>60212</td>\n",
       "      <td>English</td>\n",
       "      <td>Transcriber’s Note\\n\\nIn PROBLEM I, CHAPTER II...</td>\n",
       "      <td>George Henry Lewes</td>\n",
       "      <td>7.0</td>\n",
       "      <td>0.072427</td>\n",
       "      <td>NaN</td>\n",
       "      <td>NaN</td>\n",
       "    </tr>\n",
       "    <tr>\n",
       "      <th>8</th>\n",
       "      <td>Physical Amusements and Diverting Experiments</td>\n",
       "      <td>56803</td>\n",
       "      <td>English</td>\n",
       "      <td>Transcriber’s Notes:\\n\\nText enclosed by under...</td>\n",
       "      <td>Giuseppe Pinetti</td>\n",
       "      <td>8.0</td>\n",
       "      <td>0.004012</td>\n",
       "      <td>Composed and Performed in Different Capitals o...</td>\n",
       "      <td>NaN</td>\n",
       "    </tr>\n",
       "    <tr>\n",
       "      <th>9</th>\n",
       "      <td>On the Connexion of the Physical Sciences</td>\n",
       "      <td>52869</td>\n",
       "      <td>English</td>\n",
       "      <td>Transcriber’s Note\\...</td>\n",
       "      <td>Mary Somerville</td>\n",
       "      <td>9.0</td>\n",
       "      <td>0.091295</td>\n",
       "      <td>NaN</td>\n",
       "      <td>NaN</td>\n",
       "    </tr>\n",
       "    <tr>\n",
       "      <th>10</th>\n",
       "      <td>The Poetry of Science or, Studies of the Physi...</td>\n",
       "      <td>51897</td>\n",
       "      <td>English</td>\n",
       "      <td>THE\\n\\nPOETRY OF SCIENCE;\\n\\nOR,\\n\\nSTUDIES\\n\\...</td>\n",
       "      <td>Robert Hunt</td>\n",
       "      <td>10.0</td>\n",
       "      <td>0.062189</td>\n",
       "      <td>NaN</td>\n",
       "      <td>NaN</td>\n",
       "    </tr>\n",
       "    <tr>\n",
       "      <th>11</th>\n",
       "      <td>The Princess and the Physicist</td>\n",
       "      <td>51126</td>\n",
       "      <td>English</td>\n",
       "      <td>Elected a god, Zen the Omnipote...</td>\n",
       "      <td>Evelyn E. Smith</td>\n",
       "      <td>11.0</td>\n",
       "      <td>0.003196</td>\n",
       "      <td>NaN</td>\n",
       "      <td>NaN</td>\n",
       "    </tr>\n",
       "    <tr>\n",
       "      <th>12</th>\n",
       "      <td>The Young Physician</td>\n",
       "      <td>49331</td>\n",
       "      <td>English</td>\n",
       "      <td>This ebook was transcribed by Les Bowler.\\n\\n ...</td>\n",
       "      <td>Francis Brett Young</td>\n",
       "      <td>12.0</td>\n",
       "      <td>0.053024</td>\n",
       "      <td>NaN</td>\n",
       "      <td>NaN</td>\n",
       "    </tr>\n",
       "    <tr>\n",
       "      <th>13</th>\n",
       "      <td>John Silence, Physician Extraordinary</td>\n",
       "      <td>49222</td>\n",
       "      <td>English</td>\n",
       "      <td>JOHN SILENCE\\n  Physician Extraordinary\\n\\n ...</td>\n",
       "      <td>Algernon Blackwood</td>\n",
       "      <td>13.0</td>\n",
       "      <td>0.041829</td>\n",
       "      <td>NaN</td>\n",
       "      <td>NaN</td>\n",
       "    </tr>\n",
       "    <tr>\n",
       "      <th>14</th>\n",
       "      <td>The Metaphysic of Christianity and Buddhism</td>\n",
       "      <td>48028</td>\n",
       "      <td>English</td>\n",
       "      <td>THE METAPHYSIC\\n\\n    OF\\n\\n    CHRISTIANI...</td>\n",
       "      <td>Dawsonne M. Strong</td>\n",
       "      <td>14.0</td>\n",
       "      <td>0.017215</td>\n",
       "      <td>A symphony</td>\n",
       "      <td>NaN</td>\n",
       "    </tr>\n",
       "    <tr>\n",
       "      <th>15</th>\n",
       "      <td>Secrets of Wise Men, Chemists and Great Physic...</td>\n",
       "      <td>46711</td>\n",
       "      <td>English</td>\n",
       "      <td>Transcriber’s notes:\\nIn this transcription, p...</td>\n",
       "      <td>William K. David</td>\n",
       "      <td>15.0</td>\n",
       "      <td>0.022987</td>\n",
       "      <td>NaN</td>\n",
       "      <td>NaN</td>\n",
       "    </tr>\n",
       "    <tr>\n",
       "      <th>16</th>\n",
       "      <td>On-Line Data-Acquisition Systems in Nuclear Ph...</td>\n",
       "      <td>42613</td>\n",
       "      <td>English</td>\n",
       "      <td>_On-Line\\n       ...</td>\n",
       "      <td>H. W. Fulbright, et al., and The National Rese...</td>\n",
       "      <td>16.0</td>\n",
       "      <td>0.016678</td>\n",
       "      <td>NaN</td>\n",
       "      <td>NaN</td>\n",
       "    </tr>\n",
       "    <tr>\n",
       "      <th>17</th>\n",
       "      <td>The Development of Metaphysics in Persia</td>\n",
       "      <td>41707</td>\n",
       "      <td>English</td>\n",
       "      <td>Words italicized in the original are surro...</td>\n",
       "      <td>Muhammad Iqbal</td>\n",
       "      <td>17.0</td>\n",
       "      <td>0.016102</td>\n",
       "      <td>A Contribution to the History of Muslim Philos...</td>\n",
       "      <td>NaN</td>\n",
       "    </tr>\n",
       "    <tr>\n",
       "      <th>18</th>\n",
       "      <td>The Funny Side of Physic</td>\n",
       "      <td>41595</td>\n",
       "      <td>English</td>\n",
       "      <td>[Illustration]\\n\\n\\n\\n\\n  THE FUNNY SIDE OF PH...</td>\n",
       "      <td>A. D. Crabtre</td>\n",
       "      <td>18.0</td>\n",
       "      <td>0.081563</td>\n",
       "      <td>NaN</td>\n",
       "      <td>NaN</td>\n",
       "    </tr>\n",
       "    <tr>\n",
       "      <th>19</th>\n",
       "      <td>Physics</td>\n",
       "      <td>40175</td>\n",
       "      <td>English</td>\n",
       "      <td>PHYSICS\\n\\n  TOWER, SMITH, TURTON,\\n  AND\\n ...</td>\n",
       "      <td>Willis Eugene Tower,Charles Henry Smith, Charl...</td>\n",
       "      <td>19.0</td>\n",
       "      <td>0.051751</td>\n",
       "      <td>NaN</td>\n",
       "      <td>NaN</td>\n",
       "    </tr>\n",
       "    <tr>\n",
       "      <th>20</th>\n",
       "      <td>Eight Lectures on Theoretical Physics</td>\n",
       "      <td>39017</td>\n",
       "      <td>English</td>\n",
       "      <td>NaN</td>\n",
       "      <td>Max Planck</td>\n",
       "      <td>NaN</td>\n",
       "      <td>NaN</td>\n",
       "      <td>Delivered at Columbia University in 1909</td>\n",
       "      <td>A. P. Wills</td>\n",
       "    </tr>\n",
       "    <tr>\n",
       "      <th>21</th>\n",
       "      <td>Heroes of Science: Physicists</td>\n",
       "      <td>38583</td>\n",
       "      <td>English</td>\n",
       "      <td>HEROES OF SCIENCE.\\n\\n\\n\\n\\n    HEROES OF ...</td>\n",
       "      <td>William Garnett</td>\n",
       "      <td>20.0</td>\n",
       "      <td>0.035622</td>\n",
       "      <td>NaN</td>\n",
       "      <td>NaN</td>\n",
       "    </tr>\n",
       "    <tr>\n",
       "      <th>22</th>\n",
       "      <td>Old-Fashioned Ethics and Common-Sense Metaphysics</td>\n",
       "      <td>29917</td>\n",
       "      <td>English</td>\n",
       "      <td>OLD-FASHIONED ETHICS AND COMMON-SENSE METAPHYS...</td>\n",
       "      <td>William Thomas Thornton</td>\n",
       "      <td>21.0</td>\n",
       "      <td>0.037584</td>\n",
       "      <td>With Some of Their Applications</td>\n",
       "      <td>NaN</td>\n",
       "    </tr>\n",
       "    <tr>\n",
       "      <th>23</th>\n",
       "      <td>Utility of Quaternions in Physics</td>\n",
       "      <td>26262</td>\n",
       "      <td>English</td>\n",
       "      <td>NaN</td>\n",
       "      <td>Alexander McAulay</td>\n",
       "      <td>NaN</td>\n",
       "      <td>NaN</td>\n",
       "      <td>NaN</td>\n",
       "      <td>NaN</td>\n",
       "    </tr>\n",
       "    <tr>\n",
       "      <th>24</th>\n",
       "      <td>New and Original Theories of the Great Physica...</td>\n",
       "      <td>24883</td>\n",
       "      <td>English</td>\n",
       "      <td>CONTRIBUTIONS\\n\\n...</td>\n",
       "      <td>Henry Raymond Rogers</td>\n",
       "      <td>22.0</td>\n",
       "      <td>0.006329</td>\n",
       "      <td>NaN</td>\n",
       "      <td>NaN</td>\n",
       "    </tr>\n",
       "    <tr>\n",
       "      <th>25</th>\n",
       "      <td>The Physical Life of Woman:</td>\n",
       "      <td>24001</td>\n",
       "      <td>English</td>\n",
       "      <td>THE PHYSICAL LIFE OF WOMAN:\\n\\nADVICE TO THE M...</td>\n",
       "      <td>Dr. George H Napheys</td>\n",
       "      <td>23.0</td>\n",
       "      <td>0.046694</td>\n",
       "      <td>Advice to the Maiden, Wife and Mother</td>\n",
       "      <td>NaN</td>\n",
       "    </tr>\n",
       "    <tr>\n",
       "      <th>26</th>\n",
       "      <td>The New Physics and Its Evolution</td>\n",
       "      <td>15207</td>\n",
       "      <td>English</td>\n",
       "      <td>The International Scientific Series\\n\\nTHE NEW...</td>\n",
       "      <td>Lucien Poincare</td>\n",
       "      <td>24.0</td>\n",
       "      <td>0.032779</td>\n",
       "      <td>NaN</td>\n",
       "      <td>NaN</td>\n",
       "    </tr>\n",
       "    <tr>\n",
       "      <th>27</th>\n",
       "      <td>Personal Experience of a Physician</td>\n",
       "      <td>6481</td>\n",
       "      <td>English</td>\n",
       "      <td>PERSONAL EXPERIENCE OF A PHYSICIAN,\\n\\nWITH\\n\\...</td>\n",
       "      <td>John Ellis</td>\n",
       "      <td>25.0</td>\n",
       "      <td>0.017168</td>\n",
       "      <td>NaN</td>\n",
       "      <td>NaN</td>\n",
       "    </tr>\n",
       "    <tr>\n",
       "      <th>28</th>\n",
       "      <td>The Metaphysical Elements of Ethics</td>\n",
       "      <td>5684</td>\n",
       "      <td>English</td>\n",
       "      <td>\\t\\t\\t\\t 1780\\n\\n\\t\\t THE METAPHYSICAL ELEMENT...</td>\n",
       "      <td>Immanuel Kant</td>\n",
       "      <td>26.0</td>\n",
       "      <td>0.005412</td>\n",
       "      <td>NaN</td>\n",
       "      <td>NaN</td>\n",
       "    </tr>\n",
       "    <tr>\n",
       "      <th>29</th>\n",
       "      <td>Fundamental Principles of the Metaphysic of Mo...</td>\n",
       "      <td>5682</td>\n",
       "      <td>English</td>\n",
       "      <td>This eBook was prepared by Matthew Stapleton.\\...</td>\n",
       "      <td>Immanuel Kant</td>\n",
       "      <td>27.0</td>\n",
       "      <td>0.012277</td>\n",
       "      <td>NaN</td>\n",
       "      <td>NaN</td>\n",
       "    </tr>\n",
       "    <tr>\n",
       "      <th>30</th>\n",
       "      <td>Physics and Politics, or, Thoughts on the appl...</td>\n",
       "      <td>4350</td>\n",
       "      <td>English</td>\n",
       "      <td>PHYSICS AND POLITICS\\n\\n\\nOR THOUGHTS ON THE A...</td>\n",
       "      <td>Walter Bagehot</td>\n",
       "      <td>28.0</td>\n",
       "      <td>0.022401</td>\n",
       "      <td>NaN</td>\n",
       "      <td>NaN</td>\n",
       "    </tr>\n",
       "  </tbody>\n",
       "</table>\n",
       "</div>"
      ],
      "text/plain": [
       "                                                title ebook_id language  \\\n",
       "0   Astronomy and General Physics Considered with ...    66406  English   \n",
       "1              James Clerk Maxwell and Modern Physics    65359  English   \n",
       "2                   The Physical Training of Children    65260  English   \n",
       "3                                The Female Physician    64097  English   \n",
       "4                    Satellite Communications Physics    62886  English   \n",
       "5              The Dominion Astrophysical Observatory    62557  English   \n",
       "6                                  Physical Geography    61652  English   \n",
       "7   Problems of Life and Mind, Second series, The ...    60212  English   \n",
       "8       Physical Amusements and Diverting Experiments    56803  English   \n",
       "9           On the Connexion of the Physical Sciences    52869  English   \n",
       "10  The Poetry of Science or, Studies of the Physi...    51897  English   \n",
       "11                     The Princess and the Physicist    51126  English   \n",
       "12                                The Young Physician    49331  English   \n",
       "13              John Silence, Physician Extraordinary    49222  English   \n",
       "14        The Metaphysic of Christianity and Buddhism    48028  English   \n",
       "15  Secrets of Wise Men, Chemists and Great Physic...    46711  English   \n",
       "16  On-Line Data-Acquisition Systems in Nuclear Ph...    42613  English   \n",
       "17           The Development of Metaphysics in Persia    41707  English   \n",
       "18                           The Funny Side of Physic    41595  English   \n",
       "19                                            Physics    40175  English   \n",
       "20              Eight Lectures on Theoretical Physics    39017  English   \n",
       "21                      Heroes of Science: Physicists    38583  English   \n",
       "22  Old-Fashioned Ethics and Common-Sense Metaphysics    29917  English   \n",
       "23                  Utility of Quaternions in Physics    26262  English   \n",
       "24  New and Original Theories of the Great Physica...    24883  English   \n",
       "25                        The Physical Life of Woman:    24001  English   \n",
       "26                  The New Physics and Its Evolution    15207  English   \n",
       "27                 Personal Experience of a Physician     6481  English   \n",
       "28                The Metaphysical Elements of Ethics     5684  English   \n",
       "29  Fundamental Principles of the Metaphysic of Mo...     5682  English   \n",
       "30  Physics and Politics, or, Thoughts on the appl...     4350  English   \n",
       "\n",
       "                                                 text  \\\n",
       "0                           BRIDGEWATER TREATISES....   \n",
       "1   Note: Project Gutenberg also has an HTML versi...   \n",
       "2   [Illustration: AT HOME.]\\n\\n\\n\\n\\n            ...   \n",
       "3                                     THE\\n       ...   \n",
       "4       [Illustration: Satellite Communications Ph...   \n",
       "5   [Illustration: _Frontispiece_--BUILDING AND DO...   \n",
       "6                              Transcriber’s Note\\...   \n",
       "7   Transcriber’s Note\\n\\nIn PROBLEM I, CHAPTER II...   \n",
       "8   Transcriber’s Notes:\\n\\nText enclosed by under...   \n",
       "9                              Transcriber’s Note\\...   \n",
       "10  THE\\n\\nPOETRY OF SCIENCE;\\n\\nOR,\\n\\nSTUDIES\\n\\...   \n",
       "11                 Elected a god, Zen the Omnipote...   \n",
       "12  This ebook was transcribed by Les Bowler.\\n\\n ...   \n",
       "13    JOHN SILENCE\\n  Physician Extraordinary\\n\\n ...   \n",
       "14      THE METAPHYSIC\\n\\n    OF\\n\\n    CHRISTIANI...   \n",
       "15  Transcriber’s notes:\\nIn this transcription, p...   \n",
       "16                               _On-Line\\n       ...   \n",
       "17      Words italicized in the original are surro...   \n",
       "18  [Illustration]\\n\\n\\n\\n\\n  THE FUNNY SIDE OF PH...   \n",
       "19    PHYSICS\\n\\n  TOWER, SMITH, TURTON,\\n  AND\\n ...   \n",
       "20                                                NaN   \n",
       "21      HEROES OF SCIENCE.\\n\\n\\n\\n\\n    HEROES OF ...   \n",
       "22  OLD-FASHIONED ETHICS AND COMMON-SENSE METAPHYS...   \n",
       "23                                                NaN   \n",
       "24                               CONTRIBUTIONS\\n\\n...   \n",
       "25  THE PHYSICAL LIFE OF WOMAN:\\n\\nADVICE TO THE M...   \n",
       "26  The International Scientific Series\\n\\nTHE NEW...   \n",
       "27  PERSONAL EXPERIENCE OF A PHYSICIAN,\\n\\nWITH\\n\\...   \n",
       "28  \\t\\t\\t\\t 1780\\n\\n\\t\\t THE METAPHYSICAL ELEMENT...   \n",
       "29  This eBook was prepared by Matthew Stapleton.\\...   \n",
       "30  PHYSICS AND POLITICS\\n\\n\\nOR THOUGHTS ON THE A...   \n",
       "\n",
       "                                               author  index  \\\n",
       "0                                                 NaN    NaN   \n",
       "1                                  Richard Glazebrook    1.0   \n",
       "2                                  Pye Henry Chavasse    2.0   \n",
       "3                                        John Maubray    3.0   \n",
       "4                                             Various    4.0   \n",
       "5                               John Stanley Plaskett    5.0   \n",
       "6                                     Mary Somerville    6.0   \n",
       "7                                  George Henry Lewes    7.0   \n",
       "8                                    Giuseppe Pinetti    8.0   \n",
       "9                                     Mary Somerville    9.0   \n",
       "10                                        Robert Hunt   10.0   \n",
       "11                                    Evelyn E. Smith   11.0   \n",
       "12                                Francis Brett Young   12.0   \n",
       "13                                 Algernon Blackwood   13.0   \n",
       "14                                 Dawsonne M. Strong   14.0   \n",
       "15                                   William K. David   15.0   \n",
       "16  H. W. Fulbright, et al., and The National Rese...   16.0   \n",
       "17                                     Muhammad Iqbal   17.0   \n",
       "18                                      A. D. Crabtre   18.0   \n",
       "19  Willis Eugene Tower,Charles Henry Smith, Charl...   19.0   \n",
       "20                                         Max Planck    NaN   \n",
       "21                                    William Garnett   20.0   \n",
       "22                            William Thomas Thornton   21.0   \n",
       "23                                  Alexander McAulay    NaN   \n",
       "24                               Henry Raymond Rogers   22.0   \n",
       "25                               Dr. George H Napheys   23.0   \n",
       "26                                    Lucien Poincare   24.0   \n",
       "27                                         John Ellis   25.0   \n",
       "28                                      Immanuel Kant   26.0   \n",
       "29                                      Immanuel Kant   27.0   \n",
       "30                                     Walter Bagehot   28.0   \n",
       "\n",
       "    probability_weight                                           subtitle  \\\n",
       "0                  NaN                                                NaN   \n",
       "1             0.025973                                                NaN   \n",
       "2             0.045964                                                NaN   \n",
       "3             0.055808  Containing all the diseases incident to that s...   \n",
       "4             0.011898                                                NaN   \n",
       "5             0.003875                                     Victoria, B.C.   \n",
       "6             0.105946                                                NaN   \n",
       "7             0.072427                                                NaN   \n",
       "8             0.004012  Composed and Performed in Different Capitals o...   \n",
       "9             0.091295                                                NaN   \n",
       "10            0.062189                                                NaN   \n",
       "11            0.003196                                                NaN   \n",
       "12            0.053024                                                NaN   \n",
       "13            0.041829                                                NaN   \n",
       "14            0.017215                                         A symphony   \n",
       "15            0.022987                                                NaN   \n",
       "16            0.016678                                                NaN   \n",
       "17            0.016102  A Contribution to the History of Muslim Philos...   \n",
       "18            0.081563                                                NaN   \n",
       "19            0.051751                                                NaN   \n",
       "20                 NaN           Delivered at Columbia University in 1909   \n",
       "21            0.035622                                                NaN   \n",
       "22            0.037584                    With Some of Their Applications   \n",
       "23                 NaN                                                NaN   \n",
       "24            0.006329                                                NaN   \n",
       "25            0.046694              Advice to the Maiden, Wife and Mother   \n",
       "26            0.032779                                                NaN   \n",
       "27            0.017168                                                NaN   \n",
       "28            0.005412                                                NaN   \n",
       "29            0.012277                                                NaN   \n",
       "30            0.022401                                                NaN   \n",
       "\n",
       "     translator  \n",
       "0           NaN  \n",
       "1           NaN  \n",
       "2           NaN  \n",
       "3           NaN  \n",
       "4           NaN  \n",
       "5           NaN  \n",
       "6           NaN  \n",
       "7           NaN  \n",
       "8           NaN  \n",
       "9           NaN  \n",
       "10          NaN  \n",
       "11          NaN  \n",
       "12          NaN  \n",
       "13          NaN  \n",
       "14          NaN  \n",
       "15          NaN  \n",
       "16          NaN  \n",
       "17          NaN  \n",
       "18          NaN  \n",
       "19          NaN  \n",
       "20  A. P. Wills  \n",
       "21          NaN  \n",
       "22          NaN  \n",
       "23          NaN  \n",
       "24          NaN  \n",
       "25          NaN  \n",
       "26          NaN  \n",
       "27          NaN  \n",
       "28          NaN  \n",
       "29          NaN  \n",
       "30          NaN  "
      ]
     },
     "execution_count": 34,
     "metadata": {},
     "output_type": "execute_result"
    }
   ],
   "source": [
    "df"
   ]
  },
  {
   "cell_type": "code",
   "execution_count": null,
   "id": "1c0a64c4-e566-45cb-8896-4e6605b5e41d",
   "metadata": {},
   "outputs": [],
   "source": []
  }
 ],
 "metadata": {
  "kernelspec": {
   "display_name": "Python 3 (ipykernel)",
   "language": "python",
   "name": "python3"
  },
  "language_info": {
   "codemirror_mode": {
    "name": "ipython",
    "version": 3
   },
   "file_extension": ".py",
   "mimetype": "text/x-python",
   "name": "python",
   "nbconvert_exporter": "python",
   "pygments_lexer": "ipython3",
   "version": "3.9.9"
  }
 },
 "nbformat": 4,
 "nbformat_minor": 5
}

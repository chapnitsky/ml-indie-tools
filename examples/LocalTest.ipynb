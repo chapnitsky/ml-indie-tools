{
 "cells": [
  {
   "cell_type": "code",
   "execution_count": 1,
   "id": "d8570f4a-ae94-4c7d-8cfd-30397459d090",
   "metadata": {},
   "outputs": [],
   "source": [
    "%load_ext autoreload\n",
    "%autoreload 2"
   ]
  },
  {
   "cell_type": "code",
   "execution_count": 13,
   "id": "14a8e822-346d-4e6e-8885-d488055dc8c2",
   "metadata": {},
   "outputs": [],
   "source": [
    "import sys\n",
    "sys.path.append('../src/ml_indie_tools')  # Point to local module source"
   ]
  },
  {
   "cell_type": "code",
   "execution_count": 14,
   "id": "4ee64338-a79b-4bf2-9cb3-4777545a3890",
   "metadata": {},
   "outputs": [],
   "source": [
    "from env_tools import MLEnv"
   ]
  },
  {
   "cell_type": "code",
   "execution_count": 15,
   "id": "aee4ecf2-6c4c-4338-97dd-7512f85f7a56",
   "metadata": {},
   "outputs": [
    {
     "data": {
      "text/plain": [
       "'OS: Darwin, Python: 3.9.9, Jupyter Notebook JAX: 0.2.26'"
      ]
     },
     "execution_count": 15,
     "metadata": {},
     "output_type": "execute_result"
    }
   ],
   "source": [
    "ml=MLEnv(platform='jax', accelerator='gpu')\n",
    "ml.describe()"
   ]
  },
  {
   "cell_type": "code",
   "execution_count": 16,
   "id": "00a3323b-e3bc-44e2-a84e-287f0d63e6ca",
   "metadata": {},
   "outputs": [],
   "source": [
    "import logging\n",
    "logging.basicConfig(encoding='utf-8', level=logging.INFO)\n",
    "from Gutenberg_Dataset import Gutenberg_Dataset"
   ]
  },
  {
   "cell_type": "code",
   "execution_count": 17,
   "id": "eab38dc3-a202-4a20-aa56-1ddb68999d36",
   "metadata": {},
   "outputs": [],
   "source": [
    "# simply remove root_url parameter, if no local Gutenberg mirror is available, files are then downloaded on-demand\n",
    "gd=Gutenberg_Dataset(root_url='/Volumes/ExFat3TB/Corpora/Gutenberg')\n",
    "gd.load_index()"
   ]
  },
  {
   "cell_type": "code",
   "execution_count": 18,
   "id": "41c279fe-1fdd-4b1a-85c8-09c4e6b8fe78",
   "metadata": {},
   "outputs": [
    {
     "data": {
      "text/plain": [
       "\u001b[0;31mSignature:\u001b[0m \u001b[0mgd\u001b[0m\u001b[0;34m.\u001b[0m\u001b[0msearch\u001b[0m\u001b[0;34m(\u001b[0m\u001b[0msearch_dict\u001b[0m\u001b[0;34m)\u001b[0m\u001b[0;34m\u001b[0m\u001b[0;34m\u001b[0m\u001b[0m\n",
       "\u001b[0;31mDocstring:\u001b[0m\n",
       "Search for book record with key specific key values\n",
       "For a list of valid keys, use `get_record_keys()`\n",
       "Standard keys are: `ebook_id`, `author`, `language`, `title`\n",
       "\n",
       "*Note:* :func:`~Gutenberg_Dataset.Gutenberg_Dataset.load_index` needs to be called once before this function can be used.\n",
       "\n",
       "Example: `search({\"title\": [\"philosoph\",\"phenomen\",\"physic\",\"hermeneu\",\"logic\"], \"language\":\"english\"})`\n",
       "Find all books whose titles contain at least one of the keywords, language english. Search keys can either be\n",
       "search for a single keyword (e.g. english), or an array of keywords. \n",
       "\n",
       ":returns: list of records \n",
       "\u001b[0;31mFile:\u001b[0m      ~/gith/domschl/ml-indie-tools/src/ml_indie_tools/Gutenberg_Dataset.py\n",
       "\u001b[0;31mType:\u001b[0m      method\n"
      ]
     },
     "metadata": {},
     "output_type": "display_data"
    }
   ],
   "source": [
    "gd.search?"
   ]
  },
  {
   "cell_type": "code",
   "execution_count": 19,
   "id": "1e17f0c8-3e05-42f3-94c5-9fb3f485f220",
   "metadata": {},
   "outputs": [],
   "source": [
    "sl=gd.search({'title': ['physi', 'philo', 'hermen', 'logi']})"
   ]
  },
  {
   "cell_type": "code",
   "execution_count": 20,
   "id": "406c1e93-fc9c-4ea9-be6c-850ea7a53261",
   "metadata": {},
   "outputs": [
    {
     "name": "stderr",
     "output_type": "stream",
     "text": [
      "WARNING:GutenbergLib:End-text is taking more than half of the book!\n",
      "WARNING:GutenbergLib:End-text is taking more than half of the book!\n",
      "WARNING:GutenbergLib:End-text is taking more than half of the book!\n",
      "ERROR:GutenbergLib:Ebook 41654.pdf is only available in PDF format, this is not supported.\n",
      "WARNING:GutenbergLib:Download of book 41654, Introduction to Mathematical Philosophy: invalid format!\n",
      "ERROR:GutenbergLib:Ebook 39017.pdf is only available in PDF format, this is not supported.\n",
      "WARNING:GutenbergLib:Download of book 39017, Eight Lectures on Theoretical Physics: invalid format!\n",
      "WARNING:GutenbergLib:End-text is taking more than half of the book!\n",
      "ERROR:GutenbergLib:Ebook 38157.pdf is only available in PDF format, this is not supported.\n",
      "WARNING:GutenbergLib:Download of book 38157, Moderne Probleme der Physik: invalid format!\n",
      "ERROR:GutenbergLib:Ebook 36884.pdf is only available in PDF format, this is not supported.\n",
      "WARNING:GutenbergLib:Download of book 36884, The Mathematical Analysis of Logic: invalid format!\n",
      "WARNING:GutenbergLib:End-text is taking more than half of the book!\n",
      "WARNING:GutenbergLib:End-text is taking more than half of the book!\n",
      "WARNING:GutenbergLib:End-text is taking more than half of the book!\n",
      "WARNING:GutenbergLib:End-text is taking more than half of the book!\n",
      "ERROR:GutenbergLib:Ebook 26262.pdf is only available in PDF format, this is not supported.\n",
      "WARNING:GutenbergLib:Download of book 26262, Utility of Quaternions in Physics: invalid format!\n",
      "WARNING:GutenbergLib:End-text is taking more than half of the book!\n",
      "WARNING:GutenbergLib:End-text is taking more than half of the book!\n",
      "WARNING:GutenbergLib:End-text is taking more than half of the book!\n",
      "ERROR:GutenbergLib:Ebook 15267.pdf is only available in PDF format, this is not supported.\n",
      "WARNING:GutenbergLib:Download of book 15267, Sechs Vorträge über ausgewählte Gegenstände aus der reinen Mathematik und mathematischen Physik: invalid format!\n",
      "WARNING:GutenbergLib:Failed to download [('are-pdf.pdf', 'bin')], skipping book.\n",
      "WARNING:GutenbergLib:Download of book are, [NOTE: Unfortunately numbers 9116 through 9142 are missing, and not expected to ever be recovered. They were computer-generated audio eBooks. The text sources for the items are still available. Project Gutenberg apologizes for the loss of these files.]: invalid format!\n",
      "WARNING:GutenbergLib:End-text is taking more than half of the book!\n",
      "ERROR:GutenbergLib:Ebook 5740.pdf is only available in PDF format, this is not supported.\n",
      "WARNING:GutenbergLib:Download of book 5740, Tractatus Logico-Philosophicus: invalid format!\n",
      "WARNING:GutenbergLib:Failed to download [('4935-pdf.pdf', 'bin')], skipping book.\n",
      "WARNING:GutenbergLib:Download of book 4935, Pathologie Verbale, ou Lesions de certains mots dans le cours de l'usage: invalid format!\n"
     ]
    }
   ],
   "source": [
    "sl2=gd.insert_book_texts(sl)"
   ]
  },
  {
   "cell_type": "code",
   "execution_count": 21,
   "id": "39af153d-6ea2-4ce1-9e0d-91923f04565e",
   "metadata": {},
   "outputs": [],
   "source": [
    "from Text_Dataset import *"
   ]
  },
  {
   "cell_type": "code",
   "execution_count": 22,
   "id": "27252f30-fbad-426c-a110-18b9cdd32456",
   "metadata": {},
   "outputs": [
    {
     "name": "stderr",
     "output_type": "stream",
     "text": [
      "ERROR:Datasets:Missing attribute(s) ['author'] in text[4], skipping\n",
      "ERROR:Datasets:Missing attribute(s) ['author'] in text[209], skipping\n",
      "ERROR:Datasets:Missing attribute(s) ['author'] in text[238], skipping\n",
      "ERROR:Datasets:Missing attribute(s) ['text'] in text[243], skipping\n",
      "ERROR:Datasets:Missing attribute(s) ['author'] in text[268], skipping\n",
      "ERROR:Datasets:Missing attribute(s) ['text'] in text[272], skipping\n",
      "ERROR:Datasets:Missing attribute(s) ['text'] in text[282], skipping\n",
      "ERROR:Datasets:Missing attribute(s) ['text'] in text[289], skipping\n",
      "ERROR:Datasets:Missing attribute(s) ['author'] in text[318], skipping\n",
      "ERROR:Datasets:Missing attribute(s) ['author'] in text[380], skipping\n",
      "ERROR:Datasets:Missing attribute(s) ['text'] in text[382], skipping\n",
      "ERROR:Datasets:Missing attribute(s) ['author'] in text[414], skipping\n",
      "ERROR:Datasets:Missing attribute(s) ['text'] in text[428], skipping\n",
      "ERROR:Datasets:Missing attribute(s) ['author', 'text'] in text[439], skipping\n",
      "ERROR:Datasets:Missing attribute(s) ['text'] in text[458], skipping\n",
      "ERROR:Datasets:Missing attribute(s) ['author'] in text[467], skipping\n",
      "ERROR:Datasets:Missing attribute(s) ['text'] in text[468], skipping\n",
      "ERROR:Datasets:Missing attribute(s) ['author'] in text[470], skipping\n",
      "ERROR:Datasets:Missing attribute(s) ['author'] in text[490], skipping\n"
     ]
    }
   ],
   "source": [
    "tl = Text_Dataset(sl2)"
   ]
  },
  {
   "cell_type": "code",
   "execution_count": 23,
   "id": "5a1e3c51-00ca-4a3c-a504-fbed2ada0ff8",
   "metadata": {},
   "outputs": [
    {
     "data": {
      "text/plain": [
       "474"
      ]
     },
     "execution_count": 23,
     "metadata": {},
     "output_type": "execute_result"
    }
   ],
   "source": [
    "len(tl.text_list)"
   ]
  },
  {
   "cell_type": "code",
   "execution_count": 24,
   "id": "69805c0b-3584-45e1-bd2c-0032822eb2cd",
   "metadata": {},
   "outputs": [
    {
     "name": "stdout",
     "output_type": "stream",
     "text": [
      "La trilogia di Dorina\n",
      "amente_) Perchè ha licenziato mia figlia? LUIGI (_si mostrerà molto solle\n",
      "\n",
      "Fruits of Philosophy\n",
      "rt of the body. It is near an inch in thickness. The neck of the uterus is situa\n",
      "\n",
      "Zoologische Philosophie\n",
      "druk van 1907 alsmede de Duitsche bewerking van Prof. Arnold Lang te berusten, a\n",
      "\n"
     ]
    }
   ],
   "source": [
    "for i in range(3):\n",
    "    idx, txt = tl.get_random_sample(80, weighted=False)\n",
    "    print(tl.text_list[idx]['title'])\n",
    "    print(txt)\n",
    "    print()"
   ]
  },
  {
   "cell_type": "code",
   "execution_count": 25,
   "id": "16c4f3d8-5e97-43ce-a791-d5f98d743d71",
   "metadata": {},
   "outputs": [
    {
     "data": {
      "text/plain": [
       "54294"
      ]
     },
     "execution_count": 25,
     "metadata": {},
     "output_type": "execute_result"
    }
   ],
   "source": [
    "len(gd.records)"
   ]
  },
  {
   "cell_type": "code",
   "execution_count": 26,
   "id": "a43d32e9-c2ca-4485-8d23-5d3b2a503c63",
   "metadata": {},
   "outputs": [],
   "source": [
    "lang={}\n",
    "for r in gd.records:\n",
    "    if 'language' in r:\n",
    "        l=r['language']\n",
    "    else:\n",
    "        l='<undefined>'\n",
    "    if l in lang:\n",
    "        lang[l]=lang[l]+1\n",
    "    else:\n",
    "        lang[l]=1"
   ]
  },
  {
   "cell_type": "code",
   "execution_count": 27,
   "id": "9c6a6814-0198-4fe4-966f-9c55db50488d",
   "metadata": {},
   "outputs": [
    {
     "data": {
      "text/plain": [
       "{'English': 43948,\n",
       " 'French': 2539,\n",
       " 'Dutch': 619,\n",
       " 'German': 1726,\n",
       " 'Hungarian': 375,\n",
       " 'Finnish': 2074,\n",
       " 'Spanish': 598,\n",
       " 'Latin': 77,\n",
       " 'Afrikaans': 10,\n",
       " 'Swedish': 190,\n",
       " 'Italian': 768,\n",
       " 'Danish': 60,\n",
       " 'Esperanto': 89,\n",
       " 'Galician': 2,\n",
       " 'Romanian': 4,\n",
       " 'Englilsh': 1,\n",
       " 'Low German': 1,\n",
       " 'Portuguese': 402,\n",
       " 'Catalan': 25,\n",
       " 'Frisian': 4,\n",
       " 'Chinese': 390,\n",
       " 'Hebrew': 5,\n",
       " 'Czech': 5,\n",
       " 'Slovenian': 2,\n",
       " 'Norwegian': 14,\n",
       " 'Welsh': 9,\n",
       " 'Greek': 193,\n",
       " 'English and French': 2,\n",
       " 'Pennsylvania Dutch': 1,\n",
       " 'Irish': 2,\n",
       " 'Telugu': 6,\n",
       " 'Scots': 1,\n",
       " 'Cebuano': 2,\n",
       " 'Tagalog': 39,\n",
       " 'Latin and English side by side': 1,\n",
       " 'Estonian': 1,\n",
       " 'Arabic': 1,\n",
       " 'Japanese': 19,\n",
       " 'Ojibwa': 1,\n",
       " 'Scots Gaelic': 1,\n",
       " 'Polish': 17,\n",
       " 'Russian': 5,\n",
       " 'Friulian': 6,\n",
       " 'Portuguese & French': 1,\n",
       " 'English English': 1,\n",
       " 'Arapaho': 1,\n",
       " 'Bagobo and Spanish': 1,\n",
       " 'Inuktitut': 1,\n",
       " 'English, Latin, Spanish, and Italian': 1,\n",
       " 'Zh (Chinese)': 2,\n",
       " 'Zh': 1,\n",
       " 'Czech and Esperanto': 1,\n",
       " 'Icelandic': 6,\n",
       " 'Venetian': 1,\n",
       " 'Kamilaroi and English': 1,\n",
       " 'Iloko, Spanish': 1,\n",
       " 'Spanish and English': 3,\n",
       " 'Interlingua': 1,\n",
       " 'Serbian': 2,\n",
       " 'French and English': 1,\n",
       " 'English, Spanish': 1,\n",
       " 'Iloko': 1,\n",
       " 'Latin and French': 1,\n",
       " 'Ilocano': 1,\n",
       " 'Spanish and Tagalog': 1,\n",
       " 'Quiche': 1,\n",
       " 'German and French': 1,\n",
       " 'Dutch and Flemish': 1,\n",
       " 'Nahuatl and English': 1,\n",
       " 'Latin with English and Greek (ancient)': 1,\n",
       " 'Latin and English': 3,\n",
       " 'English and Old English': 1,\n",
       " 'Slovak': 1,\n",
       " 'Yiddish': 1,\n",
       " 'English/Spanish': 1,\n",
       " 'Aleut': 1,\n",
       " 'Latin, French and English': 1,\n",
       " 'Sanskrit': 1,\n",
       " 'German, with English comments': 1,\n",
       " 'Swedish with English notes': 1,\n",
       " 'English and Latin': 2,\n",
       " 'Middle English and Latin': 1,\n",
       " 'Latin (with accompanying translation into English': 1,\n",
       " 'Latin, with notes in English': 1,\n",
       " 'English with some French': 1,\n",
       " 'Bulgarian': 5}"
      ]
     },
     "execution_count": 27,
     "metadata": {},
     "output_type": "execute_result"
    }
   ],
   "source": [
    "lang"
   ]
  },
  {
   "cell_type": "code",
   "execution_count": 28,
   "id": "03fe7336-7428-4dc4-a323-1584281f07e0",
   "metadata": {},
   "outputs": [],
   "source": [
    "ch=gd.search({'language': 'Chinese'})"
   ]
  },
  {
   "cell_type": "code",
   "execution_count": 31,
   "id": "17aaa291-a6f8-482f-a366-46725ad3aab3",
   "metadata": {},
   "outputs": [
    {
     "name": "stderr",
     "output_type": "stream",
     "text": [
      "WARNING:GutenbergLib:End-text is taking more than half of the book!\n",
      "WARNING:GutenbergLib:End-text is taking more than half of the book!\n",
      "WARNING:GutenbergLib:End-text is taking more than half of the book!\n",
      "WARNING:GutenbergLib:End-text is taking more than half of the book!\n",
      "WARNING:GutenbergLib:End-text is taking more than half of the book!\n",
      "WARNING:GutenbergLib:End-text is taking more than half of the book!\n",
      "WARNING:GutenbergLib:End-text is taking more than half of the book!\n",
      "WARNING:GutenbergLib:End-text is taking more than half of the book!\n",
      "WARNING:GutenbergLib:End-text is taking more than half of the book!\n",
      "WARNING:GutenbergLib:End-text is taking more than half of the book!\n",
      "WARNING:GutenbergLib:End-text is taking more than half of the book!\n",
      "WARNING:GutenbergLib:End-text is taking more than half of the book!\n",
      "WARNING:GutenbergLib:End-text is taking more than half of the book!\n",
      "WARNING:GutenbergLib:End-text is taking more than half of the book!\n",
      "WARNING:GutenbergLib:End-text is taking more than half of the book!\n",
      "WARNING:GutenbergLib:End-text is taking more than half of the book!\n",
      "WARNING:GutenbergLib:End-text is taking more than half of the book!\n",
      "WARNING:GutenbergLib:End-text is taking more than half of the book!\n",
      "WARNING:GutenbergLib:End-text is taking more than half of the book!\n",
      "WARNING:GutenbergLib:End-text is taking more than half of the book!\n",
      "WARNING:GutenbergLib:End-text is taking more than half of the book!\n",
      "WARNING:GutenbergLib:End-text is taking more than half of the book!\n",
      "WARNING:GutenbergLib:End-text is taking more than half of the book!\n",
      "WARNING:GutenbergLib:End-text is taking more than half of the book!\n",
      "WARNING:GutenbergLib:End-text is taking more than half of the book!\n",
      "WARNING:GutenbergLib:End-text is taking more than half of the book!\n",
      "WARNING:GutenbergLib:End-text is taking more than half of the book!\n",
      "WARNING:GutenbergLib:End-text is taking more than half of the book!\n",
      "WARNING:GutenbergLib:End-text is taking more than half of the book!\n",
      "WARNING:GutenbergLib:End-text is taking more than half of the book!\n",
      "WARNING:GutenbergLib:End-text is taking more than half of the book!\n",
      "WARNING:GutenbergLib:End-text is taking more than half of the book!\n",
      "WARNING:GutenbergLib:End-text is taking more than half of the book!\n",
      "WARNING:GutenbergLib:End-text is taking more than half of the book!\n",
      "WARNING:GutenbergLib:End-text is taking more than half of the book!\n",
      "WARNING:GutenbergLib:End-text is taking more than half of the book!\n",
      "WARNING:GutenbergLib:End-text is taking more than half of the book!\n",
      "WARNING:GutenbergLib:End-text is taking more than half of the book!\n",
      "WARNING:GutenbergLib:End-text is taking more than half of the book!\n",
      "WARNING:GutenbergLib:End-text is taking more than half of the book!\n",
      "WARNING:GutenbergLib:End-text is taking more than half of the book!\n",
      "WARNING:GutenbergLib:End-text is taking more than half of the book!\n",
      "WARNING:GutenbergLib:End-text is taking more than half of the book!\n",
      "WARNING:GutenbergLib:End-text is taking more than half of the book!\n",
      "WARNING:GutenbergLib:End-text is taking more than half of the book!\n",
      "WARNING:GutenbergLib:End-text is taking more than half of the book!\n",
      "WARNING:GutenbergLib:End-text is taking more than half of the book!\n",
      "WARNING:GutenbergLib:End-text is taking more than half of the book!\n",
      "WARNING:GutenbergLib:End-text is taking more than half of the book!\n",
      "WARNING:GutenbergLib:End-text is taking more than half of the book!\n",
      "WARNING:GutenbergLib:End-text is taking more than half of the book!\n",
      "WARNING:GutenbergLib:End-text is taking more than half of the book!\n",
      "WARNING:GutenbergLib:End-text is taking more than half of the book!\n",
      "WARNING:GutenbergLib:End-text is taking more than half of the book!\n",
      "WARNING:GutenbergLib:End-text is taking more than half of the book!\n",
      "WARNING:GutenbergLib:End-text is taking more than half of the book!\n",
      "WARNING:GutenbergLib:End-text is taking more than half of the book!\n",
      "WARNING:GutenbergLib:End-text is taking more than half of the book!\n",
      "WARNING:GutenbergLib:End-text is taking more than half of the book!\n",
      "WARNING:GutenbergLib:End-text is taking more than half of the book!\n",
      "WARNING:GutenbergLib:End-text is taking more than half of the book!\n",
      "WARNING:GutenbergLib:End-text is taking more than half of the book!\n",
      "WARNING:GutenbergLib:End-text is taking more than half of the book!\n",
      "WARNING:GutenbergLib:End-text is taking more than half of the book!\n",
      "WARNING:GutenbergLib:End-text is taking more than half of the book!\n",
      "WARNING:GutenbergLib:End-text is taking more than half of the book!\n",
      "WARNING:GutenbergLib:End-text is taking more than half of the book!\n",
      "WARNING:GutenbergLib:End-text is taking more than half of the book!\n",
      "WARNING:GutenbergLib:End-text is taking more than half of the book!\n",
      "WARNING:GutenbergLib:End-text is taking more than half of the book!\n",
      "WARNING:GutenbergLib:End-text is taking more than half of the book!\n",
      "WARNING:GutenbergLib:End-text is taking more than half of the book!\n",
      "WARNING:GutenbergLib:End-text is taking more than half of the book!\n",
      "WARNING:GutenbergLib:End-text is taking more than half of the book!\n",
      "WARNING:GutenbergLib:End-text is taking more than half of the book!\n",
      "WARNING:GutenbergLib:End-text is taking more than half of the book!\n",
      "WARNING:GutenbergLib:End-text is taking more than half of the book!\n",
      "WARNING:GutenbergLib:End-text is taking more than half of the book!\n",
      "WARNING:GutenbergLib:End-text is taking more than half of the book!\n",
      "WARNING:GutenbergLib:End-text is taking more than half of the book!\n",
      "WARNING:GutenbergLib:End-text is taking more than half of the book!\n",
      "WARNING:GutenbergLib:End-text is taking more than half of the book!\n",
      "WARNING:GutenbergLib:End-text is taking more than half of the book!\n",
      "WARNING:GutenbergLib:End-text is taking more than half of the book!\n",
      "WARNING:GutenbergLib:End-text is taking more than half of the book!\n",
      "WARNING:GutenbergLib:End-text is taking more than half of the book!\n",
      "WARNING:GutenbergLib:End-text is taking more than half of the book!\n",
      "WARNING:GutenbergLib:End-text is taking more than half of the book!\n",
      "WARNING:GutenbergLib:End-text is taking more than half of the book!\n",
      "WARNING:GutenbergLib:End-text is taking more than half of the book!\n",
      "WARNING:GutenbergLib:End-text is taking more than half of the book!\n",
      "WARNING:GutenbergLib:End-text is taking more than half of the book!\n",
      "WARNING:GutenbergLib:End-text is taking more than half of the book!\n",
      "WARNING:GutenbergLib:End-text is taking more than half of the book!\n",
      "WARNING:GutenbergLib:End-text is taking more than half of the book!\n"
     ]
    }
   ],
   "source": [
    "ch=gd.insert_book_texts(ch)"
   ]
  },
  {
   "cell_type": "code",
   "execution_count": 35,
   "id": "a35f750c-adc7-4da3-bab5-44340d5dd4c9",
   "metadata": {},
   "outputs": [
    {
     "data": {
      "text/html": [
       "<div>\n",
       "<style scoped>\n",
       "    .dataframe tbody tr th:only-of-type {\n",
       "        vertical-align: middle;\n",
       "    }\n",
       "\n",
       "    .dataframe tbody tr th {\n",
       "        vertical-align: top;\n",
       "    }\n",
       "\n",
       "    .dataframe thead th {\n",
       "        text-align: right;\n",
       "    }\n",
       "</style>\n",
       "<table border=\"1\" class=\"dataframe\">\n",
       "  <thead>\n",
       "    <tr style=\"text-align: right;\">\n",
       "      <th></th>\n",
       "      <th>title</th>\n",
       "      <th>ebook_id</th>\n",
       "      <th>author</th>\n",
       "      <th>subtitle</th>\n",
       "      <th>language</th>\n",
       "      <th>text</th>\n",
       "      <th>editor</th>\n",
       "      <th>editors</th>\n",
       "      <th>commentator</th>\n",
       "      <th>author a.k.a.</th>\n",
       "    </tr>\n",
       "  </thead>\n",
       "  <tbody>\n",
       "    <tr>\n",
       "      <th>0</th>\n",
       "      <td>Hu yu kai lu, 滬語開路</td>\n",
       "      <td>62791</td>\n",
       "      <td>Jay William Crofoot and Frank Joseph Rawlinson</td>\n",
       "      <td>Conversational Exercises in the Shanghai Dialect</td>\n",
       "      <td>Chinese</td>\n",
       "      <td>滬語開路\\n\\n       ...</td>\n",
       "      <td>NaN</td>\n",
       "      <td>NaN</td>\n",
       "      <td>NaN</td>\n",
       "      <td>NaN</td>\n",
       "    </tr>\n",
       "    <tr>\n",
       "      <th>1</th>\n",
       "      <td>Ching Lou Meng</td>\n",
       "      <td>57278</td>\n",
       "      <td>Ta Yu</td>\n",
       "      <td>NaN</td>\n",
       "      <td>Chinese</td>\n",
       "      <td>Title青樓夢Ching Lou Meng\\nAuthor達俞Ta Yu\\nPublish...</td>\n",
       "      <td>NaN</td>\n",
       "      <td>NaN</td>\n",
       "      <td>NaN</td>\n",
       "      <td>NaN</td>\n",
       "    </tr>\n",
       "    <tr>\n",
       "      <th>2</th>\n",
       "      <td>Pai Tu Chi</td>\n",
       "      <td>57238</td>\n",
       "      <td>I Ming</td>\n",
       "      <td>NaN</td>\n",
       "      <td>Chinese</td>\n",
       "      <td>戲文?白兔記\\n第一出開宗\\n【滿庭芳】(末上)五代殘唐，漢劉知遠，生時紫霧紅光。李家莊上，...</td>\n",
       "      <td>NaN</td>\n",
       "      <td>NaN</td>\n",
       "      <td>NaN</td>\n",
       "      <td>NaN</td>\n",
       "    </tr>\n",
       "    <tr>\n",
       "      <th>3</th>\n",
       "      <td>Ping Iau Chuan</td>\n",
       "      <td>57227</td>\n",
       "      <td>Meng Long Feng and Guan Jung Luo</td>\n",
       "      <td>NaN</td>\n",
       "      <td>Chinese</td>\n",
       "      <td>第一回　授劍術處女下山　盜法書袁公歸洞\\n生生化化本無涯，但是含情總一家。\\n不信精靈能變幻...</td>\n",
       "      <td>NaN</td>\n",
       "      <td>NaN</td>\n",
       "      <td>NaN</td>\n",
       "      <td>NaN</td>\n",
       "    </tr>\n",
       "    <tr>\n",
       "      <th>4</th>\n",
       "      <td>Lao-can-you-ji-xu-pian</td>\n",
       "      <td>56291</td>\n",
       "      <td>e liu</td>\n",
       "      <td>NaN</td>\n",
       "      <td>Chinese</td>\n",
       "      <td>Title: 老殘遊記續集\\nTitle: lao-can-you-ji-xu-pian\\n...</td>\n",
       "      <td>NaN</td>\n",
       "      <td>NaN</td>\n",
       "      <td>NaN</td>\n",
       "      <td>NaN</td>\n",
       "    </tr>\n",
       "    <tr>\n",
       "      <th>...</th>\n",
       "      <td>...</td>\n",
       "      <td>...</td>\n",
       "      <td>...</td>\n",
       "      <td>...</td>\n",
       "      <td>...</td>\n",
       "      <td>...</td>\n",
       "      <td>...</td>\n",
       "      <td>...</td>\n",
       "      <td>...</td>\n",
       "      <td>...</td>\n",
       "    </tr>\n",
       "    <tr>\n",
       "      <th>387</th>\n",
       "      <td>Fen Zhuang Lou, Chapters 41-50</td>\n",
       "      <td>4576</td>\n",
       "      <td>Guanzhong Luo</td>\n",
       "      <td>NaN</td>\n",
       "      <td>Chinese</td>\n",
       "      <td>Fen Zhuang Lou Chapters 41-50 (Cosmetical Buil...</td>\n",
       "      <td>NaN</td>\n",
       "      <td>NaN</td>\n",
       "      <td>NaN</td>\n",
       "      <td>NaN</td>\n",
       "    </tr>\n",
       "    <tr>\n",
       "      <th>388</th>\n",
       "      <td>Fen Zhuang Lou, Chapters 31-40</td>\n",
       "      <td>4575</td>\n",
       "      <td>Guanzhong Luo</td>\n",
       "      <td>NaN</td>\n",
       "      <td>Chinese</td>\n",
       "      <td>Fen Zhuang Lou Chapters 31-40 (Cosmetical Buil...</td>\n",
       "      <td>NaN</td>\n",
       "      <td>NaN</td>\n",
       "      <td>NaN</td>\n",
       "      <td>NaN</td>\n",
       "    </tr>\n",
       "    <tr>\n",
       "      <th>389</th>\n",
       "      <td>Fen Zhuang Lou, Chapters 21-30</td>\n",
       "      <td>4574</td>\n",
       "      <td>Guanzhong Luo</td>\n",
       "      <td>NaN</td>\n",
       "      <td>Chinese</td>\n",
       "      <td>Fen Zhuang Lou Chapters 21-30 (article about g...</td>\n",
       "      <td>NaN</td>\n",
       "      <td>NaN</td>\n",
       "      <td>NaN</td>\n",
       "      <td>NaN</td>\n",
       "    </tr>\n",
       "    <tr>\n",
       "      <th>390</th>\n",
       "      <td>Fen Zhuang Lou, Chapters 11-20</td>\n",
       "      <td>4573</td>\n",
       "      <td>Guanzhong Luo</td>\n",
       "      <td>NaN</td>\n",
       "      <td>Chinese</td>\n",
       "      <td>Fen Zhuang Lou Chapters 11-20 (Cosmetical Buil...</td>\n",
       "      <td>NaN</td>\n",
       "      <td>NaN</td>\n",
       "      <td>NaN</td>\n",
       "      <td>NaN</td>\n",
       "    </tr>\n",
       "    <tr>\n",
       "      <th>391</th>\n",
       "      <td>Fen Zhuang Lou, Chapters 1-10</td>\n",
       "      <td>4572</td>\n",
       "      <td>Guanzhong Luo</td>\n",
       "      <td>NaN</td>\n",
       "      <td>Chinese</td>\n",
       "      <td>Fen Zhuang Lou Chapters 1-10 (Cosmetical Build...</td>\n",
       "      <td>NaN</td>\n",
       "      <td>NaN</td>\n",
       "      <td>NaN</td>\n",
       "      <td>NaN</td>\n",
       "    </tr>\n",
       "  </tbody>\n",
       "</table>\n",
       "<p>392 rows × 10 columns</p>\n",
       "</div>"
      ],
      "text/plain": [
       "                              title ebook_id  \\\n",
       "0                Hu yu kai lu, 滬語開路    62791   \n",
       "1                    Ching Lou Meng    57278   \n",
       "2                        Pai Tu Chi    57238   \n",
       "3                    Ping Iau Chuan    57227   \n",
       "4            Lao-can-you-ji-xu-pian    56291   \n",
       "..                              ...      ...   \n",
       "387  Fen Zhuang Lou, Chapters 41-50     4576   \n",
       "388  Fen Zhuang Lou, Chapters 31-40     4575   \n",
       "389  Fen Zhuang Lou, Chapters 21-30     4574   \n",
       "390  Fen Zhuang Lou, Chapters 11-20     4573   \n",
       "391   Fen Zhuang Lou, Chapters 1-10     4572   \n",
       "\n",
       "                                             author  \\\n",
       "0    Jay William Crofoot and Frank Joseph Rawlinson   \n",
       "1                                             Ta Yu   \n",
       "2                                            I Ming   \n",
       "3                  Meng Long Feng and Guan Jung Luo   \n",
       "4                                             e liu   \n",
       "..                                              ...   \n",
       "387                                   Guanzhong Luo   \n",
       "388                                   Guanzhong Luo   \n",
       "389                                   Guanzhong Luo   \n",
       "390                                   Guanzhong Luo   \n",
       "391                                   Guanzhong Luo   \n",
       "\n",
       "                                             subtitle language  \\\n",
       "0    Conversational Exercises in the Shanghai Dialect  Chinese   \n",
       "1                                                 NaN  Chinese   \n",
       "2                                                 NaN  Chinese   \n",
       "3                                                 NaN  Chinese   \n",
       "4                                                 NaN  Chinese   \n",
       "..                                                ...      ...   \n",
       "387                                               NaN  Chinese   \n",
       "388                                               NaN  Chinese   \n",
       "389                                               NaN  Chinese   \n",
       "390                                               NaN  Chinese   \n",
       "391                                               NaN  Chinese   \n",
       "\n",
       "                                                  text editor editors  \\\n",
       "0                                   滬語開路\\n\\n       ...    NaN     NaN   \n",
       "1    Title青樓夢Ching Lou Meng\\nAuthor達俞Ta Yu\\nPublish...    NaN     NaN   \n",
       "2    戲文?白兔記\\n第一出開宗\\n【滿庭芳】(末上)五代殘唐，漢劉知遠，生時紫霧紅光。李家莊上，...    NaN     NaN   \n",
       "3    第一回　授劍術處女下山　盜法書袁公歸洞\\n生生化化本無涯，但是含情總一家。\\n不信精靈能變幻...    NaN     NaN   \n",
       "4    Title: 老殘遊記續集\\nTitle: lao-can-you-ji-xu-pian\\n...    NaN     NaN   \n",
       "..                                                 ...    ...     ...   \n",
       "387  Fen Zhuang Lou Chapters 41-50 (Cosmetical Buil...    NaN     NaN   \n",
       "388  Fen Zhuang Lou Chapters 31-40 (Cosmetical Buil...    NaN     NaN   \n",
       "389  Fen Zhuang Lou Chapters 21-30 (article about g...    NaN     NaN   \n",
       "390  Fen Zhuang Lou Chapters 11-20 (Cosmetical Buil...    NaN     NaN   \n",
       "391  Fen Zhuang Lou Chapters 1-10 (Cosmetical Build...    NaN     NaN   \n",
       "\n",
       "    commentator author a.k.a.  \n",
       "0           NaN           NaN  \n",
       "1           NaN           NaN  \n",
       "2           NaN           NaN  \n",
       "3           NaN           NaN  \n",
       "4           NaN           NaN  \n",
       "..          ...           ...  \n",
       "387         NaN           NaN  \n",
       "388         NaN           NaN  \n",
       "389         NaN           NaN  \n",
       "390         NaN           NaN  \n",
       "391         NaN           NaN  \n",
       "\n",
       "[392 rows x 10 columns]"
      ]
     },
     "execution_count": 35,
     "metadata": {},
     "output_type": "execute_result"
    }
   ],
   "source": [
    "import pandas as pd\n",
    "dfch = pd.DataFrame(ch)\n",
    "dfch"
   ]
  },
  {
   "cell_type": "code",
   "execution_count": 38,
   "id": "ffa131d2-5388-4d81-a9ec-fc155f004e7e",
   "metadata": {},
   "outputs": [
    {
     "data": {
      "text/plain": [
       "'Title青樓夢Ching Lou Meng\\nAuthor達俞Ta Yu\\nPublisher河洛圖書出版社Ho Lo Book Publisher\\nPublishing date1980\\n\\n青樓夢, is also called綺紅小史, totaled sixty-four times and became a book in Guangxu four years (1878).\\n\\n青樓夢 提要 孟瑤\\n\\u3000\\u3000青樓夢六十四回，題「釐?慕真山人著，梁溪瀟湘侍者評。」評者即鄒弢；字翰風，江蘇金匱人。作者為俞達，字吟香，江蘇長洲人。中年頗作冶遊，後則擺脫為難，光緒十年(一八八四)以風疾卒。\\n ? ??余幼作客，歷?胥門，幾及十年，所交亦眾，為趨炎逐熱，俱非同心，獨吟香一人可共患難。君姓俞名達，自號慕真山人，中年累於情，此來揚州夢醒，志在山林，而塵緋羈牽，遽難擺脫。甲申初夏，遽以風疾亡。著有醉紅軒筆話、花間棒、吳中考古錄、閒鷗集等書。詩亦清新不俗。......(三借廬筆談四)\\n  ???青樓夢成於光緒四年(一八七八)，取吳中娼女，以發揮其「遊花園、護美人、採芹香、掇巍科、任政事、報親恩、全友誼、敦琴瑟、撫子女、睦親鄰、謝繁華、求道德」(第一回)之人生理想。所以這不是一本絕對寫實的書。當然，作者受紅樓夢的影響很大，卻又改變寫作對象，由淑女而娼妓。其內容無非是繪摹柔情，敷陳艷跡而已。書中主角名金挹香，字企真，蘇州府長洲縣人。幼工詩文，長尤慧美。然不娶，思得一有情人而不可得，而「當世滔滔，斯人誰歟?竟使一介寒儒，懷才不遇，公卿大夫竟無一識我之人，反不若青樓女子，竟有慧眼識英雄餘未遇時也。」於是乃作狹邪遊，特受妓人愛重，後來又飛黃騰達，終究悟道飛昇。\\n ?  ??.......至軒中，三人重複觀玩，建其中修飾。別有巧思。軒外名花綺麗，草木精神。正中擺了筵席，月素定了位次，三人居中，眾美人亦序次而坐。第一位鴛鴦?散人褚愛芳，第二位?柳山人玉湘雲，第三位鐵笛仙袁巧雲，第四位愛雛女史朱素卿，第五位借花春早起使者陸麗春，第六位探梅女士鄭素卿，第七位浣花仙使陸文卿......末了護芳樓主人自己先坐了，兩旁四對侍兒斟酒，眾美人傳盃弄盞，極盡綢繆。挹香像慧瓊道:「今日如此佳會，宜舉一觴，庶幾不付此良辰。月素道:「君言誠是，即請侍令。」挹香說道:「請主人自己開令」月素道:「豈有此理，還請你來。」挹香被推不過，只得說道:「有占了!」眾美人道:「令官必須先飲門面杯起令纔才是。」于是十二位美人俱各斟一杯酒奉與挹香:挹香一飲而盡，乃啟口道:「酒令勝於軍令，違者罰酒三巨?。」眾美人唯唯從命。(第五回)(原載「中國小說史」，頁六六五──六六六)\\n\\n第一回\\t夢黃梁演成新說\\u3000論紅綃試訪佳人\\n詞曰：\\n\\u3000\\u3000窩是銷金，人來似玉，笙歌競奏山塘。璧月瓊樓，盡教遣此風光。卻憐絲竹當年盛，忽兵戈、變起倉皇。恨難禁，怨煞王孫，惱煞吳娘。而今再睹昇平宇，聚鴛鴦小隊，脂粉成行。依舊繁華，青樓都貯群芳。個儂本是多情種，憑誰人一著意評章。願今生，錦帳千重，護遍紅妝。\\n\\u3000\\u3000慕真山人曰：這首詞是專說吳中風土，自古繁華，粉藪脂林，不能枚舉，雖經亂離之後，而章台種柳，深巷栽花，仍不改風流景象。吾少也賤，恨未能遍歷歌簇，追隨舞席，帷是夙負癡情，於情字中時加兢惕。但近來有種豪華子弟，好色濫淫，恃驕誇富，非豔說人家閨閫，即鋪張自己風流，妄詡多情，其實未知「情」字真解。不知人之有情，非歷幾千百年日月之精華，山川之秀氣，鬼神之契合，奇花異草，瑞鳥祥雲，禎符有兆，方能生出這癡男癡女，生可以死，死可以生，情之所鍾，若膠漆相互分拆不開，所以有情者之罕覯也。今我雖能解得情中之旨，而滿腔素志，總不能發洩一二分出來。\\n\\u3000\\u3000那日正在無聊，忽見一道人自門外突然而至。細視之，鶴髮童顏，超然塵表。正欲詰所由來，那道人即出古銅鏡一面，曰：「此爾一生佳話盡寓其中。毋多詰，鑒後即明。」言訖不見。\\n\\u3000\\u3000我即捧鏡覷之，忽見鏡中花木繁茂，不勝奇訝。熟視良久，覺得身輕如霧，神入鏡中。恍惚間見兩旁栽植三十六本花樹，樹下各有一仙女侍立，正中坐著一位道長，相貌殊非凡品。正視間，見道長懷中取出一本書來，光華燦目，偷覷之，卻是一本花名的冊子。俄聞道者一一點名，樹下眾仙女俱上前參見。又見他默默的說了幾句，眾女始一齊退出。俄又聞仙樂盈盈，一道者帶著一個仙女冉冉而來。及至，二人相見甚殷。那道者謂那位新來道者道：「座下金童玉女一案，本苑主已先發落三十六花降世去矣。如今兩造俱至，望即施行。」那位道人點了點頭，便宣仙女上前，也不知說了幾句什麼話，仙女亦即退去。繼而又聞傳宣我的名字，我也不解其故，便兢兢上前見了。那道者即命我投生吳中金氏。我正欲詢其故，覺得一霎模糊，道者已失，自己竟變了一個孩子，知已為金氏子。但細細熟思，前因未昧。及長，遂以挹香名之。游花國，護美人，採芹香，掇巍科，任政事，報親恩，全友誼，敦琴瑟，撫子女，睦親鄰，謝繁華，求道德，做了二十餘年事業。\\n\\u3000\\u3000一日，忽見前生之贈鏡道人一棒喝來，驚得大汗滿身，神歸軀殼，鏡亦杳然。忽聞架上鸚哥誦詩云：\\n\\u3000\\u3000一番事業歸何處，花謝春深老杜鵑。\\n\\u3000\\u3000醒後細思鏡中之事，猶覺歷歷可溯。於是假虛作實，以幻作真，將鏡中所為所作錄成一書，共成六十四回，名之曰《綺紅小史》，又曰《青樓夢》。其人雖無，其事或有。後之閱者作如是觀亦可，不作如是觀亦無不可。正所謂：\\n\\u3000\\u3000夢中成夢無非夢，書外成書亦算書。\\n\\u3000\\u3000此書非談別事，專說鏡中一段幻跡。這人姓金，字挹香，又字企真，蘇州府長洲縣人氏。父字鐵山，母王氏。家非巨富，室尚小康。生挹香，極鍾愛。十齡即就外傅，十四歲詩賦文章已皆了了。及二八，父母欲為娶室。挹香素性風流，托言尚早，意欲目見躬逢，得天下有情人方成眷屬。父母素溺愛，亦不過為固執之。挹香雖才思敏捷，應試不難，然志欲先求佳偶，再博功名，是以年將弱冠，未掇巍科。生性無紈?氣，有高士風。身餘蘭臭，無煩荀令薰香；貌似蓮花，不藉何郎傅粉。故人人愛慕之。\\n\\u3000\\u3000一日，挹香在書房看書，正在無聊，卻有兩個通家好友到來看他。一個姓葉，字仲英，因母制丁憂，未邀顯達；一個是姓鄒，字拜林，宏才博學，早挹芹香，與挹香最投契。因是日天氣清和，仲英約拜林閒步尋春，同至挹香處，討今論古，賞賦鑒之。拜林謂挹香道：「昨日我館中課文嚴飭，甚屬疲懶，今日幸得仲英過談，故偕至你處散悶。」挹香乃問道：「林哥哥昨課何題？」拜林道：「乃『不患無位』一章。詩題乃『崑崙奴盜紅綃』。」挹香道：「弟嘗考崑崙奴盜綃一事，真為千古美談。老崑崙忠心為主，俏紅綃慧眼鍾情，如此佳人義僕，恐此時不能再得矣。弟索性癡狂，志欲訪遍名花，竊恐莫予云覯。若得紅綃輩事之，弟之願亦畢矣。」復道：「課作曾否帶來？」拜林道：「文未帶來，只攜詩在。」乃索詩展開細讀。讀至第四韻「飛騰仙子術，竊窕美人軀」，不禁大贊道：「風流倜儻，卓犖不群，抑且脂香粉澤，足令讀者神迷。第思紅綃輩，此時雖不能遇，而風塵中亦多慧質。弟欲一訪花叢，苟得知己能逢，亦何嫌飄殘之柳絮，蹂躪之名花。不識兄等肯助我一遊乎？」仲英道：「弟愚矣。夫青樓之輩，以色事人，以財利己，所知惟諂，不知其情。朝秦暮楚，酒食是娛；強笑假歡，纏頭是愛。況生於貧賤，長於卑污，耳目皆狹，胸次自小。所學者婢膝奴顏，所工者笑傲謔浪。即使抹粉塗脂，僅曉爭妍鬥媚，又何知情之所鍾耶？」\\n\\u3000\\u3000挹香道：「兄差矣！夫秦樓楚館，雖屬無情，然金校玉葉，士族官商，有情者淪落非乏其人。第須具青眼而擇之，其中豈無佳麗？況歌衫舞扇，前代有貴為后妃者，他如綠珠奮報主之身，紅拂具識人之眼，梁夫人勛垂史冊，柳如是志奪鬚眉，固無論矣。即馬湘蘭之喜近名流，李香君之力排閹黨，風雅卓識，高出一籌。然則章台之矯矯，不大勝於深閨之碌碌者乎？又況梨渦蘊藉，樊素風流，過虎阜而弔真娘，寓錢塘而懷蘇小，胥屬文人墨士眷戀多情之事也。只何輕視若斯耶？」仲英語塞。\\n\\u3000\\u3000拜林道：「吾弟既必欲一行，我等亦不敢掃興，但到何處去尋訪春光呢？」挹香道：「兄不聞千將坊中章幼卿才技雙全，豔名久著。弟未曾一見，何不乘興而去。」拜林稱善。於是三人偕往。甫入門，早有人通報，即請人室。見其高堂大廈，畫舫珠簾，花木扶疏，雕欄繚繞。暫入座，有麗者姍姍至道：「家主請公子內書房敘話。」三人偕之行，曲折迴廊，綽有大家模範。俄聞異香一陣，別開洞天，室中陳設愈雅。上懸一額曰「集紅軒」，正中掛一幅名人畫的《寒江獨釣圖》，兩旁硃砂小對，四面掛幾幅名人題詠。爐煙裊裊，篆拂瑤窗；珠箔沈沈，蒜垂銀線。\\n\\u3000\\u3000三人正觀時，見兩垂髫捧茶出，諦視之，肌理細膩，風雅宜人，又非俄頃引導者。爰啟朱唇，詰姓氏。三人一一答之。拜林道：「僕等聞貴小姐芳名，如雷貫耳，傾慕久深。屢欲瞻仰仙姿，猶恐鄙陋無文，莫由晉謁。今幸這位金公子說起，故不揣冒昧，齋沐而來。倘蒙不棄，許覲蘭儀，則鏡閣妝台，盡可容生等一侍也。」婢道：「公子貴人說那裡話。但我家小姐晨妝未罷，未識貴公子能稍等否？」拜林道：「不妨。」婢乃辭去。\\n\\u3000\\u3000又片時，忽聽環佩珊珊，香風馥馥，四侍女扶幼卿出至集紅軒。\\n\\u3000\\u3000紅羞翠怯，嬌靨含春。身穿時花繡襖，低束羅裙，貌如仙子，腰似小蠻，蓮瓣雙鉤，纖不盈掬。上前與三人見禮，各敘姓名，然後道：「妾風塵陋質，貌乏葑菲，怎敢勞貴公予殷殷垂顧。」挹香道：「佳人難得，震耳芳名。今蒙芳卿不棄，許見階前，不勝僥倖。並知芳卿研窮翰墨，酷愛詩詞，佳作唱和，往來必廣，未識可能拜誦一二否？」幼卿道：「妾淪落煙花，確是性耽吟詠，故常蒙時流惠施藻句，時逢閨秀榮錫瑤章。妾雖酬答有詩，恐取出必遭貴公子竊笑也。」拜林道：「儒林多陳腐之言，不堪悅目。苟有香奩白雪，彤管陽春，僕等視之不啻性命，望之勝於雲霓。乞芳卿賜我儕一讀，何異百朋之錫。」幼卿道：「既蒙君子見愛，妄何敢藏拙，尚望勿笑'"
      ]
     },
     "execution_count": 38,
     "metadata": {},
     "output_type": "execute_result"
    }
   ],
   "source": [
    "ch[1]['text'][:4000]"
   ]
  },
  {
   "cell_type": "code",
   "execution_count": 14,
   "id": "3fbfee4b-4458-42a8-bc36-420dfbf14352",
   "metadata": {},
   "outputs": [
    {
     "name": "stdout",
     "output_type": "stream",
     "text": [
      "Chronological Table of the Catholic Primates of Ireland\n",
      "derers of Thomas a Becket, to ingratiate himself with Henry, by a similar act of\n"
     ]
    }
   ],
   "source": [
    "print(tl.text_list[idx]['title'])\n",
    "print(txt)\n",
    "    "
   ]
  },
  {
   "cell_type": "code",
   "execution_count": 15,
   "id": "48862f3c-1acd-4b6b-a999-342033d3ab3f",
   "metadata": {},
   "outputs": [
    {
     "data": {
      "text/plain": [
       "[0.00027780643809618906,\n",
       " 0.002864678950037528,\n",
       " 0.0057174211470010965,\n",
       " 0.008127887589850542,\n",
       " 0.011424965893630309,\n",
       " 0.014922314910917838,\n",
       " 0.016222078443573592,\n",
       " 0.01635423788453016,\n",
       " 0.018469493447533413,\n",
       " 0.020126362627552116]"
      ]
     },
     "execution_count": 15,
     "metadata": {},
     "output_type": "execute_result"
    }
   ],
   "source": [
    "tl.tcum[:10]"
   ]
  },
  {
   "cell_type": "code",
   "execution_count": 16,
   "id": "ef34dae3-87f8-4538-9ad4-37959016b784",
   "metadata": {},
   "outputs": [
    {
     "data": {
      "text/html": [
       "<span style=\"background-color:#d4e6e1;\">Wenn wir i</span><sup>[96]</sup>rgendwa<span style=\"background-color:#fae5d3;\">s schreiben</span><sup>[61]</sup>, daß<span style=\"background-color:#edebd0;\"> Teil aus der </span><sup>[213]</sup>Sourc<span style=\"background-color:#eadbd8;\">e enthält, so </span><sup>[83]</sup>wie<span style=\"background-color:#e5e8e8;\">: Das ist </span><sup>[383]</sup>ih<span style=\"background-color:#fae5d3;\">r Wahlspruch</span><sup>[61]</sup>, dan<span style=\"background-color:#d4efdf;\">n erfolgt e</span><sup>[39]</sup>in Highlight"
      ],
      "text/plain": [
       "<IPython.core.display.HTML object>"
      ]
     },
     "metadata": {},
     "output_type": "display_data"
    },
    {
     "data": {
      "text/html": [
       "<small><p style=\"text-align:right;\">Sources: <span style=\"background-color:#d4e6e1;\">Justus, Freiherr von Liebig: Die organische Chemie in ihrer Anwendung auf Physiologie und Pathologie</span><sup>[96]</sup>, <span style=\"background-color:#fae5d3;\">Hermann Grothe: Leonardo da Vinci als Ingenieur und Philosoph</span><sup>[61]</sup>, <span style=\"background-color:#edebd0;\">Theodor Elsenhans: Psychologie und Logik</span><sup>[213]</sup>, <span style=\"background-color:#eadbd8;\">Rudolf Wagner: Handbuch der chemischen Technologie</span><sup>[83]</sup>, <span style=\"background-color:#e5e8e8;\">Sigmund Freud: Zur Psychopathologie des Alltagslebens</span><sup>[383]</sup>, <span style=\"background-color:#d4efdf;\">Otto Ule: Warum und Weil. Physikalischer Teil.</span><sup>[39]</sup></p></small>"
      ],
      "text/plain": [
       "<IPython.core.display.HTML object>"
      ]
     },
     "metadata": {},
     "output_type": "display_data"
    }
   ],
   "source": [
    "tl.source_highlight(\"Wenn wir irgendwas schreiben, daß Teil aus der Source enthält, so wie: Das ist ihr Wahlspruch, dann erfolgt ein Highlight\")"
   ]
  },
  {
   "cell_type": "code",
   "execution_count": 17,
   "id": "04839d8d-1499-46f8-96e7-d7a205df71cd",
   "metadata": {},
   "outputs": [
    {
     "data": {
      "text/html": [
       "<span style=\"background-color:#e2d7d5;\">If we write </span><sup>[132]</sup><span style=\"background-color:#ecf3cf;\">anything that cont</span><sup>[374]</sup><span style=\"background-color:#d0ece7;\">ains parts </span><sup>[376]</sup><span style=\"background-color:#d8daef;\">of the sources, </span><sup>[417]</sup>lik<span style=\"background-color:#eadbd8;\">e: that is the</span><sup>[3]</sup><span style=\"background-color:#ebdef0;\">ir motto, t</span><sup>[114]</sup><span style=\"background-color:#e5e8e8;\">hen a highl</span><sup>[31]</sup><span style=\"background-color:#d4e6e1;\">ight will be app</span><sup>[272]</sup>lied."
      ],
      "text/plain": [
       "<IPython.core.display.HTML object>"
      ]
     },
     "metadata": {},
     "output_type": "display_data"
    },
    {
     "data": {
      "text/html": [
       "<small><p style=\"text-align:right;\">Sources: <span style=\"background-color:#e2d7d5;\">Mary Somerville: On the Connexion of the Physical Sciences</span><sup>[132]</sup>, <span style=\"background-color:#ecf3cf;\">Andrew T. Still: Philosophy of Osteopathy</span><sup>[374]</sup>, <span style=\"background-color:#d0ece7;\">Bertrand Russell: Mysticism and Logic and Other Essays</span><sup>[376]</sup>, <span style=\"background-color:#d8daef;\">Lucien Poincare: The New Physics and Its Evolution</span><sup>[417]</sup>, <span style=\"background-color:#eadbd8;\">Yrjö Hirn: The origins of art, a psychological & sociological inquiry</span><sup>[3]</sup>, <span style=\"background-color:#ebdef0;\">Richard Watson: A Biblical and Theological Dictionary</span><sup>[114]</sup>, <span style=\"background-color:#e5e8e8;\">John Ayrton Paris: Pharmacologia</span><sup>[31]</sup>, <span style=\"background-color:#d4e6e1;\">William Garnett: Heroes of Science: Physicists</span><sup>[272]</sup></p></small>"
      ],
      "text/plain": [
       "<IPython.core.display.HTML object>"
      ]
     },
     "metadata": {},
     "output_type": "display_data"
    }
   ],
   "source": [
    "tl.source_highlight(\"If we write anything that contains parts of the sources, like: that is their motto, then a highlight will be applied.\")"
   ]
  },
  {
   "cell_type": "code",
   "execution_count": 18,
   "id": "f3cb766b-1860-427d-bc72-1e9fcf784920",
   "metadata": {},
   "outputs": [
    {
     "data": {
      "text/plain": [
       "['Das', 'ist', 'ja', 'mal', 'ein', 'Argument', '!']"
      ]
     },
     "execution_count": 18,
     "metadata": {},
     "output_type": "execute_result"
    }
   ],
   "source": [
    "test_text=\"Das ist ja mal ein Argument!\"\n",
    "tokenizer='word'\n",
    "st = tl.tokenize(test_text, tokenizer=tokenizer)\n",
    "st"
   ]
  },
  {
   "cell_type": "code",
   "execution_count": 19,
   "id": "489412be-911f-48d8-84df-70e3949a69c1",
   "metadata": {},
   "outputs": [
    {
     "data": {
      "text/plain": [
       "[13393, 55978, 44676, 9149, 7440, 33507, 4266]"
      ]
     },
     "execution_count": 19,
     "metadata": {},
     "output_type": "execute_result"
    }
   ],
   "source": [
    "el=tl.encode(test_text, tokenizer=tokenizer)\n",
    "el"
   ]
  },
  {
   "cell_type": "code",
   "execution_count": 20,
   "id": "45249215-fba0-4643-a6e1-a9ab782ce899",
   "metadata": {},
   "outputs": [
    {
     "data": {
      "text/plain": [
       "'Das ist ja mal ein Argument !'"
      ]
     },
     "execution_count": 20,
     "metadata": {},
     "output_type": "execute_result"
    }
   ],
   "source": [
    "tl.decode(el, tokenizer=tokenizer)"
   ]
  },
  {
   "cell_type": "markdown",
   "id": "875bd979-7002-4118-9f37-9bcbf0f4b609",
   "metadata": {},
   "source": [
    "## Pandas and Huggingface datasets\n",
    "\n",
    "`!pip install transformer` or `conda install transformers`\n",
    "`!pip install datasets` or `conda install datasets`"
   ]
  },
  {
   "cell_type": "code",
   "execution_count": 21,
   "id": "6349ce59-dc19-41ff-a25f-0ca50a9e777a",
   "metadata": {},
   "outputs": [
    {
     "data": {
      "text/plain": [
       "dict_keys(['title', 'ebook_id', 'author', 'subtitle', 'language', 'text', 'index', 'probability_weight'])"
      ]
     },
     "execution_count": 21,
     "metadata": {},
     "output_type": "execute_result"
    }
   ],
   "source": [
    "sl2[1].keys()"
   ]
  },
  {
   "cell_type": "code",
   "execution_count": 22,
   "id": "4d89c3c7-e9dc-4bd7-90ed-afd08d3de692",
   "metadata": {},
   "outputs": [],
   "source": [
    "import pandas as pd"
   ]
  },
  {
   "cell_type": "code",
   "execution_count": 23,
   "id": "0ad67b7c-a814-4203-af16-50c871e44e4a",
   "metadata": {},
   "outputs": [],
   "source": [
    "df = pd.DataFrame(sl2)"
   ]
  },
  {
   "cell_type": "code",
   "execution_count": 24,
   "id": "11deaf3d-ebee-43ff-bc58-238d3d657234",
   "metadata": {},
   "outputs": [
    {
     "data": {
      "text/html": [
       "<div>\n",
       "<style scoped>\n",
       "    .dataframe tbody tr th:only-of-type {\n",
       "        vertical-align: middle;\n",
       "    }\n",
       "\n",
       "    .dataframe tbody tr th {\n",
       "        vertical-align: top;\n",
       "    }\n",
       "\n",
       "    .dataframe thead th {\n",
       "        text-align: right;\n",
       "    }\n",
       "</style>\n",
       "<table border=\"1\" class=\"dataframe\">\n",
       "  <thead>\n",
       "    <tr style=\"text-align: right;\">\n",
       "      <th></th>\n",
       "      <th>title</th>\n",
       "      <th>ebook_id</th>\n",
       "      <th>author</th>\n",
       "      <th>subtitle</th>\n",
       "      <th>language</th>\n",
       "      <th>text</th>\n",
       "      <th>index</th>\n",
       "      <th>probability_weight</th>\n",
       "      <th>illustrator</th>\n",
       "      <th>editor</th>\n",
       "      <th>translator</th>\n",
       "      <th>author a.k.a.</th>\n",
       "      <th>editors</th>\n",
       "    </tr>\n",
       "  </thead>\n",
       "  <tbody>\n",
       "    <tr>\n",
       "      <th>0</th>\n",
       "      <td>First notions of logic</td>\n",
       "      <td>67017</td>\n",
       "      <td>Augustus De Morgan</td>\n",
       "      <td>(preparatory to the study of geometry)</td>\n",
       "      <td>English</td>\n",
       "      <td>FIRST NOTIONS\\n  ...</td>\n",
       "      <td>1.0</td>\n",
       "      <td>0.000278</td>\n",
       "      <td>NaN</td>\n",
       "      <td>NaN</td>\n",
       "      <td>NaN</td>\n",
       "      <td>NaN</td>\n",
       "      <td>NaN</td>\n",
       "    </tr>\n",
       "    <tr>\n",
       "      <th>1</th>\n",
       "      <td>Researches Chemical and Philosophical</td>\n",
       "      <td>66955</td>\n",
       "      <td>Humphry Davy</td>\n",
       "      <td>Chiefly concerning nitrous oxide or dephlogist...</td>\n",
       "      <td>English</td>\n",
       "      <td>RESEARCHES,\\n           ...</td>\n",
       "      <td>2.0</td>\n",
       "      <td>0.002587</td>\n",
       "      <td>NaN</td>\n",
       "      <td>NaN</td>\n",
       "      <td>NaN</td>\n",
       "      <td>NaN</td>\n",
       "      <td>NaN</td>\n",
       "    </tr>\n",
       "    <tr>\n",
       "      <th>2</th>\n",
       "      <td>The origins of art, a psychological &amp; sociolog...</td>\n",
       "      <td>66869</td>\n",
       "      <td>Yrjö Hirn</td>\n",
       "      <td>NaN</td>\n",
       "      <td>English</td>\n",
       "      <td>THE ORIGINS OF ART\\n...</td>\n",
       "      <td>3.0</td>\n",
       "      <td>0.002853</td>\n",
       "      <td>NaN</td>\n",
       "      <td>NaN</td>\n",
       "      <td>NaN</td>\n",
       "      <td>NaN</td>\n",
       "      <td>NaN</td>\n",
       "    </tr>\n",
       "    <tr>\n",
       "      <th>3</th>\n",
       "      <td>The Story of a Boulder; or, Gleanings from the...</td>\n",
       "      <td>66703</td>\n",
       "      <td>Archibald Geikie</td>\n",
       "      <td>NaN</td>\n",
       "      <td>English</td>\n",
       "      <td>THE STORY OF A BOULDER....</td>\n",
       "      <td>4.0</td>\n",
       "      <td>0.002410</td>\n",
       "      <td>NaN</td>\n",
       "      <td>NaN</td>\n",
       "      <td>NaN</td>\n",
       "      <td>NaN</td>\n",
       "      <td>NaN</td>\n",
       "    </tr>\n",
       "    <tr>\n",
       "      <th>4</th>\n",
       "      <td>Astronomy and General Physics Considered with ...</td>\n",
       "      <td>66406</td>\n",
       "      <td>NaN</td>\n",
       "      <td>NaN</td>\n",
       "      <td>English</td>\n",
       "      <td>BRIDGEWATER TREATISES....</td>\n",
       "      <td>NaN</td>\n",
       "      <td>NaN</td>\n",
       "      <td>NaN</td>\n",
       "      <td>NaN</td>\n",
       "      <td>NaN</td>\n",
       "      <td>NaN</td>\n",
       "      <td>NaN</td>\n",
       "    </tr>\n",
       "    <tr>\n",
       "      <th>...</th>\n",
       "      <td>...</td>\n",
       "      <td>...</td>\n",
       "      <td>...</td>\n",
       "      <td>...</td>\n",
       "      <td>...</td>\n",
       "      <td>...</td>\n",
       "      <td>...</td>\n",
       "      <td>...</td>\n",
       "      <td>...</td>\n",
       "      <td>...</td>\n",
       "      <td>...</td>\n",
       "      <td>...</td>\n",
       "      <td>...</td>\n",
       "    </tr>\n",
       "    <tr>\n",
       "      <th>488</th>\n",
       "      <td>Philosophy 4, A Story of Harvard University</td>\n",
       "      <td>862</td>\n",
       "      <td>Owen Wister</td>\n",
       "      <td>NaN</td>\n",
       "      <td>English</td>\n",
       "      <td>PHILOSOPHY 4\\n\\nA STORY OF HARVARD UNIVERSITY\\...</td>\n",
       "      <td>471.0</td>\n",
       "      <td>0.000287</td>\n",
       "      <td>NaN</td>\n",
       "      <td>NaN</td>\n",
       "      <td>NaN</td>\n",
       "      <td>NaN</td>\n",
       "      <td>NaN</td>\n",
       "    </tr>\n",
       "    <tr>\n",
       "      <th>489</th>\n",
       "      <td>Philoktetes</td>\n",
       "      <td>806C</td>\n",
       "      <td>Sophocles</td>\n",
       "      <td>NaN</td>\n",
       "      <td>English</td>\n",
       "      <td>SOPHOKLES\\n\\nPHILOKTETES\\n\\nTranslated by Greg...</td>\n",
       "      <td>472.0</td>\n",
       "      <td>0.000318</td>\n",
       "      <td>NaN</td>\n",
       "      <td>NaN</td>\n",
       "      <td>NaN</td>\n",
       "      <td>NaN</td>\n",
       "      <td>NaN</td>\n",
       "    </tr>\n",
       "    <tr>\n",
       "      <th>490</th>\n",
       "      <td>Psychological Counter-current in Recent Fictio...</td>\n",
       "      <td>726</td>\n",
       "      <td>NaN</td>\n",
       "      <td>NaN</td>\n",
       "      <td>English</td>\n",
       "      <td>A PSYCHOLOGICAL COUNTER-CURRENT IN RECENT FICT...</td>\n",
       "      <td>NaN</td>\n",
       "      <td>NaN</td>\n",
       "      <td>NaN</td>\n",
       "      <td>NaN</td>\n",
       "      <td>NaN</td>\n",
       "      <td>NaN</td>\n",
       "      <td>NaN</td>\n",
       "    </tr>\n",
       "    <tr>\n",
       "      <th>491</th>\n",
       "      <td>The Philobiblon of Richard de Bury</td>\n",
       "      <td>626</td>\n",
       "      <td>Richard de Bury</td>\n",
       "      <td>NaN</td>\n",
       "      <td>English</td>\n",
       "      <td>THE LOVE OF BOOKS\\n\\nTHE PHILOBIBLON OF RICHAR...</td>\n",
       "      <td>473.0</td>\n",
       "      <td>0.000630</td>\n",
       "      <td>NaN</td>\n",
       "      <td>NaN</td>\n",
       "      <td>NaN</td>\n",
       "      <td>NaN</td>\n",
       "      <td>NaN</td>\n",
       "    </tr>\n",
       "    <tr>\n",
       "      <th>492</th>\n",
       "      <td>The Philosophy of Misery</td>\n",
       "      <td>444</td>\n",
       "      <td>P. J. Proudhon</td>\n",
       "      <td>NaN</td>\n",
       "      <td>English</td>\n",
       "      <td>Project Gutenberg Etext of The Philosophy of M...</td>\n",
       "      <td>474.0</td>\n",
       "      <td>0.003847</td>\n",
       "      <td>NaN</td>\n",
       "      <td>NaN</td>\n",
       "      <td>NaN</td>\n",
       "      <td>NaN</td>\n",
       "      <td>NaN</td>\n",
       "    </tr>\n",
       "  </tbody>\n",
       "</table>\n",
       "<p>493 rows × 13 columns</p>\n",
       "</div>"
      ],
      "text/plain": [
       "                                                 title ebook_id  \\\n",
       "0                               First notions of logic    67017   \n",
       "1                Researches Chemical and Philosophical    66955   \n",
       "2    The origins of art, a psychological & sociolog...    66869   \n",
       "3    The Story of a Boulder; or, Gleanings from the...    66703   \n",
       "4    Astronomy and General Physics Considered with ...    66406   \n",
       "..                                                 ...      ...   \n",
       "488        Philosophy 4, A Story of Harvard University      862   \n",
       "489                                        Philoktetes     806C   \n",
       "490  Psychological Counter-current in Recent Fictio...      726   \n",
       "491                 The Philobiblon of Richard de Bury      626   \n",
       "492                           The Philosophy of Misery      444   \n",
       "\n",
       "                 author                                           subtitle  \\\n",
       "0    Augustus De Morgan             (preparatory to the study of geometry)   \n",
       "1          Humphry Davy  Chiefly concerning nitrous oxide or dephlogist...   \n",
       "2             Yrjö Hirn                                                NaN   \n",
       "3      Archibald Geikie                                                NaN   \n",
       "4                   NaN                                                NaN   \n",
       "..                  ...                                                ...   \n",
       "488         Owen Wister                                                NaN   \n",
       "489           Sophocles                                                NaN   \n",
       "490                 NaN                                                NaN   \n",
       "491     Richard de Bury                                                NaN   \n",
       "492      P. J. Proudhon                                                NaN   \n",
       "\n",
       "    language                                               text  index  \\\n",
       "0    English                               FIRST NOTIONS\\n  ...    1.0   \n",
       "1    English                        RESEARCHES,\\n           ...    2.0   \n",
       "2    English                            THE ORIGINS OF ART\\n...    3.0   \n",
       "3    English                         THE STORY OF A BOULDER....    4.0   \n",
       "4    English                          BRIDGEWATER TREATISES....    NaN   \n",
       "..       ...                                                ...    ...   \n",
       "488  English  PHILOSOPHY 4\\n\\nA STORY OF HARVARD UNIVERSITY\\...  471.0   \n",
       "489  English  SOPHOKLES\\n\\nPHILOKTETES\\n\\nTranslated by Greg...  472.0   \n",
       "490  English  A PSYCHOLOGICAL COUNTER-CURRENT IN RECENT FICT...    NaN   \n",
       "491  English  THE LOVE OF BOOKS\\n\\nTHE PHILOBIBLON OF RICHAR...  473.0   \n",
       "492  English  Project Gutenberg Etext of The Philosophy of M...  474.0   \n",
       "\n",
       "     probability_weight illustrator editor translator author a.k.a. editors  \n",
       "0              0.000278         NaN    NaN        NaN           NaN     NaN  \n",
       "1              0.002587         NaN    NaN        NaN           NaN     NaN  \n",
       "2              0.002853         NaN    NaN        NaN           NaN     NaN  \n",
       "3              0.002410         NaN    NaN        NaN           NaN     NaN  \n",
       "4                   NaN         NaN    NaN        NaN           NaN     NaN  \n",
       "..                  ...         ...    ...        ...           ...     ...  \n",
       "488            0.000287         NaN    NaN        NaN           NaN     NaN  \n",
       "489            0.000318         NaN    NaN        NaN           NaN     NaN  \n",
       "490                 NaN         NaN    NaN        NaN           NaN     NaN  \n",
       "491            0.000630         NaN    NaN        NaN           NaN     NaN  \n",
       "492            0.003847         NaN    NaN        NaN           NaN     NaN  \n",
       "\n",
       "[493 rows x 13 columns]"
      ]
     },
     "execution_count": 24,
     "metadata": {},
     "output_type": "execute_result"
    }
   ],
   "source": [
    "df"
   ]
  },
  {
   "cell_type": "code",
   "execution_count": null,
   "id": "1c0a64c4-e566-45cb-8896-4e6605b5e41d",
   "metadata": {},
   "outputs": [],
   "source": []
  },
  {
   "cell_type": "code",
   "execution_count": null,
   "id": "d7bee7c3-ba98-467b-a8c7-cddd73654d8e",
   "metadata": {},
   "outputs": [],
   "source": []
  }
 ],
 "metadata": {
  "kernelspec": {
   "display_name": "Python 3 (ipykernel)",
   "language": "python",
   "name": "python3"
  },
  "language_info": {
   "codemirror_mode": {
    "name": "ipython",
    "version": 3
   },
   "file_extension": ".py",
   "mimetype": "text/x-python",
   "name": "python",
   "nbconvert_exporter": "python",
   "pygments_lexer": "ipython3",
   "version": "3.9.9"
  }
 },
 "nbformat": 4,
 "nbformat_minor": 5
}

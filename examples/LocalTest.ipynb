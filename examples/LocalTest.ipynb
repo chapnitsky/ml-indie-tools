{
 "cells": [
  {
   "cell_type": "code",
   "execution_count": 1,
   "id": "d8570f4a-ae94-4c7d-8cfd-30397459d090",
   "metadata": {},
   "outputs": [],
   "source": [
    "%load_ext autoreload\n",
    "%autoreload 2"
   ]
  },
  {
   "cell_type": "code",
   "execution_count": 64,
   "id": "14a8e822-346d-4e6e-8885-d488055dc8c2",
   "metadata": {},
   "outputs": [],
   "source": [
    "import sys\n",
    "sys.path.append('../src/ml_indie_tools')  # Point to local module source"
   ]
  },
  {
   "cell_type": "code",
   "execution_count": 65,
   "id": "4ee64338-a79b-4bf2-9cb3-4777545a3890",
   "metadata": {},
   "outputs": [],
   "source": [
    "from env_tools import MLEnv"
   ]
  },
  {
   "cell_type": "code",
   "execution_count": 66,
   "id": "aee4ecf2-6c4c-4338-97dd-7512f85f7a56",
   "metadata": {},
   "outputs": [
    {
     "name": "stderr",
     "output_type": "stream",
     "text": [
      "DEBUG:MLEnv:Jax not available\n",
      "DEBUG:MLEnv:You are on a Jupyter instance.\n",
      "DEBUG:MLEnv:You are not on a Colab instance, so no Google Drive access is possible.\n",
      "INFO:MLEnv:OS: Darwin, Python: 3.9.9 (Conda), Jupyter Notebook (no-ml-platform) \n"
     ]
    },
    {
     "data": {
      "text/plain": [
       "'OS: Darwin, Python: 3.9.9 (Conda), Jupyter Notebook (no-ml-platform) '"
      ]
     },
     "execution_count": 66,
     "metadata": {},
     "output_type": "execute_result"
    }
   ],
   "source": [
    "ml=MLEnv(platform='jax', accelerator='gpu')\n",
    "ml.describe()"
   ]
  },
  {
   "cell_type": "code",
   "execution_count": 67,
   "id": "00a3323b-e3bc-44e2-a84e-287f0d63e6ca",
   "metadata": {},
   "outputs": [],
   "source": [
    "import logging\n",
    "logging.basicConfig(encoding='utf-8', level=logging.DEBUG)\n",
    "from Gutenberg_Dataset import Gutenberg_Dataset"
   ]
  },
  {
   "cell_type": "code",
   "execution_count": 68,
   "id": "eab38dc3-a202-4a20-aa56-1ddb68999d36",
   "metadata": {},
   "outputs": [
    {
     "name": "stderr",
     "output_type": "stream",
     "text": [
      "DEBUG:GutenbergLib:Cache timestamp read.\n",
      "INFO:GutenbergLib:Gutenberg index read from local cache: gutenberg/gutenberg_index\n"
     ]
    }
   ],
   "source": [
    "gd=Gutenberg_Dataset()\n",
    "gd.load_index()"
   ]
  },
  {
   "cell_type": "code",
   "execution_count": 69,
   "id": "41c279fe-1fdd-4b1a-85c8-09c4e6b8fe78",
   "metadata": {},
   "outputs": [
    {
     "data": {
      "text/plain": [
       "\u001b[0;31mSignature:\u001b[0m \u001b[0mgd\u001b[0m\u001b[0;34m.\u001b[0m\u001b[0msearch\u001b[0m\u001b[0;34m(\u001b[0m\u001b[0msearch_dict\u001b[0m\u001b[0;34m)\u001b[0m\u001b[0;34m\u001b[0m\u001b[0;34m\u001b[0m\u001b[0m\n",
       "\u001b[0;31mDocstring:\u001b[0m\n",
       "Search for book record with key specific key values\n",
       "For a list of valid keys, use `get_record_keys()`\n",
       "Standard keys are: `ebook_id`, `author`, `language`, `title`\n",
       "\n",
       "*Note:* :func:`~Gutenberg_Dataset.Gutenberg_Dataset.load_index` needs to be called once before this function can be used.\n",
       "\n",
       "Example: `search({\"title\": [\"philosoph\",\"phenomen\",\"physic\",\"hermeneu\",\"logic\"], \"language\":\"english\"})`\n",
       "Find all books whose titles contain at least one of the keywords, language english. Search keys can either be\n",
       "search for a single keyword (e.g. english), or an array of keywords. \n",
       "\n",
       ":returns: list of records \n",
       "\u001b[0;31mFile:\u001b[0m      ~/gith/domschl/ml-indie-tools/src/ml_indie_tools/Gutenberg_Dataset.py\n",
       "\u001b[0;31mType:\u001b[0m      method\n"
      ]
     },
     "metadata": {},
     "output_type": "display_data"
    }
   ],
   "source": [
    "gd.search?"
   ]
  },
  {
   "cell_type": "code",
   "execution_count": 70,
   "id": "1e17f0c8-3e05-42f3-94c5-9fb3f485f220",
   "metadata": {},
   "outputs": [],
   "source": [
    "sl=gd.search({'author': 'kant', 'language': 'english'})"
   ]
  },
  {
   "cell_type": "code",
   "execution_count": 71,
   "id": "406c1e93-fc9c-4ea9-be6c-850ea7a53261",
   "metadata": {},
   "outputs": [
    {
     "name": "stderr",
     "output_type": "stream",
     "text": [
      "INFO:GutenbergLib:Book read from cache at gutenberg/60193.txt\n",
      "DEBUG:GutenbergLib:Start-token [*** START OF THIS PROJECT] found at position 704\n",
      "DEBUG:GutenbergLib:Near-Start-token [Produced by ] found at position 0\n",
      "DEBUG:GutenbergLib:Near-Start-token [Distributed Proofreading Team] found at position 54\n",
      "DEBUG:GutenbergLib:Trying extra skipping (2) for 139...\n",
      "DEBUG:GutenbergLib:Additionally shortened start by 203 chars\n",
      "DEBUG:GutenbergLib:End-token [End of the Project Gutenberg] found at pos 81371\n",
      "INFO:GutenbergLib:Book read from cache at gutenberg/52821.txt\n",
      "DEBUG:GutenbergLib:Start-token [*** START OF THIS PROJECT] found at position 718\n",
      "DEBUG:GutenbergLib:Near-Start-token [Produced by ] found at position 0\n",
      "DEBUG:GutenbergLib:Near-Start-token [Transcriber's note:] found at position 251\n",
      "DEBUG:GutenbergLib:Trying extra skipping (2) for 100...\n",
      "DEBUG:GutenbergLib:Additionally shortened start by 355 chars\n",
      "DEBUG:GutenbergLib:End-token [End of the Project Gutenberg] found at pos 290613\n",
      "INFO:GutenbergLib:Book read from cache at gutenberg/50922.txt\n",
      "DEBUG:GutenbergLib:Start-token [*** START OF THIS PROJECT] found at position 539\n",
      "DEBUG:GutenbergLib:Near-Start-token [Produced by ] found at position 0\n",
      "DEBUG:GutenbergLib:Near-Start-token [Distributed Proofreading Team] found at position 60\n",
      "DEBUG:GutenbergLib:Near-Start-token [Obvious printer errors] found at position 513\n",
      "DEBUG:GutenbergLib:Near-Start-token [spelling was kept] found at position 407\n",
      "DEBUG:GutenbergLib:Trying extra skipping (2) for 52...\n",
      "DEBUG:GutenbergLib:Additionally shortened start by 570 chars\n",
      "DEBUG:GutenbergLib:End-token [End of the Project Gutenberg] found at pos 320996\n",
      "INFO:GutenbergLib:Book read from cache at gutenberg/48433.txt\n",
      "DEBUG:GutenbergLib:Start-token [*** START OF THIS PROJECT] found at position 704\n",
      "DEBUG:GutenbergLib:Near-Start-token [Produced by ] found at position 0\n",
      "DEBUG:GutenbergLib:Near-Start-token [Transcriber's note:] found at position 191\n",
      "DEBUG:GutenbergLib:Trying extra skipping (2) for 166...\n",
      "DEBUG:GutenbergLib:Additionally shortened start by 362 chars\n",
      "DEBUG:GutenbergLib:End-token [*** END OF THIS PROJECT] found at pos 810031\n",
      "DEBUG:GutenbergLib:End-token [End of Project Gutenberg] found at pos 809956\n",
      "INFO:GutenbergLib:Book read from cache at gutenberg/46060.txt\n",
      "DEBUG:GutenbergLib:Start-token [*** START OF THIS PROJECT] found at position 590\n",
      "DEBUG:GutenbergLib:Near-Start-token [Produced by ] found at position 0\n",
      "DEBUG:GutenbergLib:Trying extra skipping (2) for 24...\n",
      "DEBUG:GutenbergLib:Additionally shortened start by 29 chars\n",
      "DEBUG:GutenbergLib:End-token [End of the Project Gutenberg] found at pos 21375\n",
      "INFO:GutenbergLib:Book read from cache at gutenberg/5684.txt\n",
      "DEBUG:GutenbergLib:Start-token [*** START OF THIS PROJECT] found at position 519\n",
      "DEBUG:GutenbergLib:Near-Start-token [Produced by ] found at position 0\n",
      "DEBUG:GutenbergLib:Trying extra skipping (2) for 30...\n",
      "DEBUG:GutenbergLib:Additionally shortened start by 39 chars\n",
      "DEBUG:GutenbergLib:End-token [End of the Project Gutenberg] found at pos 77924\n",
      "INFO:GutenbergLib:Book read from cache at gutenberg/5683.txt\n",
      "DEBUG:GutenbergLib:Start-token [*** START OF THIS PROJECT] found at position 559\n",
      "DEBUG:GutenbergLib:Near-Start-token [Produced by ] found at position 0\n",
      "DEBUG:GutenbergLib:Trying extra skipping (2) for 29...\n",
      "DEBUG:GutenbergLib:Additionally shortened start by 37 chars\n",
      "DEBUG:GutenbergLib:End-token [*** END OF THIS PROJECT] found at pos 371225\n",
      "DEBUG:GutenbergLib:End-token [End of Project Gutenberg] found at pos 371146\n",
      "INFO:GutenbergLib:Book read from cache at gutenberg/5682.txt\n",
      "DEBUG:GutenbergLib:Start-token [START OF THE PROJECT GUTENBERG] found at position 1290\n",
      "DEBUG:GutenbergLib:End-token [*** END OF THE PROJECT GUTENBERG] found at pos 176762\n",
      "INFO:GutenbergLib:Book read from cache at gutenberg/5637.txt\n",
      "DEBUG:GutenbergLib:Start-token [START OF THE PROJECT GUTENBERG] found at position 1230\n",
      "DEBUG:GutenbergLib:Near-Start-token [Distributed Proofreading Team] found at position 44\n",
      "DEBUG:GutenbergLib:Trying extra skipping (2) for 30...\n",
      "DEBUG:GutenbergLib:Additionally shortened start by 78 chars\n",
      "DEBUG:GutenbergLib:End-token [*** END OF THE PROJECT GUTENBERG] found at pos 877741\n",
      "INFO:GutenbergLib:Book read from cache at gutenberg/4280.txt\n",
      "DEBUG:GutenbergLib:Start-token [START OF THE PROJECT GUTENBERG] found at position 796\n",
      "DEBUG:GutenbergLib:End-token [*** END OF THE PROJECT GUTENBERG] found at pos 1270146\n"
     ]
    }
   ],
   "source": [
    "sl2=gd.insert_book_texts(sl)"
   ]
  },
  {
   "cell_type": "code",
   "execution_count": 72,
   "id": "39af153d-6ea2-4ce1-9e0d-91923f04565e",
   "metadata": {},
   "outputs": [],
   "source": [
    "from Text_Dataset import *"
   ]
  },
  {
   "cell_type": "code",
   "execution_count": 73,
   "id": "27252f30-fbad-426c-a110-18b9cdd32456",
   "metadata": {},
   "outputs": [
    {
     "name": "stderr",
     "output_type": "stream",
     "text": [
      "INFO:Datasets:Loaded 10 texts\n"
     ]
    }
   ],
   "source": [
    "tl = Text_Dataset(sl2)"
   ]
  },
  {
   "cell_type": "code",
   "execution_count": 74,
   "id": "69805c0b-3584-45e1-bd2c-0032822eb2cd",
   "metadata": {},
   "outputs": [
    {
     "name": "stdout",
     "output_type": "stream",
     "text": [
      "The Critique of Practical Reason\n",
      "obable that even subjectively that exhibition of pure virtue can have more power\n",
      "\n",
      "The Metaphysical Elements of Ethics\n",
      "are not subject to external laws (for which in German the name Tugendlehre was f\n",
      "\n",
      "The Critique of Pure Reason\n",
      "he true subject in phenomena. For if that in the phenomenon which we call substa\n",
      "\n"
     ]
    }
   ],
   "source": [
    "for i in range(3):\n",
    "    idx, txt = tl.get_random_sample(80, weighted=False)\n",
    "    print(tl.text_list[idx]['title'])\n",
    "    print(txt)\n",
    "    print()"
   ]
  },
  {
   "cell_type": "code",
   "execution_count": 75,
   "id": "3fbfee4b-4458-42a8-bc36-420dfbf14352",
   "metadata": {},
   "outputs": [
    {
     "name": "stdout",
     "output_type": "stream",
     "text": [
      "The Critique of Pure Reason\n",
      "he true subject in phenomena. For if that in the phenomenon which we call substa\n"
     ]
    }
   ],
   "source": [
    "print(tl.text_list[idx]['title'])\n",
    "print(txt)\n",
    "    "
   ]
  },
  {
   "cell_type": "code",
   "execution_count": 76,
   "id": "48862f3c-1acd-4b6b-a999-342033d3ab3f",
   "metadata": {},
   "outputs": [
    {
     "data": {
      "text/plain": [
       "[0.01893106987243486,\n",
       " 0.08654592258980479,\n",
       " 0.16123017402903378,\n",
       " 0.34967953408604685,\n",
       " 0.35465096123487394,\n",
       " 0.3727793248938276,\n",
       " 0.45913120198159085,\n",
       " 0.5002567496540802,\n",
       " 0.7044782397978949,\n",
       " 1.0]"
      ]
     },
     "execution_count": 76,
     "metadata": {},
     "output_type": "execute_result"
    }
   ],
   "source": [
    "tl.tcum"
   ]
  },
  {
   "cell_type": "code",
   "execution_count": 77,
   "id": "ef34dae3-87f8-4538-9ad4-37959016b784",
   "metadata": {},
   "outputs": [
    {
     "data": {
      "text/html": [
       "Wenn wir irgendwas schreiben, daß Teil aus der Source enthält, so wie: Das ist ihr Wahlspruch, dann erfolgt ein Highlight"
      ],
      "text/plain": [
       "<IPython.core.display.HTML object>"
      ]
     },
     "metadata": {},
     "output_type": "display_data"
    }
   ],
   "source": [
    "tl.source_highlight(\"Wenn wir irgendwas schreiben, daß Teil aus der Source enthält, so wie: Das ist ihr Wahlspruch, dann erfolgt ein Highlight\")"
   ]
  },
  {
   "cell_type": "code",
   "execution_count": 78,
   "id": "f3cb766b-1860-427d-bc72-1e9fcf784920",
   "metadata": {},
   "outputs": [
    {
     "data": {
      "text/plain": [
       "['Das', 'ist', 'ja', 'mal', 'ein', 'Argument', '!']"
      ]
     },
     "execution_count": 78,
     "metadata": {},
     "output_type": "execute_result"
    }
   ],
   "source": [
    "test_text=\"Das ist ja mal ein Argument!\"\n",
    "tokenizer='word'\n",
    "st = tl.tokenize(test_text, tokenizer=tokenizer)\n",
    "st"
   ]
  },
  {
   "cell_type": "code",
   "execution_count": 79,
   "id": "489412be-911f-48d8-84df-70e3949a69c1",
   "metadata": {},
   "outputs": [
    {
     "data": {
      "text/plain": [
       "[9864, 9962, 0, 0, 24678, 12510, 1959]"
      ]
     },
     "execution_count": 79,
     "metadata": {},
     "output_type": "execute_result"
    }
   ],
   "source": [
    "el=tl.encode(test_text, tokenizer=tokenizer)\n",
    "el"
   ]
  },
  {
   "cell_type": "code",
   "execution_count": 80,
   "id": "45249215-fba0-4643-a6e1-a9ab782ce899",
   "metadata": {},
   "outputs": [
    {
     "data": {
      "text/plain": [
       "'Das ist <unk> <unk> ein Argument !'"
      ]
     },
     "execution_count": 80,
     "metadata": {},
     "output_type": "execute_result"
    }
   ],
   "source": [
    "tl.decode(el, tokenizer=tokenizer)"
   ]
  },
  {
   "cell_type": "markdown",
   "id": "875bd979-7002-4118-9f37-9bcbf0f4b609",
   "metadata": {},
   "source": [
    "## Pandas and Huggingface datasets\n",
    "\n",
    "`!pip install transformer` or `conda install transformers`\n",
    "`!pip install datasets` or `conda install datasets`"
   ]
  },
  {
   "cell_type": "code",
   "execution_count": 81,
   "id": "6349ce59-dc19-41ff-a25f-0ca50a9e777a",
   "metadata": {},
   "outputs": [
    {
     "data": {
      "text/plain": [
       "dict_keys(['title', 'ebook_id', 'author', 'subtitle', 'language', 'text', 'index', 'probability_weight'])"
      ]
     },
     "execution_count": 81,
     "metadata": {},
     "output_type": "execute_result"
    }
   ],
   "source": [
    "sl2[1].keys()"
   ]
  },
  {
   "cell_type": "code",
   "execution_count": 82,
   "id": "4d89c3c7-e9dc-4bd7-90ed-afd08d3de692",
   "metadata": {},
   "outputs": [],
   "source": [
    "import pandas as pd"
   ]
  },
  {
   "cell_type": "code",
   "execution_count": 83,
   "id": "0ad67b7c-a814-4203-af16-50c871e44e4a",
   "metadata": {},
   "outputs": [],
   "source": [
    "df = pd.DataFrame(sl2)"
   ]
  },
  {
   "cell_type": "code",
   "execution_count": 84,
   "id": "11deaf3d-ebee-43ff-bc58-238d3d657234",
   "metadata": {},
   "outputs": [
    {
     "data": {
      "text/html": [
       "<div>\n",
       "<style scoped>\n",
       "    .dataframe tbody tr th:only-of-type {\n",
       "        vertical-align: middle;\n",
       "    }\n",
       "\n",
       "    .dataframe tbody tr th {\n",
       "        vertical-align: top;\n",
       "    }\n",
       "\n",
       "    .dataframe thead th {\n",
       "        text-align: right;\n",
       "    }\n",
       "</style>\n",
       "<table border=\"1\" class=\"dataframe\">\n",
       "  <thead>\n",
       "    <tr style=\"text-align: right;\">\n",
       "      <th></th>\n",
       "      <th>title</th>\n",
       "      <th>ebook_id</th>\n",
       "      <th>author</th>\n",
       "      <th>subtitle</th>\n",
       "      <th>language</th>\n",
       "      <th>text</th>\n",
       "      <th>index</th>\n",
       "      <th>probability_weight</th>\n",
       "    </tr>\n",
       "  </thead>\n",
       "  <tbody>\n",
       "    <tr>\n",
       "      <th>0</th>\n",
       "      <td>Vignettes</td>\n",
       "      <td>60193</td>\n",
       "      <td>Hubert Crackanthorpe</td>\n",
       "      <td>A Miniature Journal of Whim and Sentiment</td>\n",
       "      <td>English</td>\n",
       "      <td>Vignettes\\n\\n  ...</td>\n",
       "      <td>1</td>\n",
       "      <td>0.018931</td>\n",
       "    </tr>\n",
       "    <tr>\n",
       "      <th>1</th>\n",
       "      <td>Kant's Prolegomena</td>\n",
       "      <td>52821</td>\n",
       "      <td>Immanuel Kant</td>\n",
       "      <td>To Any Future Metaphysics</td>\n",
       "      <td>English</td>\n",
       "      <td>Contents\\n\\nPUBLISHERS' PREFACE.\\nINTRODUCTION...</td>\n",
       "      <td>2</td>\n",
       "      <td>0.067615</td>\n",
       "    </tr>\n",
       "    <tr>\n",
       "      <th>2</th>\n",
       "      <td>Perpetual Peace</td>\n",
       "      <td>50922</td>\n",
       "      <td>Immanuel Kant</td>\n",
       "      <td>A Philosophical Essay</td>\n",
       "      <td>English</td>\n",
       "      <td>PERPETUAL PEACE\\n\\n\\n[Illustration]\\n\\n\\n  “Fo...</td>\n",
       "      <td>3</td>\n",
       "      <td>0.074684</td>\n",
       "    </tr>\n",
       "    <tr>\n",
       "      <th>3</th>\n",
       "      <td>Kant's Critique of Judgement</td>\n",
       "      <td>48433</td>\n",
       "      <td>Immanuel Kant</td>\n",
       "      <td>NaN</td>\n",
       "      <td>English</td>\n",
       "      <td>KANT’S\\n  CRITIQUE OF JUDGEMENT\\n\\n\\n  MACMI...</td>\n",
       "      <td>4</td>\n",
       "      <td>0.188449</td>\n",
       "    </tr>\n",
       "    <tr>\n",
       "      <th>4</th>\n",
       "      <td>Of the Injustice of Counterfeiting Books</td>\n",
       "      <td>46060</td>\n",
       "      <td>Emanuel Kant</td>\n",
       "      <td>From: Essays and Treaties on Moral, Political ...</td>\n",
       "      <td>English</td>\n",
       "      <td>Of The Injustice of Counterfeiting Books\\n\\nby...</td>\n",
       "      <td>5</td>\n",
       "      <td>0.004971</td>\n",
       "    </tr>\n",
       "    <tr>\n",
       "      <th>5</th>\n",
       "      <td>The Metaphysical Elements of Ethics</td>\n",
       "      <td>5684</td>\n",
       "      <td>Immanuel Kant</td>\n",
       "      <td>NaN</td>\n",
       "      <td>English</td>\n",
       "      <td>\\t\\t\\t\\t 1780\\n\\n\\t\\t THE METAPHYSICAL ELEMENT...</td>\n",
       "      <td>6</td>\n",
       "      <td>0.018128</td>\n",
       "    </tr>\n",
       "    <tr>\n",
       "      <th>6</th>\n",
       "      <td>The Critique of Practical Reason</td>\n",
       "      <td>5683</td>\n",
       "      <td>Immanuel Kant</td>\n",
       "      <td>NaN</td>\n",
       "      <td>English</td>\n",
       "      <td>\\t\\t\\t\\t 1788\\n\\n\\t\\t   THE CRITIQUE OF PRACTI...</td>\n",
       "      <td>7</td>\n",
       "      <td>0.086352</td>\n",
       "    </tr>\n",
       "    <tr>\n",
       "      <th>7</th>\n",
       "      <td>Fundamental Principles of the Metaphysic of Mo...</td>\n",
       "      <td>5682</td>\n",
       "      <td>Immanuel Kant</td>\n",
       "      <td>NaN</td>\n",
       "      <td>English</td>\n",
       "      <td>This eBook was prepared by Matthew Stapleton.\\...</td>\n",
       "      <td>8</td>\n",
       "      <td>0.041126</td>\n",
       "    </tr>\n",
       "    <tr>\n",
       "      <th>8</th>\n",
       "      <td>Literary and Philosophical Essays</td>\n",
       "      <td>5637</td>\n",
       "      <td>Montaigne, Michel, Sainte-Beuve, Charles-Augus...</td>\n",
       "      <td>NaN</td>\n",
       "      <td>English</td>\n",
       "      <td>LITERARY AND PHILOSOPHICAL ESSAYS\\n\\nHARVARD C...</td>\n",
       "      <td>9</td>\n",
       "      <td>0.204221</td>\n",
       "    </tr>\n",
       "    <tr>\n",
       "      <th>9</th>\n",
       "      <td>The Critique of Pure Reason</td>\n",
       "      <td>4280</td>\n",
       "      <td>Immanuel Kant</td>\n",
       "      <td>NaN</td>\n",
       "      <td>English</td>\n",
       "      <td>[Illustration]\\n\\n\\nThe Critique of Pure Reaso...</td>\n",
       "      <td>10</td>\n",
       "      <td>0.295522</td>\n",
       "    </tr>\n",
       "  </tbody>\n",
       "</table>\n",
       "</div>"
      ],
      "text/plain": [
       "                                               title ebook_id  \\\n",
       "0                                          Vignettes    60193   \n",
       "1                                 Kant's Prolegomena    52821   \n",
       "2                                    Perpetual Peace    50922   \n",
       "3                       Kant's Critique of Judgement    48433   \n",
       "4           Of the Injustice of Counterfeiting Books    46060   \n",
       "5                The Metaphysical Elements of Ethics     5684   \n",
       "6                   The Critique of Practical Reason     5683   \n",
       "7  Fundamental Principles of the Metaphysic of Mo...     5682   \n",
       "8                  Literary and Philosophical Essays     5637   \n",
       "9                        The Critique of Pure Reason     4280   \n",
       "\n",
       "                                              author  \\\n",
       "0                               Hubert Crackanthorpe   \n",
       "1                                      Immanuel Kant   \n",
       "2                                      Immanuel Kant   \n",
       "3                                      Immanuel Kant   \n",
       "4                                       Emanuel Kant   \n",
       "5                                      Immanuel Kant   \n",
       "6                                      Immanuel Kant   \n",
       "7                                      Immanuel Kant   \n",
       "8  Montaigne, Michel, Sainte-Beuve, Charles-Augus...   \n",
       "9                                      Immanuel Kant   \n",
       "\n",
       "                                            subtitle language  \\\n",
       "0          A Miniature Journal of Whim and Sentiment  English   \n",
       "1                          To Any Future Metaphysics  English   \n",
       "2                              A Philosophical Essay  English   \n",
       "3                                                NaN  English   \n",
       "4  From: Essays and Treaties on Moral, Political ...  English   \n",
       "5                                                NaN  English   \n",
       "6                                                NaN  English   \n",
       "7                                                NaN  English   \n",
       "8                                                NaN  English   \n",
       "9                                                NaN  English   \n",
       "\n",
       "                                                text  index  \\\n",
       "0                                 Vignettes\\n\\n  ...      1   \n",
       "1  Contents\\n\\nPUBLISHERS' PREFACE.\\nINTRODUCTION...      2   \n",
       "2  PERPETUAL PEACE\\n\\n\\n[Illustration]\\n\\n\\n  “Fo...      3   \n",
       "3    KANT’S\\n  CRITIQUE OF JUDGEMENT\\n\\n\\n  MACMI...      4   \n",
       "4  Of The Injustice of Counterfeiting Books\\n\\nby...      5   \n",
       "5  \\t\\t\\t\\t 1780\\n\\n\\t\\t THE METAPHYSICAL ELEMENT...      6   \n",
       "6  \\t\\t\\t\\t 1788\\n\\n\\t\\t   THE CRITIQUE OF PRACTI...      7   \n",
       "7  This eBook was prepared by Matthew Stapleton.\\...      8   \n",
       "8  LITERARY AND PHILOSOPHICAL ESSAYS\\n\\nHARVARD C...      9   \n",
       "9  [Illustration]\\n\\n\\nThe Critique of Pure Reaso...     10   \n",
       "\n",
       "   probability_weight  \n",
       "0            0.018931  \n",
       "1            0.067615  \n",
       "2            0.074684  \n",
       "3            0.188449  \n",
       "4            0.004971  \n",
       "5            0.018128  \n",
       "6            0.086352  \n",
       "7            0.041126  \n",
       "8            0.204221  \n",
       "9            0.295522  "
      ]
     },
     "execution_count": 84,
     "metadata": {},
     "output_type": "execute_result"
    }
   ],
   "source": [
    "df"
   ]
  },
  {
   "cell_type": "code",
   "execution_count": 85,
   "id": "119db6fb-2fb1-41b2-b4d7-add76c6fc0fb",
   "metadata": {},
   "outputs": [
    {
     "name": "stdout",
     "output_type": "stream",
     "text": [
      "                               Vignettes\n",
      "\n",
      "               A Miniature Journal of Whim and Sentiment\n",
      "\n",
      "\n",
      "                        By Hubert Crackanthorpe\n",
      "\n",
      "\n",
      "                               John Lane\n",
      "                            The Bodley Head\n",
      "                          London and New York\n",
      "                                  1896\n",
      "\n",
      "\n",
      "\n",
      "\n",
      "    _The pursuit of experience is the refuge of the unimaginative._\n",
      "\n",
      "[Sidenote: CONTENTS]\n",
      "\n",
      "\n",
      "\n",
      "\n",
      "                                CONTENTS\n",
      "\n",
      "\n",
      "                                                                    PAGE\n",
      "\n",
      " _At Villeneuve-lès-Avignon_                                           1\n",
      "\n",
      " _Ascension day at Arles_                                              6\n",
      "\n",
      " _Spring in Béarn_                                                     9\n",
      "\n",
      " _In the long grass_                                                  10\n",
      "\n",
      " _Pau_                                                                11\n",
      "\n",
      " _Castelsarrasin_                                                     13\n",
      "\n",
      " _In the Basque coun\n",
      "------------------------------------------\n",
      "Contents\n",
      "\n",
      "PUBLISHERS' PREFACE.\n",
      "INTRODUCTION.\n",
      "PROLEGOMENA.\n",
      "    PREAMBLE ON THE PECULIARITIES OF ALL METAPHYSICAL COGNITION.\n",
      "FIRST PART OF THE TRANSCENDENTAL PROBLEM.\n",
      "    HOW IS PURE MATHEMATICS POSSIBLE?\n",
      "SECOND PART OF THE TRANSCENDENTAL PROBLEM.\n",
      "    HOW IS THE SCIENCE OF NATURE POSSIBLE?\n",
      "THIRD PART OF THE MAIN TRANSCENDENTAL PROBLEM.\n",
      "    HOW IS METAPHYSICS IN GENERAL POSSIBLE?\n",
      "SCHOLIA.\n",
      "    SOLUTION OF THE GENERAL QUESTION OF THE PROLEGOMENA, \"HOW IS\n",
      "    METAPHYSICS POSSIBLE AS A SCIENCE?\"\n",
      "APPENDIX.\n",
      "    ON WHAT CAN BE DONE TO MAKE METAPHYSICS ACTUAL AS A SCIENCE.\n",
      "\n",
      "\n",
      "\n",
      "\n",
      "PUBLISHERS' PREFACE.\n",
      "\n",
      "Kant's Prolegomena,{1} although a small book, is indubitably the most\n",
      "important of his writings. It furnishes us with a key to his main\n",
      "work, The Critique of Pure Reason; in fact, it is an extract\n",
      "containing all the salient ideas of Kant's system. It approaches the\n",
      "subject in the simplest and most direct way, and is therefore best\n",
      "adapted as an introduction into his philosophy. For this reason, The\n",
      "Ope\n",
      "------------------------------------------\n",
      "PERPETUAL PEACE\n",
      "\n",
      "\n",
      "[Illustration]\n",
      "\n",
      "\n",
      "  “For I dipt into the future, far as human eye could see,\n",
      "  Saw the Vision of the world, and all the wonder that would be;\n",
      "  Saw the heavens fill with commerce, argosies of magic sails,\n",
      "  Pilots of the purple twilight, dropping down with costly bales;\n",
      "  Heard the heavens fill with shouting, and there rain’d a ghastly dew\n",
      "  From the nations’ airy navies grappling in the central blue;\n",
      "  Far along the world-wide whisper of the south-wind rushing warm,\n",
      "  With the standards of the peoples plunging thro’ the thunder-storm;\n",
      "  Till the war-drum throbb’d no longer, and the battle-flags were furl’d\n",
      "  In the Parliament of man, the Federation of the world.\n",
      "  There the common sense of most shall hold a fretful realm in awe,\n",
      "  And the kindly earth shall slumber, lapt in universal law.”\n",
      "\n",
      "  TENNYSON: _Locksley Hall_.\n",
      "\n",
      "\n",
      "\n",
      "\n",
      "  PERPETUAL PEACE\n",
      "  A PHILOSOPHICAL ESSAY\n",
      "\n",
      "  BY\n",
      "  IMMANUEL KANT\n",
      "\n",
      "  1795\n",
      "\n",
      "\n",
      "  TRANSLATED WITH INTRODUCTION\n",
      "  AND NOTES BY\n",
      "  M. CAMPBELL SMITH, M.A.\n",
      "\n",
      "\n",
      "------------------------------------------\n",
      "  KANT’S\n",
      "  CRITIQUE OF JUDGEMENT\n",
      "\n",
      "\n",
      "  MACMILLAN AND CO., LIMITED\n",
      "  LONDON · BOMBAY · CALCUTTA\n",
      "  MELBOURNE\n",
      "\n",
      "  THE MACMILLAN COMPANY\n",
      "  NEW YORK · BOSTON · CHICAGO\n",
      "  DALLAS · SAN FRANCISCO\n",
      "\n",
      "  THE MACMILLAN CO. OF CANADA, LTD.\n",
      "  TORONTO\n",
      "\n",
      "\n",
      "\n",
      "\n",
      "  KANT’S CRITIQUE OF\n",
      "  JUDGEMENT\n",
      "\n",
      "  TRANSLATED\n",
      "  WITH INTRODUCTION AND NOTES\n",
      "\n",
      "  BY\n",
      "\n",
      "  J. H. BERNARD, D.D., D.C.L.\n",
      "  BISHOP OF OSSORY\n",
      "\n",
      "  SOMETIME FELLOW OF TRINITY COLLEGE, AND ARCHBISHOP KING’S PROFESSOR\n",
      "  OF DIVINITY IN THE UNIVERSITY OF DUBLIN\n",
      "\n",
      "\n",
      "  _SECOND EDITION, REVISED_\n",
      "\n",
      "\n",
      "  MACMILLAN AND CO., LIMITED\n",
      "  ST. MARTIN’S STREET, LONDON\n",
      "  1914\n",
      "\n",
      "\n",
      "\n",
      "\n",
      "COPYRIGHT\n",
      "\n",
      "  _First Edition 1892_\n",
      "  _Second Edition 1914_\n",
      "\n",
      "\n",
      "\n",
      "\n",
      "CONTENTS\n",
      "\n",
      "\n",
      "                                                                    PAGE\n",
      "  EDITOR’S INTRODUCTION                                               xi\n",
      "\n",
      "  PREFACE                                                              1\n",
      "\n",
      "  INTRODUCTION                                                         7\n",
      "\n",
      "       I. Of the division of Philosophy         \n",
      "------------------------------------------\n",
      "Of The Injustice of Counterfeiting Books\n",
      "\n",
      "by Immanuel Kant\n",
      "\n",
      "[Transcriber note: This e-text edition of \"Of the Injustice of\n",
      "Counterfeiting Books\" is, essentially, with some changes or\n",
      "clarifications by the e-text preparer, based on a translation of this\n",
      "essay, from German into English, that was published in 1798 in: Essays\n",
      "and Treatises On Moral, Political and Various Philosophical Subjects,\n",
      "by Immanuel Kant, M.R.A.S.B., and professor of philosophy in the\n",
      "university of Koenigsberg; From the German by the Translator of The\n",
      "Principles of Critical Philosophy; IN TWO VOLUMES; Vol. 1; London:\n",
      "Sold by William Richardson Under the Royal Exchange, 1798; This e-text\n",
      "was prepared by John Mamoun in 2014.  This e-text is not in copyright\n",
      "and is public domain.]\n",
      "\n",
      "*************\n",
      "\n",
      "\n",
      "Of The Injustice of Counterfeiting Books\n",
      "\n",
      "Those who consider the publication of a book to be equivalent to the\n",
      "use of an author's property in the form of a copy (whether the\n",
      "possessor came by it as a manuscript from the autho\n",
      "------------------------------------------\n",
      "\t\t\t\t 1780\n",
      "\n",
      "\t\t THE METAPHYSICAL ELEMENTS OF ETHICS\n",
      "\n",
      "\t\t\t   by Immanuel Kant\n",
      "\n",
      "\t\ttranslated by Thomas Kingsmill Abbott\n",
      "\n",
      "\n",
      "PREFACE\n",
      "\n",
      "If there exists on any subject a philosophy (that is, a system of\n",
      "rational knowledge based on concepts), then there must also be for\n",
      "this philosophy a system of pure rational concepts, independent of any\n",
      "condition of intuition, in other words, a metaphysic. It may be\n",
      "asked whether metaphysical elements are required also for every\n",
      "practical philosophy, which is the doctrine of duties, and therefore\n",
      "also for Ethics, in order to be able to present it as a true science\n",
      "(systematically), not merely as an aggregate of separate doctrines\n",
      "(fragmentarily). As regards pure jurisprudence, no one will question\n",
      "this requirement; for it concerns only what is formal in the\n",
      "elective will, which has to be limited in its external relations\n",
      "according to laws of freedom; without regarding any end which is the\n",
      "matter of this will. Here, therefore, deontology is a mere\n",
      "scientific doc\n",
      "------------------------------------------\n",
      "\t\t\t\t 1788\n",
      "\n",
      "\t\t   THE CRITIQUE OF PRACTICAL REASON\n",
      "\n",
      "\t\t\t   by Immanuel Kant\n",
      "\n",
      "\t\ttranslated by Thomas Kingsmill Abbott\n",
      "\n",
      "\n",
      "PREFACE.\n",
      "\n",
      "This work is called the Critique of Practical Reason, not of the\n",
      "pure practical reason, although its parallelism with the speculative\n",
      "critique would seem to require the latter term. The reason of this\n",
      "appears sufficiently from the treatise itself. Its business is to show\n",
      "that there is pure practical reason, and for this purpose it\n",
      "criticizes the entire practical faculty of reason. If it succeeds in\n",
      "this, it has no need to criticize the pure faculty itself in order\n",
      "to see whether reason in making such a claim does not presumptuously\n",
      "overstep itself (as is the case with the speculative reason). For\n",
      "if, as pure reason, it is actually practical, it proves its own\n",
      "reality and that of its concepts by fact, and all disputation\n",
      "against the possibility of its being real is futile.\n",
      "\n",
      "With this faculty, transcendental freedom is also established;\n",
      "freedom, namely, in that ab\n",
      "------------------------------------------\n",
      "This eBook was prepared by Matthew Stapleton.\n",
      "\n",
      "\n",
      "\n",
      "                                 1785\n",
      "\n",
      "          FUNDAMENTAL PRINCIPLES OF THE METAPHYSIC OF MORALS\n",
      "\n",
      "                           by Immanuel Kant\n",
      "\n",
      "                translated by Thomas Kingsmill Abbott\n",
      "\n",
      "\n",
      "PREFACE\n",
      "\n",
      "\n",
      "\n",
      "Ancient Greek philosophy was divided into three sciences: physics,\n",
      "ethics, and logic. This division is perfectly suitable to the nature\n",
      "of the thing; and the only improvement that can be made in it is to\n",
      "add the principle on which it is based, so that we may both satisfy\n",
      "ourselves of its completeness, and also be able to determine correctly\n",
      "the necessary subdivisions.\n",
      "\n",
      "All rational knowledge is either material or formal: the former\n",
      "considers some object, the latter is concerned only with the form of\n",
      "the understanding and of the reason itself, and with the universal\n",
      "laws of thought in general without distinction of its objects.\n",
      "Formal philosophy is called logic. Material philosophy, however, which has\n",
      "to do with determinate objec\n",
      "------------------------------------------\n",
      "LITERARY AND PHILOSOPHICAL ESSAYS\n",
      "\n",
      "HARVARD CLASSICS V32\n",
      "\n",
      "\n",
      "\n",
      "\n",
      "CONTENTS\n",
      "\n",
      "THAT WE SHOULD NOT JUDGE OF OUR HAPPINESS UNTIL AFTER OUR DEATH THAT\n",
      "TO PHILOSOPHISE IS TO LEARNE How TO DIE OF THE INSTITUTION AND\n",
      "EDUCATION OF CHILDREN OF FRIENDSHIP OF BOOKES BY MONTAIGNE\n",
      "\n",
      "MONTAIGNE\n",
      "\n",
      "WHAT IS A CLASSIC? BY CHASLES-AUGUSTIN SAINTE-BEUVE\n",
      "\n",
      "THE POETRY OF THE CELTIC RACES BY ERNEST RENAN\n",
      "\n",
      "THE EDUCATION OF THE HUMAN RACE BY GOTTHOLD EPHRAIM LESSING\n",
      "\n",
      "LETTERS UPON THE AESTHETIC EDUCATION OF MAN BY J. C. FRIEDRICH VON\n",
      "SCHILLER\n",
      "\n",
      "FUNDAMENTAL PRINCIPLES OF THE METAPHYSIC OF MORALS\n",
      "\n",
      "TRANSITION FROM POPULAR MORAL PHILOSOPHY TO THE METAPHYSIC OF MORALS\n",
      "\n",
      "IMMANUEL KANT\n",
      "\n",
      "BYRON AND GOETHE BY GIUSEPPE MAZZINI\n",
      "\n",
      "\n",
      "\n",
      "INTRODUCTORY NOTE\n",
      "\n",
      "Michel Eyquem De Montaigne, the founder of the modern Essay, was\n",
      "born February 28, 1533, at the chateau of Montaigne in Pirigord. He\n",
      "came of a family of wealthy merchants of Bordeaux, and was educated\n",
      "at the College de Guyenne, where he had among his teachers the great\n",
      "Scottish Latinist, Geo\n",
      "------------------------------------------\n",
      "[Illustration]\n",
      "\n",
      "\n",
      "The Critique of Pure Reason\n",
      "\n",
      "By Immanuel Kant\n",
      "\n",
      "Translated by J. M. D. Meiklejohn\n",
      "\n",
      "\n",
      "\n",
      "\n",
      "Contents\n",
      "\n",
      " Preface to the First Edition (1781)\n",
      "\n",
      " Preface to the Second Edition (1787)\n",
      "\n",
      " Introduction\n",
      "\n",
      " I. Of the difference between Pure and Empirical Knowledge\n",
      "\n",
      " II. The Human Intellect, even in an Unphilosophical State, is in\n",
      " Possession of Certain Cognitions “à priori”.\n",
      "\n",
      " III. Philosophy stands in need of a Science which shall Determine the\n",
      " Possibility, Principles, and Extent of Human Knowledge “à priori”\n",
      "\n",
      " IV. Of the Difference Between Analytical and Synthetical Judgements.\n",
      "\n",
      " V. In all Theoretical Sciences of Reason, Synthetical Judgements “à\n",
      " priori” are contained as Principles.\n",
      "\n",
      " VI. The Universal Problem of Pure Reason.\n",
      "\n",
      " VII. Idea and Division of a Particular Science, under the Name of a\n",
      " Critique of Pure Reason.\n",
      "\n",
      "\n",
      " I. Transcendental Doctrine of Elements\n",
      "\n",
      "\n",
      " First Part—TRANSCENDENTAL ÆSTHETIC\n",
      "\n",
      "\n",
      " § 1. Introductory\n",
      "\n",
      "\n",
      " SECTION I. OF SPACE\n",
      "\n",
      "\n",
      " § 2. Metaphysical Exposition of this Co\n",
      "------------------------------------------\n"
     ]
    }
   ],
   "source": [
    "for sl in sl2:\n",
    "    print(sl['text'][:1000])\n",
    "    print('------------------------------------------')"
   ]
  },
  {
   "cell_type": "code",
   "execution_count": null,
   "id": "01a2683b-4b95-4778-a4b3-4c7db9ea831a",
   "metadata": {},
   "outputs": [],
   "source": [
    "tr = gd.load_book('55925')"
   ]
  },
  {
   "cell_type": "code",
   "execution_count": null,
   "id": "4eb7cece-ecea-40c8-9b0f-4e5899efff11",
   "metadata": {},
   "outputs": [],
   "source": [
    "tr[:1000]"
   ]
  },
  {
   "cell_type": "code",
   "execution_count": null,
   "id": "1c0a64c4-e566-45cb-8896-4e6605b5e41d",
   "metadata": {},
   "outputs": [],
   "source": []
  }
 ],
 "metadata": {
  "kernelspec": {
   "display_name": "Python 3 (ipykernel)",
   "language": "python",
   "name": "python3"
  },
  "language_info": {
   "codemirror_mode": {
    "name": "ipython",
    "version": 3
   },
   "file_extension": ".py",
   "mimetype": "text/x-python",
   "name": "python",
   "nbconvert_exporter": "python",
   "pygments_lexer": "ipython3",
   "version": "3.9.9"
  }
 },
 "nbformat": 4,
 "nbformat_minor": 5
}

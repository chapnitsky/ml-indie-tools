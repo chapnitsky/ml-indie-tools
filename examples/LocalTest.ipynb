{
 "cells": [
  {
   "cell_type": "code",
   "execution_count": 1,
   "id": "14a8e822-346d-4e6e-8885-d488055dc8c2",
   "metadata": {},
   "outputs": [],
   "source": [
    "import sys\n",
    "sys.path.append('../src/ml_indie_tools')  # Point to local module source"
   ]
  },
  {
   "cell_type": "code",
   "execution_count": 2,
   "id": "4ee64338-a79b-4bf2-9cb3-4777545a3890",
   "metadata": {},
   "outputs": [],
   "source": [
    "from env_tools import MLEnv"
   ]
  },
  {
   "cell_type": "code",
   "execution_count": 9,
   "id": "aee4ecf2-6c4c-4338-97dd-7512f85f7a56",
   "metadata": {},
   "outputs": [
    {
     "name": "stderr",
     "output_type": "stream",
     "text": [
      "DEBUG:MLEnv:Jax not available\n",
      "DEBUG:MLEnv:You are on a Jupyter instance.\n",
      "DEBUG:MLEnv:You are not on a Colab instance, so no Google Drive access is possible.\n",
      "INFO:MLEnv:OS: Darwin, Python: 3.9.9 (Conda), Jupyter Notebook (no-ml-platform) \n"
     ]
    },
    {
     "data": {
      "text/plain": [
       "'OS: Darwin, Python: 3.9.9 (Conda), Jupyter Notebook (no-ml-platform) '"
      ]
     },
     "execution_count": 9,
     "metadata": {},
     "output_type": "execute_result"
    }
   ],
   "source": [
    "ml=MLEnv(platform='jax', accelerator='gpu')\n",
    "ml.describe()"
   ]
  },
  {
   "cell_type": "code",
   "execution_count": 4,
   "id": "00a3323b-e3bc-44e2-a84e-287f0d63e6ca",
   "metadata": {},
   "outputs": [],
   "source": [
    "import logging\n",
    "logging.basicConfig(encoding='utf-8', level=logging.DEBUG)\n",
    "from Gutenberg_Dataset import Gutenberg_Dataset"
   ]
  },
  {
   "cell_type": "code",
   "execution_count": 5,
   "id": "eab38dc3-a202-4a20-aa56-1ddb68999d36",
   "metadata": {},
   "outputs": [
    {
     "name": "stderr",
     "output_type": "stream",
     "text": [
      "DEBUG:GutenbergLib:Cache timestamp read.\n",
      "INFO:GutenbergLib:Gutenberg index read from local cache: gutenberg/gutenberg_index\n"
     ]
    }
   ],
   "source": [
    "gd=Gutenberg_Dataset()\n",
    "gd.load_index()"
   ]
  },
  {
   "cell_type": "code",
   "execution_count": 6,
   "id": "17c63d12-3cbf-47a6-ac73-3d72524f8f62",
   "metadata": {},
   "outputs": [],
   "source": [
    "# gd.search?\n",
    "sl=gd.search({'author': 'kant', 'language': 'german'})"
   ]
  },
  {
   "cell_type": "code",
   "execution_count": 7,
   "id": "406c1e93-fc9c-4ea9-be6c-850ea7a53261",
   "metadata": {},
   "outputs": [
    {
     "name": "stderr",
     "output_type": "stream",
     "text": [
      "INFO:GutenbergLib:Book read from cache at gutenberg/56182.txt\n",
      "DEBUG:GutenbergLib:Start-token [*** START OF THIS PROJECT] found at position 840\n",
      "DEBUG:GutenbergLib:Near-Start-token [Produced by ] found at position 0\n",
      "DEBUG:GutenbergLib:Near-Start-token [Distributed Proofreading Team] found at position 62\n",
      "DEBUG:GutenbergLib:Trying extra skipping (2) for 53...\n",
      "DEBUG:GutenbergLib:Additionally shortened start by 125 chars\n",
      "DEBUG:GutenbergLib:End-token [End of the Project Gutenberg] found at pos 587273\n",
      "INFO:GutenbergLib:Book read from cache at gutenberg/55925.txt\n",
      "DEBUG:GutenbergLib:Start-token [*** START OF THIS PROJECT] found at position 718\n",
      "DEBUG:GutenbergLib:Near-Start-token [Produced by ] found at position 0\n",
      "DEBUG:GutenbergLib:Near-Start-token [Distributed Proofreading Team] found at position 57\n",
      "DEBUG:GutenbergLib:Trying extra skipping (2) for 52...\n",
      "DEBUG:GutenbergLib:Additionally shortened start by 119 chars\n",
      "DEBUG:GutenbergLib:End-token [*** END OF THIS PROJECT] found at pos 905105\n",
      "DEBUG:GutenbergLib:End-token [End of Project Gutenberg] found at pos 905031\n",
      "INFO:GutenbergLib:Book read from cache at gutenberg/49543.txt\n",
      "DEBUG:GutenbergLib:Start-token [*** START OF THIS PROJECT] found at position 724\n",
      "DEBUG:GutenbergLib:Near-Start-token [Produced by ] found at position 0\n",
      "DEBUG:GutenbergLib:Near-Start-token [Distributed Proofreading Team] found at position 57\n",
      "DEBUG:GutenbergLib:Trying extra skipping (2) for 52...\n",
      "DEBUG:GutenbergLib:Additionally shortened start by 119 chars\n",
      "DEBUG:GutenbergLib:End-token [*** END OF THIS PROJECT] found at pos 487003\n",
      "DEBUG:GutenbergLib:End-token [End of Project Gutenberg] found at pos 486929\n",
      "INFO:GutenbergLib:Book read from cache at gutenberg/46873.txt\n",
      "DEBUG:GutenbergLib:Start-token [*** START OF THIS PROJECT] found at position 703\n",
      "DEBUG:GutenbergLib:Near-Start-token [Produced by ] found at position 0\n",
      "DEBUG:GutenbergLib:Trying extra skipping (2) for 98...\n",
      "DEBUG:GutenbergLib:Additionally shortened start by 108 chars\n",
      "DEBUG:GutenbergLib:End-token [End of the Project Gutenberg] found at pos 115538\n",
      "INFO:GutenbergLib:Book read from cache at gutenberg/41197.txt\n",
      "DEBUG:GutenbergLib:Start-token [*** START OF THIS PROJECT] found at position 545\n",
      "DEBUG:GutenbergLib:Near-Start-token [Produced by ] found at position 0\n",
      "DEBUG:GutenbergLib:Near-Start-token [Distributed Proofreading Team] found at position 57\n",
      "DEBUG:GutenbergLib:Trying extra skipping (2) for 52...\n",
      "DEBUG:GutenbergLib:Additionally shortened start by 116 chars\n",
      "DEBUG:GutenbergLib:End-token [End of the Project Gutenberg] found at pos 126587\n",
      "INFO:GutenbergLib:Book read from cache at gutenberg/38755.txt\n",
      "DEBUG:GutenbergLib:Start-token [*** START OF THIS PROJECT] found at position 485\n",
      "DEBUG:GutenbergLib:Near-Start-token [Produced by ] found at position 0\n",
      "DEBUG:GutenbergLib:Trying extra skipping (2) for 44...\n",
      "DEBUG:GutenbergLib:Additionally shortened start by 50 chars\n",
      "DEBUG:GutenbergLib:End-token [*** END OF THIS PROJECT] found at pos 20198\n",
      "DEBUG:GutenbergLib:End-token [End of Project Gutenberg] found at pos 20126\n",
      "INFO:GutenbergLib:Book read from cache at gutenberg/38754.txt\n",
      "DEBUG:GutenbergLib:Start-token [*** START OF THIS PROJECT] found at position 500\n",
      "DEBUG:GutenbergLib:Near-Start-token [Produced by ] found at position 0\n",
      "DEBUG:GutenbergLib:Trying extra skipping (2) for 44...\n",
      "DEBUG:GutenbergLib:Additionally shortened start by 50 chars\n",
      "DEBUG:GutenbergLib:End-token [End of the Project Gutenberg] found at pos 39792\n",
      "INFO:GutenbergLib:Book read from cache at gutenberg/38295.txt\n",
      "DEBUG:GutenbergLib:Start-token [*** START OF THIS PROJECT] found at position 646\n",
      "DEBUG:GutenbergLib:Near-Start-token [Produced by ] found at position 0\n",
      "DEBUG:GutenbergLib:Near-Start-token [Distributed Proofreading Team] found at position 57\n",
      "DEBUG:GutenbergLib:Trying extra skipping (2) for 52...\n",
      "DEBUG:GutenbergLib:Additionally shortened start by 116 chars\n",
      "DEBUG:GutenbergLib:End-token [End of the Project Gutenberg] found at pos 70764\n",
      "INFO:GutenbergLib:Book read from cache at gutenberg/36076.txt\n",
      "DEBUG:GutenbergLib:Start-token [*** START OF THIS PROJECT] found at position 561\n",
      "DEBUG:GutenbergLib:Near-Start-token [Produced by ] found at position 0\n",
      "DEBUG:GutenbergLib:Trying extra skipping (2) for 89...\n",
      "DEBUG:GutenbergLib:Additionally shortened start by 96 chars\n",
      "DEBUG:GutenbergLib:End-token [End of the Project Gutenberg] found at pos 150711\n",
      "INFO:GutenbergLib:Book read from cache at gutenberg/30821.txt\n",
      "DEBUG:GutenbergLib:Start-token [*** START OF THIS PROJECT] found at position 523\n",
      "DEBUG:GutenbergLib:Near-Start-token [Produced by ] found at position 0\n",
      "DEBUG:GutenbergLib:Trying extra skipping (2) for 44...\n",
      "DEBUG:GutenbergLib:Additionally shortened start by 50 chars\n",
      "DEBUG:GutenbergLib:End-token [End of the Project Gutenberg] found at pos 20000\n",
      "INFO:GutenbergLib:Book read from cache at gutenberg/6343.txt\n",
      "DEBUG:GutenbergLib:Start-token [START OF THE PROJECT GUTENBERG] found at position 1260\n",
      "DEBUG:GutenbergLib:Near-Start-token [, prepared by] found at position 119\n",
      "DEBUG:GutenbergLib:Trying extra skipping (2) for 28...\n",
      "DEBUG:GutenbergLib:Additionally shortened start by 152 chars\n",
      "DEBUG:GutenbergLib:End-token [*** END OF THE PROJECT GUTENBERG] found at pos 1284699\n",
      "INFO:GutenbergLib:Book read from cache at gutenberg/6342.txt\n",
      "DEBUG:GutenbergLib:Start-token [START OF THE PROJECT GUTENBERG] found at position 1260\n",
      "DEBUG:GutenbergLib:Near-Start-token [, prepared by] found at position 119\n",
      "DEBUG:GutenbergLib:Trying extra skipping (2) for 28...\n",
      "DEBUG:GutenbergLib:Additionally shortened start by 152 chars\n",
      "DEBUG:GutenbergLib:End-token [*** END OF THE PROJECT GUTENBERG] found at pos 1220647\n"
     ]
    }
   ],
   "source": [
    "sl2=gd.insert_book_texts(sl)"
   ]
  },
  {
   "cell_type": "code",
   "execution_count": null,
   "id": "69be741a-4ec9-4761-9b38-2f2c4971c284",
   "metadata": {},
   "outputs": [],
   "source": [
    "for r in sl2:\n",
    "    r['text']=r['text'][:2000] + \"\\n\\n\\n\\n------ . . . --------\\n\\n\\n\\n\" + r['text'][-2000:]\n",
    "    print(r)\n",
    "    print()\n",
    "    print()"
   ]
  },
  {
   "cell_type": "code",
   "execution_count": null,
   "id": "39af153d-6ea2-4ce1-9e0d-91923f04565e",
   "metadata": {},
   "outputs": [],
   "source": []
  }
 ],
 "metadata": {
  "kernelspec": {
   "display_name": "Python 3 (ipykernel)",
   "language": "python",
   "name": "python3"
  },
  "language_info": {
   "codemirror_mode": {
    "name": "ipython",
    "version": 3
   },
   "file_extension": ".py",
   "mimetype": "text/x-python",
   "name": "python",
   "nbconvert_exporter": "python",
   "pygments_lexer": "ipython3",
   "version": "3.9.9"
  }
 },
 "nbformat": 4,
 "nbformat_minor": 5
}

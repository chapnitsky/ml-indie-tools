{
 "cells": [
  {
   "cell_type": "code",
   "execution_count": 1,
   "id": "14a8e822-346d-4e6e-8885-d488055dc8c2",
   "metadata": {},
   "outputs": [],
   "source": [
    "import sys\n",
    "sys.path.append('../src/ml_indie_tools')  # Point to local module source"
   ]
  },
  {
   "cell_type": "code",
   "execution_count": 2,
   "id": "4ee64338-a79b-4bf2-9cb3-4777545a3890",
   "metadata": {},
   "outputs": [],
   "source": [
    "from env_tools import MLEnv"
   ]
  },
  {
   "cell_type": "code",
   "execution_count": 3,
   "id": "aee4ecf2-6c4c-4338-97dd-7512f85f7a56",
   "metadata": {},
   "outputs": [
    {
     "data": {
      "text/plain": [
       "'OS: Darwin, Python: 3.9.9 (Conda), Jupyter Notebook (no-ml-platform) '"
      ]
     },
     "execution_count": 3,
     "metadata": {},
     "output_type": "execute_result"
    }
   ],
   "source": [
    "ml=MLEnv(platform='jax', accelerator='gpu')\n",
    "ml.describe()"
   ]
  },
  {
   "cell_type": "code",
   "execution_count": 4,
   "id": "00a3323b-e3bc-44e2-a84e-287f0d63e6ca",
   "metadata": {},
   "outputs": [],
   "source": [
    "import logging\n",
    "logging.basicConfig(encoding='utf-8', level=logging.DEBUG)\n",
    "from Gutenberg_Dataset import Gutenberg_Dataset"
   ]
  },
  {
   "cell_type": "code",
   "execution_count": 5,
   "id": "eab38dc3-a202-4a20-aa56-1ddb68999d36",
   "metadata": {},
   "outputs": [
    {
     "name": "stderr",
     "output_type": "stream",
     "text": [
      "DEBUG:GutenbergLib:Cache timestamp read.\n",
      "INFO:GutenbergLib:Gutenberg index read from local cache: gutenberg/gutenberg_index\n"
     ]
    }
   ],
   "source": [
    "gd=Gutenberg_Dataset()\n",
    "gd.load_index()"
   ]
  },
  {
   "cell_type": "code",
   "execution_count": 6,
   "id": "41c279fe-1fdd-4b1a-85c8-09c4e6b8fe78",
   "metadata": {},
   "outputs": [
    {
     "data": {
      "text/plain": [
       "\u001b[0;31mSignature:\u001b[0m \u001b[0mgd\u001b[0m\u001b[0;34m.\u001b[0m\u001b[0msearch\u001b[0m\u001b[0;34m(\u001b[0m\u001b[0msearch_dict\u001b[0m\u001b[0;34m)\u001b[0m\u001b[0;34m\u001b[0m\u001b[0;34m\u001b[0m\u001b[0m\n",
       "\u001b[0;31mDocstring:\u001b[0m\n",
       "Search for book record with key specific key values\n",
       "For a list of valid keys, use `get_record_keys()`\n",
       "Standard keys are: `ebook_id`, `author`, `language`, `title`\n",
       "\n",
       "*Note:* :func:`~Gutenberg_Dataset.Gutenberg_Dataset.load_index` needs to be called once before this function can be used.\n",
       "\n",
       "Example: `search({\"title\": [\"philosoph\",\"phenomen\",\"physic\",\"hermeneu\",\"logic\"], \"language\":\"english\"})`\n",
       "Find all books whose titles contain at least one of the keywords, language english. Search keys can either be\n",
       "search for a single keyword (e.g. english), or an array of keywords. \n",
       "\n",
       ":returns: list of records \n",
       "\u001b[0;31mFile:\u001b[0m      ~/gith/domschl/ml-indie-tools/src/ml_indie_tools/Gutenberg_Dataset.py\n",
       "\u001b[0;31mType:\u001b[0m      method\n"
      ]
     },
     "metadata": {},
     "output_type": "display_data"
    }
   ],
   "source": [
    "gd.search?"
   ]
  },
  {
   "cell_type": "code",
   "execution_count": 7,
   "id": "1e17f0c8-3e05-42f3-94c5-9fb3f485f220",
   "metadata": {},
   "outputs": [],
   "source": [
    "sl=gd.search({'author': 'kant', 'language': 'german'})"
   ]
  },
  {
   "cell_type": "code",
   "execution_count": 8,
   "id": "406c1e93-fc9c-4ea9-be6c-850ea7a53261",
   "metadata": {},
   "outputs": [
    {
     "name": "stderr",
     "output_type": "stream",
     "text": [
      "INFO:GutenbergLib:Book read from cache at gutenberg/56182.txt\n",
      "DEBUG:GutenbergLib:Start-token [*** START OF THIS PROJECT] found at position 840\n",
      "DEBUG:GutenbergLib:Near-Start-token [Produced by ] found at position 0\n",
      "DEBUG:GutenbergLib:Near-Start-token [Distributed Proofreading Team] found at position 62\n",
      "DEBUG:GutenbergLib:Trying extra skipping (2) for 53...\n",
      "DEBUG:GutenbergLib:Additionally shortened start by 125 chars\n",
      "DEBUG:GutenbergLib:End-token [End of the Project Gutenberg] found at pos 587273\n",
      "INFO:GutenbergLib:Book read from cache at gutenberg/55925.txt\n",
      "DEBUG:GutenbergLib:Start-token [*** START OF THIS PROJECT] found at position 718\n",
      "DEBUG:GutenbergLib:Near-Start-token [Produced by ] found at position 0\n",
      "DEBUG:GutenbergLib:Near-Start-token [Distributed Proofreading Team] found at position 57\n",
      "DEBUG:GutenbergLib:Trying extra skipping (2) for 52...\n",
      "DEBUG:GutenbergLib:Additionally shortened start by 119 chars\n",
      "DEBUG:GutenbergLib:End-token [*** END OF THIS PROJECT] found at pos 905105\n",
      "DEBUG:GutenbergLib:End-token [End of Project Gutenberg] found at pos 905031\n",
      "INFO:GutenbergLib:Book read from cache at gutenberg/49543.txt\n",
      "DEBUG:GutenbergLib:Start-token [*** START OF THIS PROJECT] found at position 724\n",
      "DEBUG:GutenbergLib:Near-Start-token [Produced by ] found at position 0\n",
      "DEBUG:GutenbergLib:Near-Start-token [Distributed Proofreading Team] found at position 57\n",
      "DEBUG:GutenbergLib:Trying extra skipping (2) for 52...\n",
      "DEBUG:GutenbergLib:Additionally shortened start by 119 chars\n",
      "DEBUG:GutenbergLib:End-token [*** END OF THIS PROJECT] found at pos 487003\n",
      "DEBUG:GutenbergLib:End-token [End of Project Gutenberg] found at pos 486929\n",
      "INFO:GutenbergLib:Book read from cache at gutenberg/46873.txt\n",
      "DEBUG:GutenbergLib:Start-token [*** START OF THIS PROJECT] found at position 703\n",
      "DEBUG:GutenbergLib:Near-Start-token [Produced by ] found at position 0\n",
      "DEBUG:GutenbergLib:Trying extra skipping (2) for 98...\n",
      "DEBUG:GutenbergLib:Additionally shortened start by 108 chars\n",
      "DEBUG:GutenbergLib:End-token [End of the Project Gutenberg] found at pos 115538\n",
      "INFO:GutenbergLib:Book read from cache at gutenberg/41197.txt\n",
      "DEBUG:GutenbergLib:Start-token [*** START OF THIS PROJECT] found at position 545\n",
      "DEBUG:GutenbergLib:Near-Start-token [Produced by ] found at position 0\n",
      "DEBUG:GutenbergLib:Near-Start-token [Distributed Proofreading Team] found at position 57\n",
      "DEBUG:GutenbergLib:Trying extra skipping (2) for 52...\n",
      "DEBUG:GutenbergLib:Additionally shortened start by 116 chars\n",
      "DEBUG:GutenbergLib:End-token [End of the Project Gutenberg] found at pos 126587\n",
      "INFO:GutenbergLib:Book read from cache at gutenberg/38755.txt\n",
      "DEBUG:GutenbergLib:Start-token [*** START OF THIS PROJECT] found at position 485\n",
      "DEBUG:GutenbergLib:Near-Start-token [Produced by ] found at position 0\n",
      "DEBUG:GutenbergLib:Trying extra skipping (2) for 44...\n",
      "DEBUG:GutenbergLib:Additionally shortened start by 50 chars\n",
      "DEBUG:GutenbergLib:End-token [*** END OF THIS PROJECT] found at pos 20198\n",
      "DEBUG:GutenbergLib:End-token [End of Project Gutenberg] found at pos 20126\n",
      "INFO:GutenbergLib:Book read from cache at gutenberg/38754.txt\n",
      "DEBUG:GutenbergLib:Start-token [*** START OF THIS PROJECT] found at position 500\n",
      "DEBUG:GutenbergLib:Near-Start-token [Produced by ] found at position 0\n",
      "DEBUG:GutenbergLib:Trying extra skipping (2) for 44...\n",
      "DEBUG:GutenbergLib:Additionally shortened start by 50 chars\n",
      "DEBUG:GutenbergLib:End-token [End of the Project Gutenberg] found at pos 39792\n",
      "INFO:GutenbergLib:Book read from cache at gutenberg/38295.txt\n",
      "DEBUG:GutenbergLib:Start-token [*** START OF THIS PROJECT] found at position 646\n",
      "DEBUG:GutenbergLib:Near-Start-token [Produced by ] found at position 0\n",
      "DEBUG:GutenbergLib:Near-Start-token [Distributed Proofreading Team] found at position 57\n",
      "DEBUG:GutenbergLib:Trying extra skipping (2) for 52...\n",
      "DEBUG:GutenbergLib:Additionally shortened start by 116 chars\n",
      "DEBUG:GutenbergLib:End-token [End of the Project Gutenberg] found at pos 70764\n",
      "INFO:GutenbergLib:Book read from cache at gutenberg/36076.txt\n",
      "DEBUG:GutenbergLib:Start-token [*** START OF THIS PROJECT] found at position 561\n",
      "DEBUG:GutenbergLib:Near-Start-token [Produced by ] found at position 0\n",
      "DEBUG:GutenbergLib:Trying extra skipping (2) for 89...\n",
      "DEBUG:GutenbergLib:Additionally shortened start by 96 chars\n",
      "DEBUG:GutenbergLib:End-token [End of the Project Gutenberg] found at pos 150711\n",
      "INFO:GutenbergLib:Book read from cache at gutenberg/30821.txt\n",
      "DEBUG:GutenbergLib:Start-token [*** START OF THIS PROJECT] found at position 523\n",
      "DEBUG:GutenbergLib:Near-Start-token [Produced by ] found at position 0\n",
      "DEBUG:GutenbergLib:Trying extra skipping (2) for 44...\n",
      "DEBUG:GutenbergLib:Additionally shortened start by 50 chars\n",
      "DEBUG:GutenbergLib:End-token [End of the Project Gutenberg] found at pos 20000\n",
      "INFO:GutenbergLib:Book read from cache at gutenberg/6343.txt\n",
      "DEBUG:GutenbergLib:Start-token [START OF THE PROJECT GUTENBERG] found at position 1260\n",
      "DEBUG:GutenbergLib:Near-Start-token [, prepared by] found at position 119\n",
      "DEBUG:GutenbergLib:Trying extra skipping (2) for 28...\n",
      "DEBUG:GutenbergLib:Additionally shortened start by 152 chars\n",
      "DEBUG:GutenbergLib:End-token [*** END OF THE PROJECT GUTENBERG] found at pos 1284699\n",
      "INFO:GutenbergLib:Book read from cache at gutenberg/6342.txt\n",
      "DEBUG:GutenbergLib:Start-token [START OF THE PROJECT GUTENBERG] found at position 1260\n",
      "DEBUG:GutenbergLib:Near-Start-token [, prepared by] found at position 119\n",
      "DEBUG:GutenbergLib:Trying extra skipping (2) for 28...\n",
      "DEBUG:GutenbergLib:Additionally shortened start by 152 chars\n",
      "DEBUG:GutenbergLib:End-token [*** END OF THE PROJECT GUTENBERG] found at pos 1220647\n"
     ]
    }
   ],
   "source": [
    "sl2=gd.insert_book_texts(sl)"
   ]
  },
  {
   "cell_type": "code",
   "execution_count": 9,
   "id": "39af153d-6ea2-4ce1-9e0d-91923f04565e",
   "metadata": {},
   "outputs": [],
   "source": [
    "from Text_Dataset import *"
   ]
  },
  {
   "cell_type": "code",
   "execution_count": 10,
   "id": "27252f30-fbad-426c-a110-18b9cdd32456",
   "metadata": {},
   "outputs": [
    {
     "name": "stderr",
     "output_type": "stream",
     "text": [
      "INFO:Datasets:Loaded 12 texts\n"
     ]
    }
   ],
   "source": [
    "tl = Text_Dataset(sl2)"
   ]
  },
  {
   "cell_type": "code",
   "execution_count": 11,
   "id": "69805c0b-3584-45e1-bd2c-0032822eb2cd",
   "metadata": {},
   "outputs": [
    {
     "name": "stdout",
     "output_type": "stream",
     "text": [
      "Kritik der reinen Vernunft (2nd Edition)\n",
      "ich der objektiven Erkenntnis der Erscheinungen, in Ansehung des Verhältnisses d\n",
      "\n",
      "Was hei?: sich im Denken orientieren?\n",
      "r Eingebung folgt, so müssen zuletzt aus inneren Eingebungen durch äußere Zeugni\n",
      "\n",
      "Beantwortung der Frage: Was ist Aufkl?ng?\n",
      "runo Cassirer 1913. S. 167-176 und 538-539 (Lesarten). Schreibweise und Int\n",
      "\n"
     ]
    }
   ],
   "source": [
    "for i in range(3):\n",
    "    idx, txt = tl.get_random_sample(80, weighted=False)\n",
    "    print(tl.text_list[idx]['title'])\n",
    "    print(txt)\n",
    "    print()"
   ]
  },
  {
   "cell_type": "code",
   "execution_count": 12,
   "id": "3fbfee4b-4458-42a8-bc36-420dfbf14352",
   "metadata": {},
   "outputs": [
    {
     "name": "stdout",
     "output_type": "stream",
     "text": [
      "Beantwortung der Frage: Was ist Aufkl?ng?\n",
      "runo Cassirer 1913. S. 167-176 und 538-539 (Lesarten). Schreibweise und Int\n"
     ]
    }
   ],
   "source": [
    "print(tl.text_list[idx]['title'])\n",
    "print(txt)\n",
    "    "
   ]
  },
  {
   "cell_type": "code",
   "execution_count": 13,
   "id": "48862f3c-1acd-4b6b-a999-342033d3ab3f",
   "metadata": {},
   "outputs": [
    {
     "data": {
      "text/plain": [
       "[0.11679856738949536,\n",
       " 0.2967947249257362,\n",
       " 0.3936365458876091,\n",
       " 0.41661416095070347,\n",
       " 0.4417892595580291,\n",
       " 0.4457908315473434,\n",
       " 0.4537034827200506,\n",
       " 0.46777620790990654,\n",
       " 0.4977490163133668,\n",
       " 0.501725528756426,\n",
       " 0.7572322646033511,\n",
       " 1.0]"
      ]
     },
     "execution_count": 13,
     "metadata": {},
     "output_type": "execute_result"
    }
   ],
   "source": [
    "tl.tcum"
   ]
  },
  {
   "cell_type": "code",
   "execution_count": 14,
   "id": "ef34dae3-87f8-4538-9ad4-37959016b784",
   "metadata": {},
   "outputs": [
    {
     "data": {
      "text/html": [
       "<span style=\"background-color:#eadbd8;\">Wenn wir irgend</span><sup>[3]</sup>was<span style=\"background-color:#eadbd8;\"> schreiben, </span><sup>[3]</sup>daß T<span style=\"background-color:#d6dbdf;\">eil aus der </span><sup>[11]</sup>Sourc<span style=\"background-color:#d8daef;\">e enthält, </span><sup>[1]</sup>so wi<span style=\"background-color:#d8daef;\">e: Das ist</span><sup>[1]</sup><span style=\"background-color:#d6dbdf;\"> ihr Wahlspruch, </span><sup>[11]</sup>dann<span style=\"background-color:#d6dbdf;\"> erfolgt e</span><sup>[11]</sup>in Highlight"
      ],
      "text/plain": [
       "<IPython.core.display.HTML object>"
      ]
     },
     "metadata": {},
     "output_type": "display_data"
    },
    {
     "data": {
      "text/html": [
       "<small><p style=\"text-align:right;\">Sources: <span style=\"background-color:#eadbd8;\">Immanuel Kant: Kant's gesammelte Schriften</span><sup>[3]</sup>, <span style=\"background-color:#d6dbdf;\">Immanuel Kant: Kritik der reinen Vernunft (2nd Edition)</span><sup>[11]</sup>, <span style=\"background-color:#d8daef;\">Immanuel Kant: Die Religion innerhalb der Grenzen der bloßen Vernunft</span><sup>[1]</sup></p></small>"
      ],
      "text/plain": [
       "<IPython.core.display.HTML object>"
      ]
     },
     "metadata": {},
     "output_type": "display_data"
    }
   ],
   "source": [
    "tl.source_highlight(\"Wenn wir irgendwas schreiben, daß Teil aus der Source enthält, so wie: Das ist ihr Wahlspruch, dann erfolgt ein Highlight\")"
   ]
  },
  {
   "cell_type": "code",
   "execution_count": 23,
   "id": "f3cb766b-1860-427d-bc72-1e9fcf784920",
   "metadata": {},
   "outputs": [
    {
     "data": {
      "text/plain": [
       "['Das', 'ist', 'ja', 'mal', 'ein', 'Test']"
      ]
     },
     "execution_count": 23,
     "metadata": {},
     "output_type": "execute_result"
    }
   ],
   "source": [
    "test_text=\"Das ist ja mal ein Test\"\n",
    "st = tl.tokenize(test_text)\n",
    "st"
   ]
  },
  {
   "cell_type": "code",
   "execution_count": 24,
   "id": "489412be-911f-48d8-84df-70e3949a69c1",
   "metadata": {},
   "outputs": [
    {
     "data": {
      "text/plain": [
       "[656, 442, 2559, 16012, 436, 0]"
      ]
     },
     "execution_count": 24,
     "metadata": {},
     "output_type": "execute_result"
    }
   ],
   "source": [
    "el=tl.encode(test_text)\n",
    "el"
   ]
  },
  {
   "cell_type": "code",
   "execution_count": 25,
   "id": "45249215-fba0-4643-a6e1-a9ab782ce899",
   "metadata": {},
   "outputs": [
    {
     "data": {
      "text/plain": [
       "'Dasistjamalein<unk>'"
      ]
     },
     "execution_count": 25,
     "metadata": {},
     "output_type": "execute_result"
    }
   ],
   "source": [
    "tl.decode(el)"
   ]
  },
  {
   "cell_type": "code",
   "execution_count": null,
   "id": "ddde3e15-2d61-4282-b8d2-776f52093287",
   "metadata": {},
   "outputs": [],
   "source": []
  }
 ],
 "metadata": {
  "kernelspec": {
   "display_name": "Python 3 (ipykernel)",
   "language": "python",
   "name": "python3"
  },
  "language_info": {
   "codemirror_mode": {
    "name": "ipython",
    "version": 3
   },
   "file_extension": ".py",
   "mimetype": "text/x-python",
   "name": "python",
   "nbconvert_exporter": "python",
   "pygments_lexer": "ipython3",
   "version": "3.9.9"
  }
 },
 "nbformat": 4,
 "nbformat_minor": 5
}
